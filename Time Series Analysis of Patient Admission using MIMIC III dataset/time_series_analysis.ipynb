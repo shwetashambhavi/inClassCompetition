{
  "nbformat": 4,
  "nbformat_minor": 0,
  "metadata": {
    "colab": {
      "name": "AI Group Project 2.ipynb",
      "provenance": [],
      "collapsed_sections": [],
      "toc_visible": true
    },
    "kernelspec": {
      "name": "python3",
      "display_name": "Python 3"
    },
    "language_info": {
      "name": "python"
    }
  },
  "cells": [
    {
      "cell_type": "code",
      "metadata": {
        "id": "L9Xv-XvdnAlU"
      },
      "source": [
        "import numpy as np \n",
        "import pandas as pd \n",
        "\n",
        "import matplotlib.pyplot as plt\n",
        "import seaborn as sns\n",
        "from scipy.stats import norm\n",
        "from sklearn.preprocessing import StandardScaler\n",
        "from scipy import stats\n",
        "\n",
        "\n",
        "from sklearn.model_selection import train_test_split\n",
        "from sklearn.model_selection import StratifiedKFold\n",
        "\n",
        "from sklearn.model_selection import cross_val_score\n",
        "from sklearn import metrics\n",
        "\n",
        "#models\n",
        "from sklearn.linear_model import LinearRegression\n",
        "from sklearn.metrics import mean_squared_error, mean_absolute_error\n",
        "from sklearn.preprocessing import PolynomialFeatures\n",
        "\n",
        "%matplotlib inline"
      ],
      "execution_count": null,
      "outputs": []
    },
    {
      "cell_type": "markdown",
      "metadata": {
        "id": "gWF_c5h1obsa"
      },
      "source": [
        "# Preparing Dataset"
      ]
    },
    {
      "cell_type": "code",
      "metadata": {
        "id": "SiECl8hPoXbv"
      },
      "source": [
        "dataset = pd.read_csv('ADMISSIONS.csv') "
      ],
      "execution_count": null,
      "outputs": []
    },
    {
      "cell_type": "code",
      "metadata": {
        "colab": {
          "base_uri": "https://localhost:8080/",
          "height": 343
        },
        "id": "SIiyhsVnpwVC",
        "outputId": "13cf07e2-b150-41f3-96de-4cec19441f0a"
      },
      "source": [
        "dataset.head()"
      ],
      "execution_count": null,
      "outputs": [
        {
          "output_type": "execute_result",
          "data": {
            "text/html": [
              "<div>\n",
              "<style scoped>\n",
              "    .dataframe tbody tr th:only-of-type {\n",
              "        vertical-align: middle;\n",
              "    }\n",
              "\n",
              "    .dataframe tbody tr th {\n",
              "        vertical-align: top;\n",
              "    }\n",
              "\n",
              "    .dataframe thead th {\n",
              "        text-align: right;\n",
              "    }\n",
              "</style>\n",
              "<table border=\"1\" class=\"dataframe\">\n",
              "  <thead>\n",
              "    <tr style=\"text-align: right;\">\n",
              "      <th></th>\n",
              "      <th>ROW_ID</th>\n",
              "      <th>SUBJECT_ID</th>\n",
              "      <th>HADM_ID</th>\n",
              "      <th>ADMITTIME</th>\n",
              "      <th>DISCHTIME</th>\n",
              "      <th>DEATHTIME</th>\n",
              "      <th>ADMISSION_TYPE</th>\n",
              "      <th>ADMISSION_LOCATION</th>\n",
              "      <th>DISCHARGE_LOCATION</th>\n",
              "      <th>INSURANCE</th>\n",
              "      <th>LANGUAGE</th>\n",
              "      <th>RELIGION</th>\n",
              "      <th>MARITAL_STATUS</th>\n",
              "      <th>ETHNICITY</th>\n",
              "      <th>EDREGTIME</th>\n",
              "      <th>EDOUTTIME</th>\n",
              "      <th>DIAGNOSIS</th>\n",
              "      <th>HOSPITAL_EXPIRE_FLAG</th>\n",
              "      <th>HAS_CHARTEVENTS_DATA</th>\n",
              "    </tr>\n",
              "  </thead>\n",
              "  <tbody>\n",
              "    <tr>\n",
              "      <th>0</th>\n",
              "      <td>21</td>\n",
              "      <td>22</td>\n",
              "      <td>165315</td>\n",
              "      <td>2196-04-09 12:26:00</td>\n",
              "      <td>2196-04-10 15:54:00</td>\n",
              "      <td>NaN</td>\n",
              "      <td>EMERGENCY</td>\n",
              "      <td>EMERGENCY ROOM ADMIT</td>\n",
              "      <td>DISC-TRAN CANCER/CHLDRN H</td>\n",
              "      <td>Private</td>\n",
              "      <td>NaN</td>\n",
              "      <td>UNOBTAINABLE</td>\n",
              "      <td>MARRIED</td>\n",
              "      <td>WHITE</td>\n",
              "      <td>2196-04-09 10:06:00</td>\n",
              "      <td>2196-04-09 13:24:00</td>\n",
              "      <td>BENZODIAZEPINE OVERDOSE</td>\n",
              "      <td>0</td>\n",
              "      <td>1</td>\n",
              "    </tr>\n",
              "    <tr>\n",
              "      <th>1</th>\n",
              "      <td>22</td>\n",
              "      <td>23</td>\n",
              "      <td>152223</td>\n",
              "      <td>2153-09-03 07:15:00</td>\n",
              "      <td>2153-09-08 19:10:00</td>\n",
              "      <td>NaN</td>\n",
              "      <td>ELECTIVE</td>\n",
              "      <td>PHYS REFERRAL/NORMAL DELI</td>\n",
              "      <td>HOME HEALTH CARE</td>\n",
              "      <td>Medicare</td>\n",
              "      <td>NaN</td>\n",
              "      <td>CATHOLIC</td>\n",
              "      <td>MARRIED</td>\n",
              "      <td>WHITE</td>\n",
              "      <td>NaN</td>\n",
              "      <td>NaN</td>\n",
              "      <td>CORONARY ARTERY DISEASE\\CORONARY ARTERY BYPASS...</td>\n",
              "      <td>0</td>\n",
              "      <td>1</td>\n",
              "    </tr>\n",
              "    <tr>\n",
              "      <th>2</th>\n",
              "      <td>23</td>\n",
              "      <td>23</td>\n",
              "      <td>124321</td>\n",
              "      <td>2157-10-18 19:34:00</td>\n",
              "      <td>2157-10-25 14:00:00</td>\n",
              "      <td>NaN</td>\n",
              "      <td>EMERGENCY</td>\n",
              "      <td>TRANSFER FROM HOSP/EXTRAM</td>\n",
              "      <td>HOME HEALTH CARE</td>\n",
              "      <td>Medicare</td>\n",
              "      <td>ENGL</td>\n",
              "      <td>CATHOLIC</td>\n",
              "      <td>MARRIED</td>\n",
              "      <td>WHITE</td>\n",
              "      <td>NaN</td>\n",
              "      <td>NaN</td>\n",
              "      <td>BRAIN MASS</td>\n",
              "      <td>0</td>\n",
              "      <td>1</td>\n",
              "    </tr>\n",
              "    <tr>\n",
              "      <th>3</th>\n",
              "      <td>24</td>\n",
              "      <td>24</td>\n",
              "      <td>161859</td>\n",
              "      <td>2139-06-06 16:14:00</td>\n",
              "      <td>2139-06-09 12:48:00</td>\n",
              "      <td>NaN</td>\n",
              "      <td>EMERGENCY</td>\n",
              "      <td>TRANSFER FROM HOSP/EXTRAM</td>\n",
              "      <td>HOME</td>\n",
              "      <td>Private</td>\n",
              "      <td>NaN</td>\n",
              "      <td>PROTESTANT QUAKER</td>\n",
              "      <td>SINGLE</td>\n",
              "      <td>WHITE</td>\n",
              "      <td>NaN</td>\n",
              "      <td>NaN</td>\n",
              "      <td>INTERIOR MYOCARDIAL INFARCTION</td>\n",
              "      <td>0</td>\n",
              "      <td>1</td>\n",
              "    </tr>\n",
              "    <tr>\n",
              "      <th>4</th>\n",
              "      <td>25</td>\n",
              "      <td>25</td>\n",
              "      <td>129635</td>\n",
              "      <td>2160-11-02 02:06:00</td>\n",
              "      <td>2160-11-05 14:55:00</td>\n",
              "      <td>NaN</td>\n",
              "      <td>EMERGENCY</td>\n",
              "      <td>EMERGENCY ROOM ADMIT</td>\n",
              "      <td>HOME</td>\n",
              "      <td>Private</td>\n",
              "      <td>NaN</td>\n",
              "      <td>UNOBTAINABLE</td>\n",
              "      <td>MARRIED</td>\n",
              "      <td>WHITE</td>\n",
              "      <td>2160-11-02 01:01:00</td>\n",
              "      <td>2160-11-02 04:27:00</td>\n",
              "      <td>ACUTE CORONARY SYNDROME</td>\n",
              "      <td>0</td>\n",
              "      <td>1</td>\n",
              "    </tr>\n",
              "  </tbody>\n",
              "</table>\n",
              "</div>"
            ],
            "text/plain": [
              "   ROW_ID  SUBJECT_ID  ...  HOSPITAL_EXPIRE_FLAG HAS_CHARTEVENTS_DATA\n",
              "0      21          22  ...                     0                    1\n",
              "1      22          23  ...                     0                    1\n",
              "2      23          23  ...                     0                    1\n",
              "3      24          24  ...                     0                    1\n",
              "4      25          25  ...                     0                    1\n",
              "\n",
              "[5 rows x 19 columns]"
            ]
          },
          "metadata": {
            "tags": []
          },
          "execution_count": 3
        }
      ]
    },
    {
      "cell_type": "code",
      "metadata": {
        "colab": {
          "base_uri": "https://localhost:8080/",
          "height": 326
        },
        "id": "_OVAKtTQpx5G",
        "outputId": "556788e4-c17b-40a3-9012-e647210468e3"
      },
      "source": [
        "dataset.tail()"
      ],
      "execution_count": null,
      "outputs": [
        {
          "output_type": "execute_result",
          "data": {
            "text/html": [
              "<div>\n",
              "<style scoped>\n",
              "    .dataframe tbody tr th:only-of-type {\n",
              "        vertical-align: middle;\n",
              "    }\n",
              "\n",
              "    .dataframe tbody tr th {\n",
              "        vertical-align: top;\n",
              "    }\n",
              "\n",
              "    .dataframe thead th {\n",
              "        text-align: right;\n",
              "    }\n",
              "</style>\n",
              "<table border=\"1\" class=\"dataframe\">\n",
              "  <thead>\n",
              "    <tr style=\"text-align: right;\">\n",
              "      <th></th>\n",
              "      <th>ROW_ID</th>\n",
              "      <th>SUBJECT_ID</th>\n",
              "      <th>HADM_ID</th>\n",
              "      <th>ADMITTIME</th>\n",
              "      <th>DISCHTIME</th>\n",
              "      <th>DEATHTIME</th>\n",
              "      <th>ADMISSION_TYPE</th>\n",
              "      <th>ADMISSION_LOCATION</th>\n",
              "      <th>DISCHARGE_LOCATION</th>\n",
              "      <th>INSURANCE</th>\n",
              "      <th>LANGUAGE</th>\n",
              "      <th>RELIGION</th>\n",
              "      <th>MARITAL_STATUS</th>\n",
              "      <th>ETHNICITY</th>\n",
              "      <th>EDREGTIME</th>\n",
              "      <th>EDOUTTIME</th>\n",
              "      <th>DIAGNOSIS</th>\n",
              "      <th>HOSPITAL_EXPIRE_FLAG</th>\n",
              "      <th>HAS_CHARTEVENTS_DATA</th>\n",
              "    </tr>\n",
              "  </thead>\n",
              "  <tbody>\n",
              "    <tr>\n",
              "      <th>58971</th>\n",
              "      <td>58594</td>\n",
              "      <td>98800</td>\n",
              "      <td>191113</td>\n",
              "      <td>2131-03-30 21:13:00</td>\n",
              "      <td>2131-04-02 15:02:00</td>\n",
              "      <td>NaN</td>\n",
              "      <td>EMERGENCY</td>\n",
              "      <td>CLINIC REFERRAL/PREMATURE</td>\n",
              "      <td>HOME</td>\n",
              "      <td>Private</td>\n",
              "      <td>ENGL</td>\n",
              "      <td>NOT SPECIFIED</td>\n",
              "      <td>SINGLE</td>\n",
              "      <td>WHITE</td>\n",
              "      <td>2131-03-30 19:44:00</td>\n",
              "      <td>2131-03-30 22:41:00</td>\n",
              "      <td>TRAUMA</td>\n",
              "      <td>0</td>\n",
              "      <td>1</td>\n",
              "    </tr>\n",
              "    <tr>\n",
              "      <th>58972</th>\n",
              "      <td>58595</td>\n",
              "      <td>98802</td>\n",
              "      <td>101071</td>\n",
              "      <td>2151-03-05 20:00:00</td>\n",
              "      <td>2151-03-06 09:10:00</td>\n",
              "      <td>2151-03-06 09:10:00</td>\n",
              "      <td>EMERGENCY</td>\n",
              "      <td>CLINIC REFERRAL/PREMATURE</td>\n",
              "      <td>DEAD/EXPIRED</td>\n",
              "      <td>Medicare</td>\n",
              "      <td>ENGL</td>\n",
              "      <td>CATHOLIC</td>\n",
              "      <td>WIDOWED</td>\n",
              "      <td>WHITE</td>\n",
              "      <td>2151-03-05 17:23:00</td>\n",
              "      <td>2151-03-05 21:06:00</td>\n",
              "      <td>SAH</td>\n",
              "      <td>1</td>\n",
              "      <td>1</td>\n",
              "    </tr>\n",
              "    <tr>\n",
              "      <th>58973</th>\n",
              "      <td>58596</td>\n",
              "      <td>98805</td>\n",
              "      <td>122631</td>\n",
              "      <td>2200-09-12 07:15:00</td>\n",
              "      <td>2200-09-20 12:08:00</td>\n",
              "      <td>NaN</td>\n",
              "      <td>ELECTIVE</td>\n",
              "      <td>PHYS REFERRAL/NORMAL DELI</td>\n",
              "      <td>HOME HEALTH CARE</td>\n",
              "      <td>Private</td>\n",
              "      <td>ENGL</td>\n",
              "      <td>NOT SPECIFIED</td>\n",
              "      <td>MARRIED</td>\n",
              "      <td>WHITE</td>\n",
              "      <td>NaN</td>\n",
              "      <td>NaN</td>\n",
              "      <td>RENAL CANCER/SDA</td>\n",
              "      <td>0</td>\n",
              "      <td>1</td>\n",
              "    </tr>\n",
              "    <tr>\n",
              "      <th>58974</th>\n",
              "      <td>58597</td>\n",
              "      <td>98813</td>\n",
              "      <td>170407</td>\n",
              "      <td>2128-11-11 02:29:00</td>\n",
              "      <td>2128-12-22 13:11:00</td>\n",
              "      <td>NaN</td>\n",
              "      <td>EMERGENCY</td>\n",
              "      <td>EMERGENCY ROOM ADMIT</td>\n",
              "      <td>SNF</td>\n",
              "      <td>Private</td>\n",
              "      <td>ENGL</td>\n",
              "      <td>CATHOLIC</td>\n",
              "      <td>MARRIED</td>\n",
              "      <td>WHITE</td>\n",
              "      <td>2128-11-10 23:48:00</td>\n",
              "      <td>2128-11-11 03:16:00</td>\n",
              "      <td>S/P FALL</td>\n",
              "      <td>0</td>\n",
              "      <td>0</td>\n",
              "    </tr>\n",
              "    <tr>\n",
              "      <th>58975</th>\n",
              "      <td>58598</td>\n",
              "      <td>98813</td>\n",
              "      <td>190264</td>\n",
              "      <td>2131-10-25 03:09:00</td>\n",
              "      <td>2131-10-26 17:44:00</td>\n",
              "      <td>NaN</td>\n",
              "      <td>EMERGENCY</td>\n",
              "      <td>CLINIC REFERRAL/PREMATURE</td>\n",
              "      <td>HOME</td>\n",
              "      <td>Private</td>\n",
              "      <td>ENGL</td>\n",
              "      <td>CATHOLIC</td>\n",
              "      <td>MARRIED</td>\n",
              "      <td>WHITE</td>\n",
              "      <td>2131-10-25 00:08:00</td>\n",
              "      <td>2131-10-25 04:35:00</td>\n",
              "      <td>INTRACRANIAL HEMORRHAGE</td>\n",
              "      <td>0</td>\n",
              "      <td>1</td>\n",
              "    </tr>\n",
              "  </tbody>\n",
              "</table>\n",
              "</div>"
            ],
            "text/plain": [
              "       ROW_ID  SUBJECT_ID  ...  HOSPITAL_EXPIRE_FLAG HAS_CHARTEVENTS_DATA\n",
              "58971   58594       98800  ...                     0                    1\n",
              "58972   58595       98802  ...                     1                    1\n",
              "58973   58596       98805  ...                     0                    1\n",
              "58974   58597       98813  ...                     0                    0\n",
              "58975   58598       98813  ...                     0                    1\n",
              "\n",
              "[5 rows x 19 columns]"
            ]
          },
          "metadata": {
            "tags": []
          },
          "execution_count": 4
        }
      ]
    },
    {
      "cell_type": "code",
      "metadata": {
        "colab": {
          "base_uri": "https://localhost:8080/"
        },
        "id": "qckOsMP9p-4O",
        "outputId": "16c3ead2-7aef-4ce1-9d9c-320fd6aac1a2"
      },
      "source": [
        "dataset.describe"
      ],
      "execution_count": null,
      "outputs": [
        {
          "output_type": "execute_result",
          "data": {
            "text/plain": [
              "<bound method NDFrame.describe of        ROW_ID  SUBJECT_ID  ...  HOSPITAL_EXPIRE_FLAG HAS_CHARTEVENTS_DATA\n",
              "0          21          22  ...                     0                    1\n",
              "1          22          23  ...                     0                    1\n",
              "2          23          23  ...                     0                    1\n",
              "3          24          24  ...                     0                    1\n",
              "4          25          25  ...                     0                    1\n",
              "...       ...         ...  ...                   ...                  ...\n",
              "58971   58594       98800  ...                     0                    1\n",
              "58972   58595       98802  ...                     1                    1\n",
              "58973   58596       98805  ...                     0                    1\n",
              "58974   58597       98813  ...                     0                    0\n",
              "58975   58598       98813  ...                     0                    1\n",
              "\n",
              "[58976 rows x 19 columns]>"
            ]
          },
          "metadata": {
            "tags": []
          },
          "execution_count": 5
        }
      ]
    },
    {
      "cell_type": "code",
      "metadata": {
        "colab": {
          "base_uri": "https://localhost:8080/"
        },
        "id": "4WTyPkmZtXev",
        "outputId": "93060730-49cb-46b7-fa4b-a9256503a057"
      },
      "source": [
        "list(dataset)"
      ],
      "execution_count": null,
      "outputs": [
        {
          "output_type": "execute_result",
          "data": {
            "text/plain": [
              "['ROW_ID',\n",
              " 'SUBJECT_ID',\n",
              " 'HADM_ID',\n",
              " 'ADMITTIME',\n",
              " 'DISCHTIME',\n",
              " 'DEATHTIME',\n",
              " 'ADMISSION_TYPE',\n",
              " 'ADMISSION_LOCATION',\n",
              " 'DISCHARGE_LOCATION',\n",
              " 'INSURANCE',\n",
              " 'LANGUAGE',\n",
              " 'RELIGION',\n",
              " 'MARITAL_STATUS',\n",
              " 'ETHNICITY',\n",
              " 'EDREGTIME',\n",
              " 'EDOUTTIME',\n",
              " 'DIAGNOSIS',\n",
              " 'HOSPITAL_EXPIRE_FLAG',\n",
              " 'HAS_CHARTEVENTS_DATA']"
            ]
          },
          "metadata": {
            "tags": []
          },
          "execution_count": 6
        }
      ]
    },
    {
      "cell_type": "code",
      "metadata": {
        "id": "Wyg4rSs6tW9z"
      },
      "source": [
        "dataset.drop(\"ROW_ID\", axis = 1, inplace = True)\n",
        "dataset.drop(\"SUBJECT_ID\", axis = 1, inplace = True)\n",
        "dataset.drop(\"DEATHTIME\", axis = 1, inplace = True)\n",
        "dataset.drop(\"ADMISSION_LOCATION\", axis = 1, inplace = True)\n",
        "dataset.drop(\"DISCHARGE_LOCATION\", axis = 1, inplace = True)\n",
        "dataset.drop(\"INSURANCE\", axis = 1, inplace = True)\n",
        "dataset.drop(\"LANGUAGE\", axis = 1, inplace = True)\n",
        "dataset.drop(\"RELIGION\", axis = 1, inplace = True)\n",
        "dataset.drop(\"MARITAL_STATUS\", axis = 1, inplace = True)\n",
        "dataset.drop(\"ETHNICITY\", axis = 1, inplace = True)\n",
        "dataset.drop(\"EDREGTIME\", axis = 1, inplace = True)\n",
        "dataset.drop(\"EDOUTTIME\", axis = 1, inplace = True)\n",
        "dataset.drop(\"DIAGNOSIS\", axis = 1, inplace = True)\n",
        "dataset.drop(\"HOSPITAL_EXPIRE_FLAG\", axis = 1, inplace = True)\n",
        "dataset.drop(\"HAS_CHARTEVENTS_DATA\", axis = 1, inplace = True)\n"
      ],
      "execution_count": null,
      "outputs": []
    },
    {
      "cell_type": "code",
      "metadata": {
        "colab": {
          "base_uri": "https://localhost:8080/"
        },
        "id": "MzbOgMXFw1zM",
        "outputId": "eb6f1632-499a-409d-9900-cf43fbf156ae"
      },
      "source": [
        "list(dataset)"
      ],
      "execution_count": null,
      "outputs": [
        {
          "output_type": "execute_result",
          "data": {
            "text/plain": [
              "['HADM_ID', 'ADMITTIME', 'DISCHTIME', 'ADMISSION_TYPE']"
            ]
          },
          "metadata": {
            "tags": []
          },
          "execution_count": 8
        }
      ]
    },
    {
      "cell_type": "code",
      "metadata": {
        "colab": {
          "base_uri": "https://localhost:8080/",
          "height": 204
        },
        "id": "KtTbgvZyxLbG",
        "outputId": "4659e7bf-056b-499b-b0c3-1bf9718fcb4e"
      },
      "source": [
        "dataset.head()"
      ],
      "execution_count": null,
      "outputs": [
        {
          "output_type": "execute_result",
          "data": {
            "text/html": [
              "<div>\n",
              "<style scoped>\n",
              "    .dataframe tbody tr th:only-of-type {\n",
              "        vertical-align: middle;\n",
              "    }\n",
              "\n",
              "    .dataframe tbody tr th {\n",
              "        vertical-align: top;\n",
              "    }\n",
              "\n",
              "    .dataframe thead th {\n",
              "        text-align: right;\n",
              "    }\n",
              "</style>\n",
              "<table border=\"1\" class=\"dataframe\">\n",
              "  <thead>\n",
              "    <tr style=\"text-align: right;\">\n",
              "      <th></th>\n",
              "      <th>HADM_ID</th>\n",
              "      <th>ADMITTIME</th>\n",
              "      <th>DISCHTIME</th>\n",
              "      <th>ADMISSION_TYPE</th>\n",
              "    </tr>\n",
              "  </thead>\n",
              "  <tbody>\n",
              "    <tr>\n",
              "      <th>0</th>\n",
              "      <td>165315</td>\n",
              "      <td>2196-04-09 12:26:00</td>\n",
              "      <td>2196-04-10 15:54:00</td>\n",
              "      <td>EMERGENCY</td>\n",
              "    </tr>\n",
              "    <tr>\n",
              "      <th>1</th>\n",
              "      <td>152223</td>\n",
              "      <td>2153-09-03 07:15:00</td>\n",
              "      <td>2153-09-08 19:10:00</td>\n",
              "      <td>ELECTIVE</td>\n",
              "    </tr>\n",
              "    <tr>\n",
              "      <th>2</th>\n",
              "      <td>124321</td>\n",
              "      <td>2157-10-18 19:34:00</td>\n",
              "      <td>2157-10-25 14:00:00</td>\n",
              "      <td>EMERGENCY</td>\n",
              "    </tr>\n",
              "    <tr>\n",
              "      <th>3</th>\n",
              "      <td>161859</td>\n",
              "      <td>2139-06-06 16:14:00</td>\n",
              "      <td>2139-06-09 12:48:00</td>\n",
              "      <td>EMERGENCY</td>\n",
              "    </tr>\n",
              "    <tr>\n",
              "      <th>4</th>\n",
              "      <td>129635</td>\n",
              "      <td>2160-11-02 02:06:00</td>\n",
              "      <td>2160-11-05 14:55:00</td>\n",
              "      <td>EMERGENCY</td>\n",
              "    </tr>\n",
              "  </tbody>\n",
              "</table>\n",
              "</div>"
            ],
            "text/plain": [
              "   HADM_ID            ADMITTIME            DISCHTIME ADMISSION_TYPE\n",
              "0   165315  2196-04-09 12:26:00  2196-04-10 15:54:00      EMERGENCY\n",
              "1   152223  2153-09-03 07:15:00  2153-09-08 19:10:00       ELECTIVE\n",
              "2   124321  2157-10-18 19:34:00  2157-10-25 14:00:00      EMERGENCY\n",
              "3   161859  2139-06-06 16:14:00  2139-06-09 12:48:00      EMERGENCY\n",
              "4   129635  2160-11-02 02:06:00  2160-11-05 14:55:00      EMERGENCY"
            ]
          },
          "metadata": {
            "tags": []
          },
          "execution_count": 9
        }
      ]
    },
    {
      "cell_type": "code",
      "metadata": {
        "id": "a9VHefUIxPcJ"
      },
      "source": [
        "#dataset = dataset[dataset['ADMISSION_TYPE'] == 'EMERGENCY']"
      ],
      "execution_count": null,
      "outputs": []
    },
    {
      "cell_type": "code",
      "metadata": {
        "id": "-cGkQ5NhVf98"
      },
      "source": [
        "dataset.drop(\"ADMISSION_TYPE\", axis = 1, inplace = True)"
      ],
      "execution_count": null,
      "outputs": []
    },
    {
      "cell_type": "code",
      "metadata": {
        "colab": {
          "base_uri": "https://localhost:8080/",
          "height": 204
        },
        "id": "9BORiHBZxXEU",
        "outputId": "90bcd5b9-51be-4b91-f93b-d29536c36916"
      },
      "source": [
        "dataset.head()"
      ],
      "execution_count": null,
      "outputs": [
        {
          "output_type": "execute_result",
          "data": {
            "text/html": [
              "<div>\n",
              "<style scoped>\n",
              "    .dataframe tbody tr th:only-of-type {\n",
              "        vertical-align: middle;\n",
              "    }\n",
              "\n",
              "    .dataframe tbody tr th {\n",
              "        vertical-align: top;\n",
              "    }\n",
              "\n",
              "    .dataframe thead th {\n",
              "        text-align: right;\n",
              "    }\n",
              "</style>\n",
              "<table border=\"1\" class=\"dataframe\">\n",
              "  <thead>\n",
              "    <tr style=\"text-align: right;\">\n",
              "      <th></th>\n",
              "      <th>HADM_ID</th>\n",
              "      <th>ADMITTIME</th>\n",
              "      <th>DISCHTIME</th>\n",
              "    </tr>\n",
              "  </thead>\n",
              "  <tbody>\n",
              "    <tr>\n",
              "      <th>0</th>\n",
              "      <td>165315</td>\n",
              "      <td>2196-04-09 12:26:00</td>\n",
              "      <td>2196-04-10 15:54:00</td>\n",
              "    </tr>\n",
              "    <tr>\n",
              "      <th>1</th>\n",
              "      <td>152223</td>\n",
              "      <td>2153-09-03 07:15:00</td>\n",
              "      <td>2153-09-08 19:10:00</td>\n",
              "    </tr>\n",
              "    <tr>\n",
              "      <th>2</th>\n",
              "      <td>124321</td>\n",
              "      <td>2157-10-18 19:34:00</td>\n",
              "      <td>2157-10-25 14:00:00</td>\n",
              "    </tr>\n",
              "    <tr>\n",
              "      <th>3</th>\n",
              "      <td>161859</td>\n",
              "      <td>2139-06-06 16:14:00</td>\n",
              "      <td>2139-06-09 12:48:00</td>\n",
              "    </tr>\n",
              "    <tr>\n",
              "      <th>4</th>\n",
              "      <td>129635</td>\n",
              "      <td>2160-11-02 02:06:00</td>\n",
              "      <td>2160-11-05 14:55:00</td>\n",
              "    </tr>\n",
              "  </tbody>\n",
              "</table>\n",
              "</div>"
            ],
            "text/plain": [
              "   HADM_ID            ADMITTIME            DISCHTIME\n",
              "0   165315  2196-04-09 12:26:00  2196-04-10 15:54:00\n",
              "1   152223  2153-09-03 07:15:00  2153-09-08 19:10:00\n",
              "2   124321  2157-10-18 19:34:00  2157-10-25 14:00:00\n",
              "3   161859  2139-06-06 16:14:00  2139-06-09 12:48:00\n",
              "4   129635  2160-11-02 02:06:00  2160-11-05 14:55:00"
            ]
          },
          "metadata": {
            "tags": []
          },
          "execution_count": 12
        }
      ]
    },
    {
      "cell_type": "code",
      "metadata": {
        "colab": {
          "base_uri": "https://localhost:8080/"
        },
        "id": "GGv51b2exa6U",
        "outputId": "5a6273cc-0457-45e6-e549-3045efce5774"
      },
      "source": [
        "dataset.shape"
      ],
      "execution_count": null,
      "outputs": [
        {
          "output_type": "execute_result",
          "data": {
            "text/plain": [
              "(58976, 3)"
            ]
          },
          "metadata": {
            "tags": []
          },
          "execution_count": 13
        }
      ]
    },
    {
      "cell_type": "code",
      "metadata": {
        "colab": {
          "base_uri": "https://localhost:8080/"
        },
        "id": "q-2SqP7rxik7",
        "outputId": "49dfa9d0-f650-4a02-b6a2-ab433b2e9d91"
      },
      "source": [
        "print('Dataset has {} number of unique admission events.'.format(dataset['HADM_ID'].nunique()))"
      ],
      "execution_count": null,
      "outputs": [
        {
          "output_type": "stream",
          "text": [
            "Dataset has 58976 number of unique admission events.\n"
          ],
          "name": "stdout"
        }
      ]
    },
    {
      "cell_type": "markdown",
      "metadata": {
        "id": "389Zq2nhyHzI"
      },
      "source": [
        "# Data Preprocessing"
      ]
    },
    {
      "cell_type": "code",
      "metadata": {
        "id": "oOameUbxx7wP"
      },
      "source": [
        "# Convert admission and discharge times to datetime type\n",
        "dataset['ADMITTIME'] = pd.to_datetime(dataset['ADMITTIME'])"
      ],
      "execution_count": null,
      "outputs": []
    },
    {
      "cell_type": "code",
      "metadata": {
        "colab": {
          "base_uri": "https://localhost:8080/",
          "height": 204
        },
        "id": "-tuH1Ms0bE0x",
        "outputId": "8daaa82b-76ff-48d8-e4bd-8a7c883f414d"
      },
      "source": [
        "dataset.head()"
      ],
      "execution_count": null,
      "outputs": [
        {
          "output_type": "execute_result",
          "data": {
            "text/html": [
              "<div>\n",
              "<style scoped>\n",
              "    .dataframe tbody tr th:only-of-type {\n",
              "        vertical-align: middle;\n",
              "    }\n",
              "\n",
              "    .dataframe tbody tr th {\n",
              "        vertical-align: top;\n",
              "    }\n",
              "\n",
              "    .dataframe thead th {\n",
              "        text-align: right;\n",
              "    }\n",
              "</style>\n",
              "<table border=\"1\" class=\"dataframe\">\n",
              "  <thead>\n",
              "    <tr style=\"text-align: right;\">\n",
              "      <th></th>\n",
              "      <th>HADM_ID</th>\n",
              "      <th>ADMITTIME</th>\n",
              "      <th>DISCHTIME</th>\n",
              "    </tr>\n",
              "  </thead>\n",
              "  <tbody>\n",
              "    <tr>\n",
              "      <th>0</th>\n",
              "      <td>165315</td>\n",
              "      <td>2196-04-09 12:26:00</td>\n",
              "      <td>2196-04-10 15:54:00</td>\n",
              "    </tr>\n",
              "    <tr>\n",
              "      <th>1</th>\n",
              "      <td>152223</td>\n",
              "      <td>2153-09-03 07:15:00</td>\n",
              "      <td>2153-09-08 19:10:00</td>\n",
              "    </tr>\n",
              "    <tr>\n",
              "      <th>2</th>\n",
              "      <td>124321</td>\n",
              "      <td>2157-10-18 19:34:00</td>\n",
              "      <td>2157-10-25 14:00:00</td>\n",
              "    </tr>\n",
              "    <tr>\n",
              "      <th>3</th>\n",
              "      <td>161859</td>\n",
              "      <td>2139-06-06 16:14:00</td>\n",
              "      <td>2139-06-09 12:48:00</td>\n",
              "    </tr>\n",
              "    <tr>\n",
              "      <th>4</th>\n",
              "      <td>129635</td>\n",
              "      <td>2160-11-02 02:06:00</td>\n",
              "      <td>2160-11-05 14:55:00</td>\n",
              "    </tr>\n",
              "  </tbody>\n",
              "</table>\n",
              "</div>"
            ],
            "text/plain": [
              "   HADM_ID           ADMITTIME            DISCHTIME\n",
              "0   165315 2196-04-09 12:26:00  2196-04-10 15:54:00\n",
              "1   152223 2153-09-03 07:15:00  2153-09-08 19:10:00\n",
              "2   124321 2157-10-18 19:34:00  2157-10-25 14:00:00\n",
              "3   161859 2139-06-06 16:14:00  2139-06-09 12:48:00\n",
              "4   129635 2160-11-02 02:06:00  2160-11-05 14:55:00"
            ]
          },
          "metadata": {
            "tags": []
          },
          "execution_count": 16
        }
      ]
    },
    {
      "cell_type": "code",
      "metadata": {
        "id": "DfLfKmpFkDhc"
      },
      "source": [
        "#dataset['Period'] = dataset['INTIME'].dt.to_period('M')"
      ],
      "execution_count": null,
      "outputs": []
    },
    {
      "cell_type": "code",
      "metadata": {
        "id": "DJlFowZh5uH-"
      },
      "source": [
        "dataset['ADMITTIME'] = dataset['ADMITTIME'].dt.date\n",
        "dataset['ADMITTIME'] = pd.to_datetime(dataset['ADMITTIME'])"
      ],
      "execution_count": null,
      "outputs": []
    },
    {
      "cell_type": "code",
      "metadata": {
        "id": "J4rDymS2jLk9"
      },
      "source": [
        "dataset_new = pd.pivot_table(dataset, values='HADM_ID',\n",
        "                   columns=['ADMITTIME'], aggfunc=np.count_nonzero)"
      ],
      "execution_count": null,
      "outputs": []
    },
    {
      "cell_type": "code",
      "metadata": {
        "colab": {
          "base_uri": "https://localhost:8080/",
          "height": 146
        },
        "id": "bHDpI3oZj8hh",
        "outputId": "24e2e4c1-e566-45b8-9d0b-6ccea7f0c137"
      },
      "source": [
        "dataset_new"
      ],
      "execution_count": null,
      "outputs": [
        {
          "output_type": "execute_result",
          "data": {
            "text/html": [
              "<div>\n",
              "<style scoped>\n",
              "    .dataframe tbody tr th:only-of-type {\n",
              "        vertical-align: middle;\n",
              "    }\n",
              "\n",
              "    .dataframe tbody tr th {\n",
              "        vertical-align: top;\n",
              "    }\n",
              "\n",
              "    .dataframe thead th {\n",
              "        text-align: right;\n",
              "    }\n",
              "</style>\n",
              "<table border=\"1\" class=\"dataframe\">\n",
              "  <thead>\n",
              "    <tr style=\"text-align: right;\">\n",
              "      <th>ADMITTIME</th>\n",
              "      <th>2100-06-07</th>\n",
              "      <th>2100-06-09</th>\n",
              "      <th>2100-06-14</th>\n",
              "      <th>2100-06-22</th>\n",
              "      <th>2100-06-24</th>\n",
              "      <th>2100-06-28</th>\n",
              "      <th>2100-07-01</th>\n",
              "      <th>2100-07-02</th>\n",
              "      <th>2100-07-04</th>\n",
              "      <th>2100-07-05</th>\n",
              "      <th>2100-07-07</th>\n",
              "      <th>2100-07-09</th>\n",
              "      <th>2100-07-11</th>\n",
              "      <th>2100-07-14</th>\n",
              "      <th>2100-07-16</th>\n",
              "      <th>2100-07-18</th>\n",
              "      <th>2100-07-21</th>\n",
              "      <th>2100-07-23</th>\n",
              "      <th>2100-07-26</th>\n",
              "      <th>2100-07-27</th>\n",
              "      <th>2100-07-29</th>\n",
              "      <th>2100-07-31</th>\n",
              "      <th>2100-08-01</th>\n",
              "      <th>2100-08-02</th>\n",
              "      <th>2100-08-03</th>\n",
              "      <th>2100-08-04</th>\n",
              "      <th>2100-08-06</th>\n",
              "      <th>2100-08-08</th>\n",
              "      <th>2100-08-09</th>\n",
              "      <th>2100-08-10</th>\n",
              "      <th>2100-08-11</th>\n",
              "      <th>2100-08-12</th>\n",
              "      <th>2100-08-13</th>\n",
              "      <th>2100-08-16</th>\n",
              "      <th>2100-08-18</th>\n",
              "      <th>2100-08-19</th>\n",
              "      <th>2100-08-20</th>\n",
              "      <th>2100-08-22</th>\n",
              "      <th>2100-08-24</th>\n",
              "      <th>2100-08-25</th>\n",
              "      <th>...</th>\n",
              "      <th>2206-01-08</th>\n",
              "      <th>2206-01-17</th>\n",
              "      <th>2206-01-25</th>\n",
              "      <th>2206-02-07</th>\n",
              "      <th>2206-02-11</th>\n",
              "      <th>2206-02-27</th>\n",
              "      <th>2206-03-15</th>\n",
              "      <th>2206-03-24</th>\n",
              "      <th>2206-04-08</th>\n",
              "      <th>2206-04-17</th>\n",
              "      <th>2206-05-02</th>\n",
              "      <th>2206-05-14</th>\n",
              "      <th>2206-05-28</th>\n",
              "      <th>2206-05-30</th>\n",
              "      <th>2206-06-09</th>\n",
              "      <th>2206-06-13</th>\n",
              "      <th>2206-06-18</th>\n",
              "      <th>2206-06-28</th>\n",
              "      <th>2206-07-27</th>\n",
              "      <th>2206-08-19</th>\n",
              "      <th>2206-08-24</th>\n",
              "      <th>2206-10-05</th>\n",
              "      <th>2206-10-20</th>\n",
              "      <th>2206-11-20</th>\n",
              "      <th>2206-12-31</th>\n",
              "      <th>2207-02-27</th>\n",
              "      <th>2207-03-10</th>\n",
              "      <th>2207-04-24</th>\n",
              "      <th>2207-06-16</th>\n",
              "      <th>2207-08-16</th>\n",
              "      <th>2207-12-13</th>\n",
              "      <th>2208-01-21</th>\n",
              "      <th>2208-04-27</th>\n",
              "      <th>2208-04-29</th>\n",
              "      <th>2208-05-27</th>\n",
              "      <th>2208-08-19</th>\n",
              "      <th>2209-02-09</th>\n",
              "      <th>2209-07-14</th>\n",
              "      <th>2209-07-31</th>\n",
              "      <th>2210-08-17</th>\n",
              "    </tr>\n",
              "  </thead>\n",
              "  <tbody>\n",
              "    <tr>\n",
              "      <th>HADM_ID</th>\n",
              "      <td>1</td>\n",
              "      <td>1</td>\n",
              "      <td>2</td>\n",
              "      <td>1</td>\n",
              "      <td>1</td>\n",
              "      <td>1</td>\n",
              "      <td>1</td>\n",
              "      <td>2</td>\n",
              "      <td>1</td>\n",
              "      <td>3</td>\n",
              "      <td>1</td>\n",
              "      <td>3</td>\n",
              "      <td>2</td>\n",
              "      <td>4</td>\n",
              "      <td>3</td>\n",
              "      <td>2</td>\n",
              "      <td>1</td>\n",
              "      <td>1</td>\n",
              "      <td>3</td>\n",
              "      <td>1</td>\n",
              "      <td>1</td>\n",
              "      <td>1</td>\n",
              "      <td>1</td>\n",
              "      <td>2</td>\n",
              "      <td>3</td>\n",
              "      <td>1</td>\n",
              "      <td>3</td>\n",
              "      <td>3</td>\n",
              "      <td>1</td>\n",
              "      <td>3</td>\n",
              "      <td>2</td>\n",
              "      <td>2</td>\n",
              "      <td>1</td>\n",
              "      <td>3</td>\n",
              "      <td>1</td>\n",
              "      <td>2</td>\n",
              "      <td>1</td>\n",
              "      <td>2</td>\n",
              "      <td>3</td>\n",
              "      <td>1</td>\n",
              "      <td>...</td>\n",
              "      <td>1</td>\n",
              "      <td>1</td>\n",
              "      <td>1</td>\n",
              "      <td>1</td>\n",
              "      <td>1</td>\n",
              "      <td>1</td>\n",
              "      <td>1</td>\n",
              "      <td>1</td>\n",
              "      <td>1</td>\n",
              "      <td>1</td>\n",
              "      <td>1</td>\n",
              "      <td>1</td>\n",
              "      <td>1</td>\n",
              "      <td>1</td>\n",
              "      <td>1</td>\n",
              "      <td>1</td>\n",
              "      <td>1</td>\n",
              "      <td>1</td>\n",
              "      <td>1</td>\n",
              "      <td>1</td>\n",
              "      <td>1</td>\n",
              "      <td>1</td>\n",
              "      <td>1</td>\n",
              "      <td>1</td>\n",
              "      <td>1</td>\n",
              "      <td>1</td>\n",
              "      <td>1</td>\n",
              "      <td>1</td>\n",
              "      <td>1</td>\n",
              "      <td>1</td>\n",
              "      <td>1</td>\n",
              "      <td>1</td>\n",
              "      <td>1</td>\n",
              "      <td>1</td>\n",
              "      <td>1</td>\n",
              "      <td>1</td>\n",
              "      <td>1</td>\n",
              "      <td>1</td>\n",
              "      <td>1</td>\n",
              "      <td>1</td>\n",
              "    </tr>\n",
              "  </tbody>\n",
              "</table>\n",
              "<p>1 rows × 29467 columns</p>\n",
              "</div>"
            ],
            "text/plain": [
              "ADMITTIME  2100-06-07  2100-06-09  ...  2209-07-31  2210-08-17\n",
              "HADM_ID             1           1  ...           1           1\n",
              "\n",
              "[1 rows x 29467 columns]"
            ]
          },
          "metadata": {
            "tags": []
          },
          "execution_count": 20
        }
      ]
    },
    {
      "cell_type": "code",
      "metadata": {
        "id": "BIr8M_bnn2Z6"
      },
      "source": [
        "dataset_new = dataset_new.T"
      ],
      "execution_count": null,
      "outputs": []
    },
    {
      "cell_type": "code",
      "metadata": {
        "colab": {
          "base_uri": "https://localhost:8080/",
          "height": 235
        },
        "id": "E0WCuif9pvPo",
        "outputId": "364f6481-0698-4f29-80c1-beaa1f4f9b40"
      },
      "source": [
        "dataset_new.head()"
      ],
      "execution_count": null,
      "outputs": [
        {
          "output_type": "execute_result",
          "data": {
            "text/html": [
              "<div>\n",
              "<style scoped>\n",
              "    .dataframe tbody tr th:only-of-type {\n",
              "        vertical-align: middle;\n",
              "    }\n",
              "\n",
              "    .dataframe tbody tr th {\n",
              "        vertical-align: top;\n",
              "    }\n",
              "\n",
              "    .dataframe thead th {\n",
              "        text-align: right;\n",
              "    }\n",
              "</style>\n",
              "<table border=\"1\" class=\"dataframe\">\n",
              "  <thead>\n",
              "    <tr style=\"text-align: right;\">\n",
              "      <th></th>\n",
              "      <th>HADM_ID</th>\n",
              "    </tr>\n",
              "    <tr>\n",
              "      <th>ADMITTIME</th>\n",
              "      <th></th>\n",
              "    </tr>\n",
              "  </thead>\n",
              "  <tbody>\n",
              "    <tr>\n",
              "      <th>2100-06-07</th>\n",
              "      <td>1</td>\n",
              "    </tr>\n",
              "    <tr>\n",
              "      <th>2100-06-09</th>\n",
              "      <td>1</td>\n",
              "    </tr>\n",
              "    <tr>\n",
              "      <th>2100-06-14</th>\n",
              "      <td>2</td>\n",
              "    </tr>\n",
              "    <tr>\n",
              "      <th>2100-06-22</th>\n",
              "      <td>1</td>\n",
              "    </tr>\n",
              "    <tr>\n",
              "      <th>2100-06-24</th>\n",
              "      <td>1</td>\n",
              "    </tr>\n",
              "  </tbody>\n",
              "</table>\n",
              "</div>"
            ],
            "text/plain": [
              "            HADM_ID\n",
              "ADMITTIME          \n",
              "2100-06-07        1\n",
              "2100-06-09        1\n",
              "2100-06-14        2\n",
              "2100-06-22        1\n",
              "2100-06-24        1"
            ]
          },
          "metadata": {
            "tags": []
          },
          "execution_count": 22
        }
      ]
    },
    {
      "cell_type": "code",
      "metadata": {
        "id": "Ey4oKnp-pzBg"
      },
      "source": [
        "dataset_new = dataset_new.rename(columns={ \"HADM_ID\": \"Admissions\"})"
      ],
      "execution_count": null,
      "outputs": []
    },
    {
      "cell_type": "code",
      "metadata": {
        "id": "itCYT7uwqQxl",
        "colab": {
          "base_uri": "https://localhost:8080/"
        },
        "outputId": "61263c27-6154-4e8e-e67e-79a0278e9a21"
      },
      "source": [
        "list(dataset_new.index)"
      ],
      "execution_count": null,
      "outputs": [
        {
          "output_type": "execute_result",
          "data": {
            "text/plain": [
              "[Timestamp('2100-06-07 00:00:00'),\n",
              " Timestamp('2100-06-09 00:00:00'),\n",
              " Timestamp('2100-06-14 00:00:00'),\n",
              " Timestamp('2100-06-22 00:00:00'),\n",
              " Timestamp('2100-06-24 00:00:00'),\n",
              " Timestamp('2100-06-28 00:00:00'),\n",
              " Timestamp('2100-07-01 00:00:00'),\n",
              " Timestamp('2100-07-02 00:00:00'),\n",
              " Timestamp('2100-07-04 00:00:00'),\n",
              " Timestamp('2100-07-05 00:00:00'),\n",
              " Timestamp('2100-07-07 00:00:00'),\n",
              " Timestamp('2100-07-09 00:00:00'),\n",
              " Timestamp('2100-07-11 00:00:00'),\n",
              " Timestamp('2100-07-14 00:00:00'),\n",
              " Timestamp('2100-07-16 00:00:00'),\n",
              " Timestamp('2100-07-18 00:00:00'),\n",
              " Timestamp('2100-07-21 00:00:00'),\n",
              " Timestamp('2100-07-23 00:00:00'),\n",
              " Timestamp('2100-07-26 00:00:00'),\n",
              " Timestamp('2100-07-27 00:00:00'),\n",
              " Timestamp('2100-07-29 00:00:00'),\n",
              " Timestamp('2100-07-31 00:00:00'),\n",
              " Timestamp('2100-08-01 00:00:00'),\n",
              " Timestamp('2100-08-02 00:00:00'),\n",
              " Timestamp('2100-08-03 00:00:00'),\n",
              " Timestamp('2100-08-04 00:00:00'),\n",
              " Timestamp('2100-08-06 00:00:00'),\n",
              " Timestamp('2100-08-08 00:00:00'),\n",
              " Timestamp('2100-08-09 00:00:00'),\n",
              " Timestamp('2100-08-10 00:00:00'),\n",
              " Timestamp('2100-08-11 00:00:00'),\n",
              " Timestamp('2100-08-12 00:00:00'),\n",
              " Timestamp('2100-08-13 00:00:00'),\n",
              " Timestamp('2100-08-16 00:00:00'),\n",
              " Timestamp('2100-08-18 00:00:00'),\n",
              " Timestamp('2100-08-19 00:00:00'),\n",
              " Timestamp('2100-08-20 00:00:00'),\n",
              " Timestamp('2100-08-22 00:00:00'),\n",
              " Timestamp('2100-08-24 00:00:00'),\n",
              " Timestamp('2100-08-25 00:00:00'),\n",
              " Timestamp('2100-08-26 00:00:00'),\n",
              " Timestamp('2100-08-27 00:00:00'),\n",
              " Timestamp('2100-08-28 00:00:00'),\n",
              " Timestamp('2100-08-29 00:00:00'),\n",
              " Timestamp('2100-08-31 00:00:00'),\n",
              " Timestamp('2100-09-01 00:00:00'),\n",
              " Timestamp('2100-09-03 00:00:00'),\n",
              " Timestamp('2100-09-04 00:00:00'),\n",
              " Timestamp('2100-09-05 00:00:00'),\n",
              " Timestamp('2100-09-07 00:00:00'),\n",
              " Timestamp('2100-09-08 00:00:00'),\n",
              " Timestamp('2100-09-09 00:00:00'),\n",
              " Timestamp('2100-09-10 00:00:00'),\n",
              " Timestamp('2100-09-11 00:00:00'),\n",
              " Timestamp('2100-09-13 00:00:00'),\n",
              " Timestamp('2100-09-14 00:00:00'),\n",
              " Timestamp('2100-09-15 00:00:00'),\n",
              " Timestamp('2100-09-16 00:00:00'),\n",
              " Timestamp('2100-09-17 00:00:00'),\n",
              " Timestamp('2100-09-18 00:00:00'),\n",
              " Timestamp('2100-09-20 00:00:00'),\n",
              " Timestamp('2100-09-21 00:00:00'),\n",
              " Timestamp('2100-09-22 00:00:00'),\n",
              " Timestamp('2100-09-24 00:00:00'),\n",
              " Timestamp('2100-09-25 00:00:00'),\n",
              " Timestamp('2100-09-26 00:00:00'),\n",
              " Timestamp('2100-09-27 00:00:00'),\n",
              " Timestamp('2100-09-28 00:00:00'),\n",
              " Timestamp('2100-09-29 00:00:00'),\n",
              " Timestamp('2100-09-30 00:00:00'),\n",
              " Timestamp('2100-10-02 00:00:00'),\n",
              " Timestamp('2100-10-03 00:00:00'),\n",
              " Timestamp('2100-10-06 00:00:00'),\n",
              " Timestamp('2100-10-08 00:00:00'),\n",
              " Timestamp('2100-10-09 00:00:00'),\n",
              " Timestamp('2100-10-10 00:00:00'),\n",
              " Timestamp('2100-10-11 00:00:00'),\n",
              " Timestamp('2100-10-12 00:00:00'),\n",
              " Timestamp('2100-10-13 00:00:00'),\n",
              " Timestamp('2100-10-14 00:00:00'),\n",
              " Timestamp('2100-10-15 00:00:00'),\n",
              " Timestamp('2100-10-16 00:00:00'),\n",
              " Timestamp('2100-10-18 00:00:00'),\n",
              " Timestamp('2100-10-19 00:00:00'),\n",
              " Timestamp('2100-10-20 00:00:00'),\n",
              " Timestamp('2100-10-21 00:00:00'),\n",
              " Timestamp('2100-10-22 00:00:00'),\n",
              " Timestamp('2100-10-25 00:00:00'),\n",
              " Timestamp('2100-10-26 00:00:00'),\n",
              " Timestamp('2100-10-27 00:00:00'),\n",
              " Timestamp('2100-10-28 00:00:00'),\n",
              " Timestamp('2100-10-29 00:00:00'),\n",
              " Timestamp('2100-10-30 00:00:00'),\n",
              " Timestamp('2100-10-31 00:00:00'),\n",
              " Timestamp('2100-11-01 00:00:00'),\n",
              " Timestamp('2100-11-02 00:00:00'),\n",
              " Timestamp('2100-11-03 00:00:00'),\n",
              " Timestamp('2100-11-04 00:00:00'),\n",
              " Timestamp('2100-11-05 00:00:00'),\n",
              " Timestamp('2100-11-07 00:00:00'),\n",
              " Timestamp('2100-11-08 00:00:00'),\n",
              " Timestamp('2100-11-09 00:00:00'),\n",
              " Timestamp('2100-11-10 00:00:00'),\n",
              " Timestamp('2100-11-11 00:00:00'),\n",
              " Timestamp('2100-11-12 00:00:00'),\n",
              " Timestamp('2100-11-13 00:00:00'),\n",
              " Timestamp('2100-11-16 00:00:00'),\n",
              " Timestamp('2100-11-18 00:00:00'),\n",
              " Timestamp('2100-11-19 00:00:00'),\n",
              " Timestamp('2100-11-20 00:00:00'),\n",
              " Timestamp('2100-11-23 00:00:00'),\n",
              " Timestamp('2100-11-24 00:00:00'),\n",
              " Timestamp('2100-11-25 00:00:00'),\n",
              " Timestamp('2100-11-26 00:00:00'),\n",
              " Timestamp('2100-11-27 00:00:00'),\n",
              " Timestamp('2100-11-28 00:00:00'),\n",
              " Timestamp('2100-11-29 00:00:00'),\n",
              " Timestamp('2100-11-30 00:00:00'),\n",
              " Timestamp('2100-12-01 00:00:00'),\n",
              " Timestamp('2100-12-03 00:00:00'),\n",
              " Timestamp('2100-12-05 00:00:00'),\n",
              " Timestamp('2100-12-06 00:00:00'),\n",
              " Timestamp('2100-12-10 00:00:00'),\n",
              " Timestamp('2100-12-11 00:00:00'),\n",
              " Timestamp('2100-12-13 00:00:00'),\n",
              " Timestamp('2100-12-16 00:00:00'),\n",
              " Timestamp('2100-12-17 00:00:00'),\n",
              " Timestamp('2100-12-19 00:00:00'),\n",
              " Timestamp('2100-12-21 00:00:00'),\n",
              " Timestamp('2100-12-22 00:00:00'),\n",
              " Timestamp('2100-12-23 00:00:00'),\n",
              " Timestamp('2100-12-24 00:00:00'),\n",
              " Timestamp('2100-12-27 00:00:00'),\n",
              " Timestamp('2100-12-28 00:00:00'),\n",
              " Timestamp('2100-12-29 00:00:00'),\n",
              " Timestamp('2101-01-01 00:00:00'),\n",
              " Timestamp('2101-01-02 00:00:00'),\n",
              " Timestamp('2101-01-04 00:00:00'),\n",
              " Timestamp('2101-01-05 00:00:00'),\n",
              " Timestamp('2101-01-06 00:00:00'),\n",
              " Timestamp('2101-01-07 00:00:00'),\n",
              " Timestamp('2101-01-08 00:00:00'),\n",
              " Timestamp('2101-01-10 00:00:00'),\n",
              " Timestamp('2101-01-11 00:00:00'),\n",
              " Timestamp('2101-01-12 00:00:00'),\n",
              " Timestamp('2101-01-13 00:00:00'),\n",
              " Timestamp('2101-01-14 00:00:00'),\n",
              " Timestamp('2101-01-16 00:00:00'),\n",
              " Timestamp('2101-01-18 00:00:00'),\n",
              " Timestamp('2101-01-19 00:00:00'),\n",
              " Timestamp('2101-01-20 00:00:00'),\n",
              " Timestamp('2101-01-21 00:00:00'),\n",
              " Timestamp('2101-01-22 00:00:00'),\n",
              " Timestamp('2101-01-23 00:00:00'),\n",
              " Timestamp('2101-01-25 00:00:00'),\n",
              " Timestamp('2101-01-26 00:00:00'),\n",
              " Timestamp('2101-01-27 00:00:00'),\n",
              " Timestamp('2101-01-28 00:00:00'),\n",
              " Timestamp('2101-01-31 00:00:00'),\n",
              " Timestamp('2101-02-01 00:00:00'),\n",
              " Timestamp('2101-02-03 00:00:00'),\n",
              " Timestamp('2101-02-04 00:00:00'),\n",
              " Timestamp('2101-02-05 00:00:00'),\n",
              " Timestamp('2101-02-06 00:00:00'),\n",
              " Timestamp('2101-02-09 00:00:00'),\n",
              " Timestamp('2101-02-10 00:00:00'),\n",
              " Timestamp('2101-02-11 00:00:00'),\n",
              " Timestamp('2101-02-14 00:00:00'),\n",
              " Timestamp('2101-02-15 00:00:00'),\n",
              " Timestamp('2101-02-16 00:00:00'),\n",
              " Timestamp('2101-02-17 00:00:00'),\n",
              " Timestamp('2101-02-19 00:00:00'),\n",
              " Timestamp('2101-02-20 00:00:00'),\n",
              " Timestamp('2101-02-21 00:00:00'),\n",
              " Timestamp('2101-02-22 00:00:00'),\n",
              " Timestamp('2101-02-23 00:00:00'),\n",
              " Timestamp('2101-02-24 00:00:00'),\n",
              " Timestamp('2101-02-25 00:00:00'),\n",
              " Timestamp('2101-02-28 00:00:00'),\n",
              " Timestamp('2101-03-03 00:00:00'),\n",
              " Timestamp('2101-03-04 00:00:00'),\n",
              " Timestamp('2101-03-05 00:00:00'),\n",
              " Timestamp('2101-03-07 00:00:00'),\n",
              " Timestamp('2101-03-08 00:00:00'),\n",
              " Timestamp('2101-03-09 00:00:00'),\n",
              " Timestamp('2101-03-10 00:00:00'),\n",
              " Timestamp('2101-03-11 00:00:00'),\n",
              " Timestamp('2101-03-14 00:00:00'),\n",
              " Timestamp('2101-03-15 00:00:00'),\n",
              " Timestamp('2101-03-16 00:00:00'),\n",
              " Timestamp('2101-03-17 00:00:00'),\n",
              " Timestamp('2101-03-18 00:00:00'),\n",
              " Timestamp('2101-03-20 00:00:00'),\n",
              " Timestamp('2101-03-23 00:00:00'),\n",
              " Timestamp('2101-03-24 00:00:00'),\n",
              " Timestamp('2101-03-26 00:00:00'),\n",
              " Timestamp('2101-03-27 00:00:00'),\n",
              " Timestamp('2101-03-28 00:00:00'),\n",
              " Timestamp('2101-03-29 00:00:00'),\n",
              " Timestamp('2101-03-30 00:00:00'),\n",
              " Timestamp('2101-04-01 00:00:00'),\n",
              " Timestamp('2101-04-03 00:00:00'),\n",
              " Timestamp('2101-04-04 00:00:00'),\n",
              " Timestamp('2101-04-06 00:00:00'),\n",
              " Timestamp('2101-04-07 00:00:00'),\n",
              " Timestamp('2101-04-08 00:00:00'),\n",
              " Timestamp('2101-04-09 00:00:00'),\n",
              " Timestamp('2101-04-10 00:00:00'),\n",
              " Timestamp('2101-04-11 00:00:00'),\n",
              " Timestamp('2101-04-12 00:00:00'),\n",
              " Timestamp('2101-04-13 00:00:00'),\n",
              " Timestamp('2101-04-14 00:00:00'),\n",
              " Timestamp('2101-04-15 00:00:00'),\n",
              " Timestamp('2101-04-16 00:00:00'),\n",
              " Timestamp('2101-04-17 00:00:00'),\n",
              " Timestamp('2101-04-18 00:00:00'),\n",
              " Timestamp('2101-04-19 00:00:00'),\n",
              " Timestamp('2101-04-21 00:00:00'),\n",
              " Timestamp('2101-04-22 00:00:00'),\n",
              " Timestamp('2101-04-23 00:00:00'),\n",
              " Timestamp('2101-04-25 00:00:00'),\n",
              " Timestamp('2101-04-26 00:00:00'),\n",
              " Timestamp('2101-04-27 00:00:00'),\n",
              " Timestamp('2101-04-29 00:00:00'),\n",
              " Timestamp('2101-04-30 00:00:00'),\n",
              " Timestamp('2101-05-01 00:00:00'),\n",
              " Timestamp('2101-05-02 00:00:00'),\n",
              " Timestamp('2101-05-03 00:00:00'),\n",
              " Timestamp('2101-05-05 00:00:00'),\n",
              " Timestamp('2101-05-07 00:00:00'),\n",
              " Timestamp('2101-05-09 00:00:00'),\n",
              " Timestamp('2101-05-10 00:00:00'),\n",
              " Timestamp('2101-05-12 00:00:00'),\n",
              " Timestamp('2101-05-13 00:00:00'),\n",
              " Timestamp('2101-05-15 00:00:00'),\n",
              " Timestamp('2101-05-16 00:00:00'),\n",
              " Timestamp('2101-05-17 00:00:00'),\n",
              " Timestamp('2101-05-18 00:00:00'),\n",
              " Timestamp('2101-05-20 00:00:00'),\n",
              " Timestamp('2101-05-21 00:00:00'),\n",
              " Timestamp('2101-05-22 00:00:00'),\n",
              " Timestamp('2101-05-25 00:00:00'),\n",
              " Timestamp('2101-05-26 00:00:00'),\n",
              " Timestamp('2101-05-27 00:00:00'),\n",
              " Timestamp('2101-05-28 00:00:00'),\n",
              " Timestamp('2101-05-29 00:00:00'),\n",
              " Timestamp('2101-05-30 00:00:00'),\n",
              " Timestamp('2101-06-01 00:00:00'),\n",
              " Timestamp('2101-06-02 00:00:00'),\n",
              " Timestamp('2101-06-03 00:00:00'),\n",
              " Timestamp('2101-06-04 00:00:00'),\n",
              " Timestamp('2101-06-05 00:00:00'),\n",
              " Timestamp('2101-06-06 00:00:00'),\n",
              " Timestamp('2101-06-07 00:00:00'),\n",
              " Timestamp('2101-06-08 00:00:00'),\n",
              " Timestamp('2101-06-09 00:00:00'),\n",
              " Timestamp('2101-06-10 00:00:00'),\n",
              " Timestamp('2101-06-11 00:00:00'),\n",
              " Timestamp('2101-06-12 00:00:00'),\n",
              " Timestamp('2101-06-13 00:00:00'),\n",
              " Timestamp('2101-06-14 00:00:00'),\n",
              " Timestamp('2101-06-15 00:00:00'),\n",
              " Timestamp('2101-06-16 00:00:00'),\n",
              " Timestamp('2101-06-17 00:00:00'),\n",
              " Timestamp('2101-06-18 00:00:00'),\n",
              " Timestamp('2101-06-20 00:00:00'),\n",
              " Timestamp('2101-06-21 00:00:00'),\n",
              " Timestamp('2101-06-24 00:00:00'),\n",
              " Timestamp('2101-06-27 00:00:00'),\n",
              " Timestamp('2101-06-28 00:00:00'),\n",
              " Timestamp('2101-06-29 00:00:00'),\n",
              " Timestamp('2101-06-30 00:00:00'),\n",
              " Timestamp('2101-07-03 00:00:00'),\n",
              " Timestamp('2101-07-05 00:00:00'),\n",
              " Timestamp('2101-07-08 00:00:00'),\n",
              " Timestamp('2101-07-09 00:00:00'),\n",
              " Timestamp('2101-07-10 00:00:00'),\n",
              " Timestamp('2101-07-11 00:00:00'),\n",
              " Timestamp('2101-07-12 00:00:00'),\n",
              " Timestamp('2101-07-13 00:00:00'),\n",
              " Timestamp('2101-07-14 00:00:00'),\n",
              " Timestamp('2101-07-15 00:00:00'),\n",
              " Timestamp('2101-07-16 00:00:00'),\n",
              " Timestamp('2101-07-17 00:00:00'),\n",
              " Timestamp('2101-07-19 00:00:00'),\n",
              " Timestamp('2101-07-20 00:00:00'),\n",
              " Timestamp('2101-07-21 00:00:00'),\n",
              " Timestamp('2101-07-23 00:00:00'),\n",
              " Timestamp('2101-07-24 00:00:00'),\n",
              " Timestamp('2101-07-27 00:00:00'),\n",
              " Timestamp('2101-07-28 00:00:00'),\n",
              " Timestamp('2101-07-29 00:00:00'),\n",
              " Timestamp('2101-07-30 00:00:00'),\n",
              " Timestamp('2101-07-31 00:00:00'),\n",
              " Timestamp('2101-08-01 00:00:00'),\n",
              " Timestamp('2101-08-02 00:00:00'),\n",
              " Timestamp('2101-08-03 00:00:00'),\n",
              " Timestamp('2101-08-04 00:00:00'),\n",
              " Timestamp('2101-08-05 00:00:00'),\n",
              " Timestamp('2101-08-06 00:00:00'),\n",
              " Timestamp('2101-08-07 00:00:00'),\n",
              " Timestamp('2101-08-08 00:00:00'),\n",
              " Timestamp('2101-08-09 00:00:00'),\n",
              " Timestamp('2101-08-11 00:00:00'),\n",
              " Timestamp('2101-08-13 00:00:00'),\n",
              " Timestamp('2101-08-14 00:00:00'),\n",
              " Timestamp('2101-08-15 00:00:00'),\n",
              " Timestamp('2101-08-17 00:00:00'),\n",
              " Timestamp('2101-08-18 00:00:00'),\n",
              " Timestamp('2101-08-19 00:00:00'),\n",
              " Timestamp('2101-08-23 00:00:00'),\n",
              " Timestamp('2101-08-24 00:00:00'),\n",
              " Timestamp('2101-08-25 00:00:00'),\n",
              " Timestamp('2101-08-26 00:00:00'),\n",
              " Timestamp('2101-08-28 00:00:00'),\n",
              " Timestamp('2101-08-30 00:00:00'),\n",
              " Timestamp('2101-08-31 00:00:00'),\n",
              " Timestamp('2101-09-01 00:00:00'),\n",
              " Timestamp('2101-09-02 00:00:00'),\n",
              " Timestamp('2101-09-04 00:00:00'),\n",
              " Timestamp('2101-09-05 00:00:00'),\n",
              " Timestamp('2101-09-06 00:00:00'),\n",
              " Timestamp('2101-09-07 00:00:00'),\n",
              " Timestamp('2101-09-09 00:00:00'),\n",
              " Timestamp('2101-09-10 00:00:00'),\n",
              " Timestamp('2101-09-11 00:00:00'),\n",
              " Timestamp('2101-09-13 00:00:00'),\n",
              " Timestamp('2101-09-14 00:00:00'),\n",
              " Timestamp('2101-09-15 00:00:00'),\n",
              " Timestamp('2101-09-16 00:00:00'),\n",
              " Timestamp('2101-09-17 00:00:00'),\n",
              " Timestamp('2101-09-18 00:00:00'),\n",
              " Timestamp('2101-09-19 00:00:00'),\n",
              " Timestamp('2101-09-20 00:00:00'),\n",
              " Timestamp('2101-09-21 00:00:00'),\n",
              " Timestamp('2101-09-22 00:00:00'),\n",
              " Timestamp('2101-09-23 00:00:00'),\n",
              " Timestamp('2101-09-24 00:00:00'),\n",
              " Timestamp('2101-09-25 00:00:00'),\n",
              " Timestamp('2101-09-26 00:00:00'),\n",
              " Timestamp('2101-09-27 00:00:00'),\n",
              " Timestamp('2101-09-29 00:00:00'),\n",
              " Timestamp('2101-09-30 00:00:00'),\n",
              " Timestamp('2101-10-01 00:00:00'),\n",
              " Timestamp('2101-10-03 00:00:00'),\n",
              " Timestamp('2101-10-04 00:00:00'),\n",
              " Timestamp('2101-10-05 00:00:00'),\n",
              " Timestamp('2101-10-07 00:00:00'),\n",
              " Timestamp('2101-10-08 00:00:00'),\n",
              " Timestamp('2101-10-09 00:00:00'),\n",
              " Timestamp('2101-10-10 00:00:00'),\n",
              " Timestamp('2101-10-11 00:00:00'),\n",
              " Timestamp('2101-10-14 00:00:00'),\n",
              " Timestamp('2101-10-15 00:00:00'),\n",
              " Timestamp('2101-10-17 00:00:00'),\n",
              " Timestamp('2101-10-18 00:00:00'),\n",
              " Timestamp('2101-10-19 00:00:00'),\n",
              " Timestamp('2101-10-20 00:00:00'),\n",
              " Timestamp('2101-10-21 00:00:00'),\n",
              " Timestamp('2101-10-22 00:00:00'),\n",
              " Timestamp('2101-10-25 00:00:00'),\n",
              " Timestamp('2101-10-26 00:00:00'),\n",
              " Timestamp('2101-10-27 00:00:00'),\n",
              " Timestamp('2101-10-28 00:00:00'),\n",
              " Timestamp('2101-10-30 00:00:00'),\n",
              " Timestamp('2101-10-31 00:00:00'),\n",
              " Timestamp('2101-11-01 00:00:00'),\n",
              " Timestamp('2101-11-02 00:00:00'),\n",
              " Timestamp('2101-11-03 00:00:00'),\n",
              " Timestamp('2101-11-04 00:00:00'),\n",
              " Timestamp('2101-11-05 00:00:00'),\n",
              " Timestamp('2101-11-06 00:00:00'),\n",
              " Timestamp('2101-11-07 00:00:00'),\n",
              " Timestamp('2101-11-08 00:00:00'),\n",
              " Timestamp('2101-11-09 00:00:00'),\n",
              " Timestamp('2101-11-10 00:00:00'),\n",
              " Timestamp('2101-11-11 00:00:00'),\n",
              " Timestamp('2101-11-12 00:00:00'),\n",
              " Timestamp('2101-11-13 00:00:00'),\n",
              " Timestamp('2101-11-14 00:00:00'),\n",
              " Timestamp('2101-11-15 00:00:00'),\n",
              " Timestamp('2101-11-16 00:00:00'),\n",
              " Timestamp('2101-11-17 00:00:00'),\n",
              " Timestamp('2101-11-19 00:00:00'),\n",
              " Timestamp('2101-11-21 00:00:00'),\n",
              " Timestamp('2101-11-22 00:00:00'),\n",
              " Timestamp('2101-11-23 00:00:00'),\n",
              " Timestamp('2101-11-24 00:00:00'),\n",
              " Timestamp('2101-11-25 00:00:00'),\n",
              " Timestamp('2101-11-26 00:00:00'),\n",
              " Timestamp('2101-11-28 00:00:00'),\n",
              " Timestamp('2101-11-29 00:00:00'),\n",
              " Timestamp('2101-11-30 00:00:00'),\n",
              " Timestamp('2101-12-01 00:00:00'),\n",
              " Timestamp('2101-12-02 00:00:00'),\n",
              " Timestamp('2101-12-05 00:00:00'),\n",
              " Timestamp('2101-12-06 00:00:00'),\n",
              " Timestamp('2101-12-07 00:00:00'),\n",
              " Timestamp('2101-12-09 00:00:00'),\n",
              " Timestamp('2101-12-10 00:00:00'),\n",
              " Timestamp('2101-12-11 00:00:00'),\n",
              " Timestamp('2101-12-13 00:00:00'),\n",
              " Timestamp('2101-12-14 00:00:00'),\n",
              " Timestamp('2101-12-17 00:00:00'),\n",
              " Timestamp('2101-12-18 00:00:00'),\n",
              " Timestamp('2101-12-19 00:00:00'),\n",
              " Timestamp('2101-12-20 00:00:00'),\n",
              " Timestamp('2101-12-21 00:00:00'),\n",
              " Timestamp('2101-12-22 00:00:00'),\n",
              " Timestamp('2101-12-24 00:00:00'),\n",
              " Timestamp('2101-12-25 00:00:00'),\n",
              " Timestamp('2101-12-26 00:00:00'),\n",
              " Timestamp('2101-12-27 00:00:00'),\n",
              " Timestamp('2101-12-28 00:00:00'),\n",
              " Timestamp('2101-12-31 00:00:00'),\n",
              " Timestamp('2102-01-01 00:00:00'),\n",
              " Timestamp('2102-01-03 00:00:00'),\n",
              " Timestamp('2102-01-04 00:00:00'),\n",
              " Timestamp('2102-01-05 00:00:00'),\n",
              " Timestamp('2102-01-06 00:00:00'),\n",
              " Timestamp('2102-01-08 00:00:00'),\n",
              " Timestamp('2102-01-09 00:00:00'),\n",
              " Timestamp('2102-01-10 00:00:00'),\n",
              " Timestamp('2102-01-11 00:00:00'),\n",
              " Timestamp('2102-01-12 00:00:00'),\n",
              " Timestamp('2102-01-13 00:00:00'),\n",
              " Timestamp('2102-01-14 00:00:00'),\n",
              " Timestamp('2102-01-15 00:00:00'),\n",
              " Timestamp('2102-01-16 00:00:00'),\n",
              " Timestamp('2102-01-17 00:00:00'),\n",
              " Timestamp('2102-01-18 00:00:00'),\n",
              " Timestamp('2102-01-19 00:00:00'),\n",
              " Timestamp('2102-01-20 00:00:00'),\n",
              " Timestamp('2102-01-23 00:00:00'),\n",
              " Timestamp('2102-01-24 00:00:00'),\n",
              " Timestamp('2102-01-25 00:00:00'),\n",
              " Timestamp('2102-01-26 00:00:00'),\n",
              " Timestamp('2102-01-27 00:00:00'),\n",
              " Timestamp('2102-01-29 00:00:00'),\n",
              " Timestamp('2102-01-30 00:00:00'),\n",
              " Timestamp('2102-01-31 00:00:00'),\n",
              " Timestamp('2102-02-01 00:00:00'),\n",
              " Timestamp('2102-02-02 00:00:00'),\n",
              " Timestamp('2102-02-03 00:00:00'),\n",
              " Timestamp('2102-02-04 00:00:00'),\n",
              " Timestamp('2102-02-05 00:00:00'),\n",
              " Timestamp('2102-02-06 00:00:00'),\n",
              " Timestamp('2102-02-07 00:00:00'),\n",
              " Timestamp('2102-02-08 00:00:00'),\n",
              " Timestamp('2102-02-09 00:00:00'),\n",
              " Timestamp('2102-02-10 00:00:00'),\n",
              " Timestamp('2102-02-11 00:00:00'),\n",
              " Timestamp('2102-02-12 00:00:00'),\n",
              " Timestamp('2102-02-13 00:00:00'),\n",
              " Timestamp('2102-02-15 00:00:00'),\n",
              " Timestamp('2102-02-16 00:00:00'),\n",
              " Timestamp('2102-02-17 00:00:00'),\n",
              " Timestamp('2102-02-18 00:00:00'),\n",
              " Timestamp('2102-02-19 00:00:00'),\n",
              " Timestamp('2102-02-20 00:00:00'),\n",
              " Timestamp('2102-02-21 00:00:00'),\n",
              " Timestamp('2102-02-22 00:00:00'),\n",
              " Timestamp('2102-02-23 00:00:00'),\n",
              " Timestamp('2102-02-24 00:00:00'),\n",
              " Timestamp('2102-02-26 00:00:00'),\n",
              " Timestamp('2102-03-01 00:00:00'),\n",
              " Timestamp('2102-03-03 00:00:00'),\n",
              " Timestamp('2102-03-04 00:00:00'),\n",
              " Timestamp('2102-03-05 00:00:00'),\n",
              " Timestamp('2102-03-06 00:00:00'),\n",
              " Timestamp('2102-03-07 00:00:00'),\n",
              " Timestamp('2102-03-08 00:00:00'),\n",
              " Timestamp('2102-03-09 00:00:00'),\n",
              " Timestamp('2102-03-10 00:00:00'),\n",
              " Timestamp('2102-03-11 00:00:00'),\n",
              " Timestamp('2102-03-12 00:00:00'),\n",
              " Timestamp('2102-03-13 00:00:00'),\n",
              " Timestamp('2102-03-14 00:00:00'),\n",
              " Timestamp('2102-03-15 00:00:00'),\n",
              " Timestamp('2102-03-16 00:00:00'),\n",
              " Timestamp('2102-03-17 00:00:00'),\n",
              " Timestamp('2102-03-18 00:00:00'),\n",
              " Timestamp('2102-03-20 00:00:00'),\n",
              " Timestamp('2102-03-21 00:00:00'),\n",
              " Timestamp('2102-03-22 00:00:00'),\n",
              " Timestamp('2102-03-23 00:00:00'),\n",
              " Timestamp('2102-03-26 00:00:00'),\n",
              " Timestamp('2102-03-27 00:00:00'),\n",
              " Timestamp('2102-03-28 00:00:00'),\n",
              " Timestamp('2102-03-29 00:00:00'),\n",
              " Timestamp('2102-03-30 00:00:00'),\n",
              " Timestamp('2102-03-31 00:00:00'),\n",
              " Timestamp('2102-04-02 00:00:00'),\n",
              " Timestamp('2102-04-03 00:00:00'),\n",
              " Timestamp('2102-04-04 00:00:00'),\n",
              " Timestamp('2102-04-06 00:00:00'),\n",
              " Timestamp('2102-04-08 00:00:00'),\n",
              " Timestamp('2102-04-10 00:00:00'),\n",
              " Timestamp('2102-04-12 00:00:00'),\n",
              " Timestamp('2102-04-13 00:00:00'),\n",
              " Timestamp('2102-04-16 00:00:00'),\n",
              " Timestamp('2102-04-17 00:00:00'),\n",
              " Timestamp('2102-04-18 00:00:00'),\n",
              " Timestamp('2102-04-19 00:00:00'),\n",
              " Timestamp('2102-04-20 00:00:00'),\n",
              " Timestamp('2102-04-21 00:00:00'),\n",
              " Timestamp('2102-04-22 00:00:00'),\n",
              " Timestamp('2102-04-23 00:00:00'),\n",
              " Timestamp('2102-04-24 00:00:00'),\n",
              " Timestamp('2102-04-25 00:00:00'),\n",
              " Timestamp('2102-04-26 00:00:00'),\n",
              " Timestamp('2102-04-27 00:00:00'),\n",
              " Timestamp('2102-04-29 00:00:00'),\n",
              " Timestamp('2102-05-01 00:00:00'),\n",
              " Timestamp('2102-05-03 00:00:00'),\n",
              " Timestamp('2102-05-04 00:00:00'),\n",
              " Timestamp('2102-05-06 00:00:00'),\n",
              " Timestamp('2102-05-07 00:00:00'),\n",
              " Timestamp('2102-05-08 00:00:00'),\n",
              " Timestamp('2102-05-11 00:00:00'),\n",
              " Timestamp('2102-05-12 00:00:00'),\n",
              " Timestamp('2102-05-13 00:00:00'),\n",
              " Timestamp('2102-05-15 00:00:00'),\n",
              " Timestamp('2102-05-20 00:00:00'),\n",
              " Timestamp('2102-05-21 00:00:00'),\n",
              " Timestamp('2102-05-22 00:00:00'),\n",
              " Timestamp('2102-05-23 00:00:00'),\n",
              " Timestamp('2102-05-25 00:00:00'),\n",
              " Timestamp('2102-05-26 00:00:00'),\n",
              " Timestamp('2102-05-27 00:00:00'),\n",
              " Timestamp('2102-05-29 00:00:00'),\n",
              " Timestamp('2102-05-30 00:00:00'),\n",
              " Timestamp('2102-05-31 00:00:00'),\n",
              " Timestamp('2102-06-01 00:00:00'),\n",
              " Timestamp('2102-06-03 00:00:00'),\n",
              " Timestamp('2102-06-05 00:00:00'),\n",
              " Timestamp('2102-06-07 00:00:00'),\n",
              " Timestamp('2102-06-08 00:00:00'),\n",
              " Timestamp('2102-06-09 00:00:00'),\n",
              " Timestamp('2102-06-10 00:00:00'),\n",
              " Timestamp('2102-06-12 00:00:00'),\n",
              " Timestamp('2102-06-13 00:00:00'),\n",
              " Timestamp('2102-06-15 00:00:00'),\n",
              " Timestamp('2102-06-16 00:00:00'),\n",
              " Timestamp('2102-06-17 00:00:00'),\n",
              " Timestamp('2102-06-18 00:00:00'),\n",
              " Timestamp('2102-06-19 00:00:00'),\n",
              " Timestamp('2102-06-20 00:00:00'),\n",
              " Timestamp('2102-06-21 00:00:00'),\n",
              " Timestamp('2102-06-23 00:00:00'),\n",
              " Timestamp('2102-06-24 00:00:00'),\n",
              " Timestamp('2102-06-26 00:00:00'),\n",
              " Timestamp('2102-06-28 00:00:00'),\n",
              " Timestamp('2102-06-29 00:00:00'),\n",
              " Timestamp('2102-06-30 00:00:00'),\n",
              " Timestamp('2102-07-01 00:00:00'),\n",
              " Timestamp('2102-07-02 00:00:00'),\n",
              " Timestamp('2102-07-03 00:00:00'),\n",
              " Timestamp('2102-07-05 00:00:00'),\n",
              " Timestamp('2102-07-07 00:00:00'),\n",
              " Timestamp('2102-07-08 00:00:00'),\n",
              " Timestamp('2102-07-09 00:00:00'),\n",
              " Timestamp('2102-07-10 00:00:00'),\n",
              " Timestamp('2102-07-11 00:00:00'),\n",
              " Timestamp('2102-07-12 00:00:00'),\n",
              " Timestamp('2102-07-13 00:00:00'),\n",
              " Timestamp('2102-07-14 00:00:00'),\n",
              " Timestamp('2102-07-15 00:00:00'),\n",
              " Timestamp('2102-07-17 00:00:00'),\n",
              " Timestamp('2102-07-20 00:00:00'),\n",
              " Timestamp('2102-07-23 00:00:00'),\n",
              " Timestamp('2102-07-24 00:00:00'),\n",
              " Timestamp('2102-07-25 00:00:00'),\n",
              " Timestamp('2102-07-26 00:00:00'),\n",
              " Timestamp('2102-07-27 00:00:00'),\n",
              " Timestamp('2102-07-28 00:00:00'),\n",
              " Timestamp('2102-07-29 00:00:00'),\n",
              " Timestamp('2102-07-30 00:00:00'),\n",
              " Timestamp('2102-08-01 00:00:00'),\n",
              " Timestamp('2102-08-02 00:00:00'),\n",
              " Timestamp('2102-08-03 00:00:00'),\n",
              " Timestamp('2102-08-04 00:00:00'),\n",
              " Timestamp('2102-08-05 00:00:00'),\n",
              " Timestamp('2102-08-07 00:00:00'),\n",
              " Timestamp('2102-08-09 00:00:00'),\n",
              " Timestamp('2102-08-10 00:00:00'),\n",
              " Timestamp('2102-08-11 00:00:00'),\n",
              " Timestamp('2102-08-12 00:00:00'),\n",
              " Timestamp('2102-08-14 00:00:00'),\n",
              " Timestamp('2102-08-15 00:00:00'),\n",
              " Timestamp('2102-08-16 00:00:00'),\n",
              " Timestamp('2102-08-18 00:00:00'),\n",
              " Timestamp('2102-08-20 00:00:00'),\n",
              " Timestamp('2102-08-21 00:00:00'),\n",
              " Timestamp('2102-08-22 00:00:00'),\n",
              " Timestamp('2102-08-23 00:00:00'),\n",
              " Timestamp('2102-08-25 00:00:00'),\n",
              " Timestamp('2102-08-26 00:00:00'),\n",
              " Timestamp('2102-08-27 00:00:00'),\n",
              " Timestamp('2102-08-29 00:00:00'),\n",
              " Timestamp('2102-08-31 00:00:00'),\n",
              " Timestamp('2102-09-03 00:00:00'),\n",
              " Timestamp('2102-09-04 00:00:00'),\n",
              " Timestamp('2102-09-05 00:00:00'),\n",
              " Timestamp('2102-09-07 00:00:00'),\n",
              " Timestamp('2102-09-08 00:00:00'),\n",
              " Timestamp('2102-09-09 00:00:00'),\n",
              " Timestamp('2102-09-10 00:00:00'),\n",
              " Timestamp('2102-09-12 00:00:00'),\n",
              " Timestamp('2102-09-13 00:00:00'),\n",
              " Timestamp('2102-09-14 00:00:00'),\n",
              " Timestamp('2102-09-15 00:00:00'),\n",
              " Timestamp('2102-09-16 00:00:00'),\n",
              " Timestamp('2102-09-17 00:00:00'),\n",
              " Timestamp('2102-09-18 00:00:00'),\n",
              " Timestamp('2102-09-20 00:00:00'),\n",
              " Timestamp('2102-09-21 00:00:00'),\n",
              " Timestamp('2102-09-22 00:00:00'),\n",
              " Timestamp('2102-09-23 00:00:00'),\n",
              " Timestamp('2102-09-25 00:00:00'),\n",
              " Timestamp('2102-09-26 00:00:00'),\n",
              " Timestamp('2102-09-27 00:00:00'),\n",
              " Timestamp('2102-09-28 00:00:00'),\n",
              " Timestamp('2102-09-29 00:00:00'),\n",
              " Timestamp('2102-10-01 00:00:00'),\n",
              " Timestamp('2102-10-02 00:00:00'),\n",
              " Timestamp('2102-10-03 00:00:00'),\n",
              " Timestamp('2102-10-05 00:00:00'),\n",
              " Timestamp('2102-10-06 00:00:00'),\n",
              " Timestamp('2102-10-07 00:00:00'),\n",
              " Timestamp('2102-10-08 00:00:00'),\n",
              " Timestamp('2102-10-09 00:00:00'),\n",
              " Timestamp('2102-10-10 00:00:00'),\n",
              " Timestamp('2102-10-11 00:00:00'),\n",
              " Timestamp('2102-10-12 00:00:00'),\n",
              " Timestamp('2102-10-13 00:00:00'),\n",
              " Timestamp('2102-10-14 00:00:00'),\n",
              " Timestamp('2102-10-16 00:00:00'),\n",
              " Timestamp('2102-10-17 00:00:00'),\n",
              " Timestamp('2102-10-19 00:00:00'),\n",
              " Timestamp('2102-10-20 00:00:00'),\n",
              " Timestamp('2102-10-22 00:00:00'),\n",
              " Timestamp('2102-10-23 00:00:00'),\n",
              " Timestamp('2102-10-24 00:00:00'),\n",
              " Timestamp('2102-10-26 00:00:00'),\n",
              " Timestamp('2102-10-27 00:00:00'),\n",
              " Timestamp('2102-10-28 00:00:00'),\n",
              " Timestamp('2102-10-31 00:00:00'),\n",
              " Timestamp('2102-11-01 00:00:00'),\n",
              " Timestamp('2102-11-02 00:00:00'),\n",
              " Timestamp('2102-11-04 00:00:00'),\n",
              " Timestamp('2102-11-05 00:00:00'),\n",
              " Timestamp('2102-11-06 00:00:00'),\n",
              " Timestamp('2102-11-07 00:00:00'),\n",
              " Timestamp('2102-11-08 00:00:00'),\n",
              " Timestamp('2102-11-09 00:00:00'),\n",
              " Timestamp('2102-11-10 00:00:00'),\n",
              " Timestamp('2102-11-11 00:00:00'),\n",
              " Timestamp('2102-11-13 00:00:00'),\n",
              " Timestamp('2102-11-14 00:00:00'),\n",
              " Timestamp('2102-11-15 00:00:00'),\n",
              " Timestamp('2102-11-16 00:00:00'),\n",
              " Timestamp('2102-11-20 00:00:00'),\n",
              " Timestamp('2102-11-22 00:00:00'),\n",
              " Timestamp('2102-11-23 00:00:00'),\n",
              " Timestamp('2102-11-24 00:00:00'),\n",
              " Timestamp('2102-11-25 00:00:00'),\n",
              " Timestamp('2102-11-26 00:00:00'),\n",
              " Timestamp('2102-11-27 00:00:00'),\n",
              " Timestamp('2102-11-28 00:00:00'),\n",
              " Timestamp('2102-11-29 00:00:00'),\n",
              " Timestamp('2102-11-30 00:00:00'),\n",
              " Timestamp('2102-12-01 00:00:00'),\n",
              " Timestamp('2102-12-04 00:00:00'),\n",
              " Timestamp('2102-12-05 00:00:00'),\n",
              " Timestamp('2102-12-06 00:00:00'),\n",
              " Timestamp('2102-12-07 00:00:00'),\n",
              " Timestamp('2102-12-08 00:00:00'),\n",
              " Timestamp('2102-12-10 00:00:00'),\n",
              " Timestamp('2102-12-11 00:00:00'),\n",
              " Timestamp('2102-12-12 00:00:00'),\n",
              " Timestamp('2102-12-13 00:00:00'),\n",
              " Timestamp('2102-12-18 00:00:00'),\n",
              " Timestamp('2102-12-19 00:00:00'),\n",
              " Timestamp('2102-12-20 00:00:00'),\n",
              " Timestamp('2102-12-21 00:00:00'),\n",
              " Timestamp('2102-12-22 00:00:00'),\n",
              " Timestamp('2102-12-24 00:00:00'),\n",
              " Timestamp('2102-12-25 00:00:00'),\n",
              " Timestamp('2102-12-26 00:00:00'),\n",
              " Timestamp('2102-12-27 00:00:00'),\n",
              " Timestamp('2102-12-28 00:00:00'),\n",
              " Timestamp('2102-12-30 00:00:00'),\n",
              " Timestamp('2102-12-31 00:00:00'),\n",
              " Timestamp('2103-01-01 00:00:00'),\n",
              " Timestamp('2103-01-02 00:00:00'),\n",
              " Timestamp('2103-01-04 00:00:00'),\n",
              " Timestamp('2103-01-05 00:00:00'),\n",
              " Timestamp('2103-01-06 00:00:00'),\n",
              " Timestamp('2103-01-07 00:00:00'),\n",
              " Timestamp('2103-01-08 00:00:00'),\n",
              " Timestamp('2103-01-09 00:00:00'),\n",
              " Timestamp('2103-01-10 00:00:00'),\n",
              " Timestamp('2103-01-11 00:00:00'),\n",
              " Timestamp('2103-01-14 00:00:00'),\n",
              " Timestamp('2103-01-15 00:00:00'),\n",
              " Timestamp('2103-01-16 00:00:00'),\n",
              " Timestamp('2103-01-17 00:00:00'),\n",
              " Timestamp('2103-01-19 00:00:00'),\n",
              " Timestamp('2103-01-20 00:00:00'),\n",
              " Timestamp('2103-01-21 00:00:00'),\n",
              " Timestamp('2103-01-22 00:00:00'),\n",
              " Timestamp('2103-01-24 00:00:00'),\n",
              " Timestamp('2103-01-25 00:00:00'),\n",
              " Timestamp('2103-01-27 00:00:00'),\n",
              " Timestamp('2103-01-28 00:00:00'),\n",
              " Timestamp('2103-01-29 00:00:00'),\n",
              " Timestamp('2103-01-30 00:00:00'),\n",
              " Timestamp('2103-01-31 00:00:00'),\n",
              " Timestamp('2103-02-02 00:00:00'),\n",
              " Timestamp('2103-02-03 00:00:00'),\n",
              " Timestamp('2103-02-05 00:00:00'),\n",
              " Timestamp('2103-02-06 00:00:00'),\n",
              " Timestamp('2103-02-07 00:00:00'),\n",
              " Timestamp('2103-02-08 00:00:00'),\n",
              " Timestamp('2103-02-09 00:00:00'),\n",
              " Timestamp('2103-02-10 00:00:00'),\n",
              " Timestamp('2103-02-12 00:00:00'),\n",
              " Timestamp('2103-02-14 00:00:00'),\n",
              " Timestamp('2103-02-15 00:00:00'),\n",
              " Timestamp('2103-02-16 00:00:00'),\n",
              " Timestamp('2103-02-17 00:00:00'),\n",
              " Timestamp('2103-02-19 00:00:00'),\n",
              " Timestamp('2103-02-20 00:00:00'),\n",
              " Timestamp('2103-02-22 00:00:00'),\n",
              " Timestamp('2103-02-23 00:00:00'),\n",
              " Timestamp('2103-02-24 00:00:00'),\n",
              " Timestamp('2103-02-25 00:00:00'),\n",
              " Timestamp('2103-02-26 00:00:00'),\n",
              " Timestamp('2103-02-27 00:00:00'),\n",
              " Timestamp('2103-02-28 00:00:00'),\n",
              " Timestamp('2103-03-01 00:00:00'),\n",
              " Timestamp('2103-03-03 00:00:00'),\n",
              " Timestamp('2103-03-04 00:00:00'),\n",
              " Timestamp('2103-03-05 00:00:00'),\n",
              " Timestamp('2103-03-06 00:00:00'),\n",
              " Timestamp('2103-03-07 00:00:00'),\n",
              " Timestamp('2103-03-08 00:00:00'),\n",
              " Timestamp('2103-03-09 00:00:00'),\n",
              " Timestamp('2103-03-11 00:00:00'),\n",
              " Timestamp('2103-03-13 00:00:00'),\n",
              " Timestamp('2103-03-14 00:00:00'),\n",
              " Timestamp('2103-03-15 00:00:00'),\n",
              " Timestamp('2103-03-16 00:00:00'),\n",
              " Timestamp('2103-03-17 00:00:00'),\n",
              " Timestamp('2103-03-19 00:00:00'),\n",
              " Timestamp('2103-03-20 00:00:00'),\n",
              " Timestamp('2103-03-21 00:00:00'),\n",
              " Timestamp('2103-03-23 00:00:00'),\n",
              " Timestamp('2103-03-25 00:00:00'),\n",
              " Timestamp('2103-03-26 00:00:00'),\n",
              " Timestamp('2103-03-27 00:00:00'),\n",
              " Timestamp('2103-03-28 00:00:00'),\n",
              " Timestamp('2103-03-29 00:00:00'),\n",
              " Timestamp('2103-03-30 00:00:00'),\n",
              " Timestamp('2103-03-31 00:00:00'),\n",
              " Timestamp('2103-04-01 00:00:00'),\n",
              " Timestamp('2103-04-02 00:00:00'),\n",
              " Timestamp('2103-04-03 00:00:00'),\n",
              " Timestamp('2103-04-04 00:00:00'),\n",
              " Timestamp('2103-04-05 00:00:00'),\n",
              " Timestamp('2103-04-06 00:00:00'),\n",
              " Timestamp('2103-04-07 00:00:00'),\n",
              " Timestamp('2103-04-08 00:00:00'),\n",
              " Timestamp('2103-04-09 00:00:00'),\n",
              " Timestamp('2103-04-10 00:00:00'),\n",
              " Timestamp('2103-04-11 00:00:00'),\n",
              " Timestamp('2103-04-13 00:00:00'),\n",
              " Timestamp('2103-04-14 00:00:00'),\n",
              " Timestamp('2103-04-15 00:00:00'),\n",
              " Timestamp('2103-04-17 00:00:00'),\n",
              " Timestamp('2103-04-19 00:00:00'),\n",
              " Timestamp('2103-04-20 00:00:00'),\n",
              " Timestamp('2103-04-22 00:00:00'),\n",
              " Timestamp('2103-04-23 00:00:00'),\n",
              " Timestamp('2103-04-24 00:00:00'),\n",
              " Timestamp('2103-04-25 00:00:00'),\n",
              " Timestamp('2103-04-26 00:00:00'),\n",
              " Timestamp('2103-04-27 00:00:00'),\n",
              " Timestamp('2103-04-28 00:00:00'),\n",
              " Timestamp('2103-04-29 00:00:00'),\n",
              " Timestamp('2103-04-30 00:00:00'),\n",
              " Timestamp('2103-05-01 00:00:00'),\n",
              " Timestamp('2103-05-02 00:00:00'),\n",
              " Timestamp('2103-05-03 00:00:00'),\n",
              " Timestamp('2103-05-04 00:00:00'),\n",
              " Timestamp('2103-05-05 00:00:00'),\n",
              " Timestamp('2103-05-06 00:00:00'),\n",
              " Timestamp('2103-05-07 00:00:00'),\n",
              " Timestamp('2103-05-08 00:00:00'),\n",
              " Timestamp('2103-05-09 00:00:00'),\n",
              " Timestamp('2103-05-10 00:00:00'),\n",
              " Timestamp('2103-05-12 00:00:00'),\n",
              " Timestamp('2103-05-13 00:00:00'),\n",
              " Timestamp('2103-05-14 00:00:00'),\n",
              " Timestamp('2103-05-15 00:00:00'),\n",
              " Timestamp('2103-05-16 00:00:00'),\n",
              " Timestamp('2103-05-17 00:00:00'),\n",
              " Timestamp('2103-05-19 00:00:00'),\n",
              " Timestamp('2103-05-20 00:00:00'),\n",
              " Timestamp('2103-05-21 00:00:00'),\n",
              " Timestamp('2103-05-22 00:00:00'),\n",
              " Timestamp('2103-05-23 00:00:00'),\n",
              " Timestamp('2103-05-24 00:00:00'),\n",
              " Timestamp('2103-05-25 00:00:00'),\n",
              " Timestamp('2103-05-26 00:00:00'),\n",
              " Timestamp('2103-05-28 00:00:00'),\n",
              " Timestamp('2103-05-30 00:00:00'),\n",
              " Timestamp('2103-05-31 00:00:00'),\n",
              " Timestamp('2103-06-01 00:00:00'),\n",
              " Timestamp('2103-06-02 00:00:00'),\n",
              " Timestamp('2103-06-03 00:00:00'),\n",
              " Timestamp('2103-06-04 00:00:00'),\n",
              " Timestamp('2103-06-05 00:00:00'),\n",
              " Timestamp('2103-06-07 00:00:00'),\n",
              " Timestamp('2103-06-08 00:00:00'),\n",
              " Timestamp('2103-06-09 00:00:00'),\n",
              " Timestamp('2103-06-10 00:00:00'),\n",
              " Timestamp('2103-06-11 00:00:00'),\n",
              " Timestamp('2103-06-12 00:00:00'),\n",
              " Timestamp('2103-06-14 00:00:00'),\n",
              " Timestamp('2103-06-15 00:00:00'),\n",
              " Timestamp('2103-06-18 00:00:00'),\n",
              " Timestamp('2103-06-19 00:00:00'),\n",
              " Timestamp('2103-06-20 00:00:00'),\n",
              " Timestamp('2103-06-21 00:00:00'),\n",
              " Timestamp('2103-06-22 00:00:00'),\n",
              " Timestamp('2103-06-23 00:00:00'),\n",
              " Timestamp('2103-06-24 00:00:00'),\n",
              " Timestamp('2103-06-25 00:00:00'),\n",
              " Timestamp('2103-06-26 00:00:00'),\n",
              " Timestamp('2103-06-27 00:00:00'),\n",
              " Timestamp('2103-06-28 00:00:00'),\n",
              " Timestamp('2103-06-30 00:00:00'),\n",
              " Timestamp('2103-07-02 00:00:00'),\n",
              " Timestamp('2103-07-03 00:00:00'),\n",
              " Timestamp('2103-07-04 00:00:00'),\n",
              " Timestamp('2103-07-05 00:00:00'),\n",
              " Timestamp('2103-07-06 00:00:00'),\n",
              " Timestamp('2103-07-09 00:00:00'),\n",
              " Timestamp('2103-07-10 00:00:00'),\n",
              " Timestamp('2103-07-11 00:00:00'),\n",
              " Timestamp('2103-07-12 00:00:00'),\n",
              " Timestamp('2103-07-16 00:00:00'),\n",
              " Timestamp('2103-07-17 00:00:00'),\n",
              " Timestamp('2103-07-18 00:00:00'),\n",
              " Timestamp('2103-07-19 00:00:00'),\n",
              " Timestamp('2103-07-20 00:00:00'),\n",
              " Timestamp('2103-07-21 00:00:00'),\n",
              " Timestamp('2103-07-23 00:00:00'),\n",
              " Timestamp('2103-07-24 00:00:00'),\n",
              " Timestamp('2103-07-25 00:00:00'),\n",
              " Timestamp('2103-07-26 00:00:00'),\n",
              " Timestamp('2103-07-28 00:00:00'),\n",
              " Timestamp('2103-07-29 00:00:00'),\n",
              " Timestamp('2103-07-30 00:00:00'),\n",
              " Timestamp('2103-07-31 00:00:00'),\n",
              " Timestamp('2103-08-02 00:00:00'),\n",
              " Timestamp('2103-08-03 00:00:00'),\n",
              " Timestamp('2103-08-04 00:00:00'),\n",
              " Timestamp('2103-08-06 00:00:00'),\n",
              " Timestamp('2103-08-07 00:00:00'),\n",
              " Timestamp('2103-08-08 00:00:00'),\n",
              " Timestamp('2103-08-09 00:00:00'),\n",
              " Timestamp('2103-08-10 00:00:00'),\n",
              " Timestamp('2103-08-11 00:00:00'),\n",
              " Timestamp('2103-08-12 00:00:00'),\n",
              " Timestamp('2103-08-13 00:00:00'),\n",
              " Timestamp('2103-08-14 00:00:00'),\n",
              " Timestamp('2103-08-15 00:00:00'),\n",
              " Timestamp('2103-08-16 00:00:00'),\n",
              " Timestamp('2103-08-17 00:00:00'),\n",
              " Timestamp('2103-08-18 00:00:00'),\n",
              " Timestamp('2103-08-20 00:00:00'),\n",
              " Timestamp('2103-08-21 00:00:00'),\n",
              " Timestamp('2103-08-23 00:00:00'),\n",
              " Timestamp('2103-08-25 00:00:00'),\n",
              " Timestamp('2103-08-26 00:00:00'),\n",
              " Timestamp('2103-08-27 00:00:00'),\n",
              " Timestamp('2103-08-28 00:00:00'),\n",
              " Timestamp('2103-08-29 00:00:00'),\n",
              " Timestamp('2103-08-30 00:00:00'),\n",
              " Timestamp('2103-08-31 00:00:00'),\n",
              " Timestamp('2103-09-02 00:00:00'),\n",
              " Timestamp('2103-09-04 00:00:00'),\n",
              " Timestamp('2103-09-05 00:00:00'),\n",
              " Timestamp('2103-09-06 00:00:00'),\n",
              " Timestamp('2103-09-08 00:00:00'),\n",
              " Timestamp('2103-09-10 00:00:00'),\n",
              " Timestamp('2103-09-11 00:00:00'),\n",
              " Timestamp('2103-09-12 00:00:00'),\n",
              " Timestamp('2103-09-13 00:00:00'),\n",
              " Timestamp('2103-09-14 00:00:00'),\n",
              " Timestamp('2103-09-15 00:00:00'),\n",
              " Timestamp('2103-09-16 00:00:00'),\n",
              " Timestamp('2103-09-17 00:00:00'),\n",
              " Timestamp('2103-09-18 00:00:00'),\n",
              " Timestamp('2103-09-19 00:00:00'),\n",
              " Timestamp('2103-09-20 00:00:00'),\n",
              " Timestamp('2103-09-21 00:00:00'),\n",
              " Timestamp('2103-09-22 00:00:00'),\n",
              " Timestamp('2103-09-23 00:00:00'),\n",
              " Timestamp('2103-09-24 00:00:00'),\n",
              " Timestamp('2103-09-25 00:00:00'),\n",
              " Timestamp('2103-09-26 00:00:00'),\n",
              " Timestamp('2103-09-27 00:00:00'),\n",
              " Timestamp('2103-09-29 00:00:00'),\n",
              " Timestamp('2103-09-30 00:00:00'),\n",
              " Timestamp('2103-10-02 00:00:00'),\n",
              " Timestamp('2103-10-03 00:00:00'),\n",
              " Timestamp('2103-10-05 00:00:00'),\n",
              " Timestamp('2103-10-06 00:00:00'),\n",
              " Timestamp('2103-10-07 00:00:00'),\n",
              " Timestamp('2103-10-08 00:00:00'),\n",
              " Timestamp('2103-10-09 00:00:00'),\n",
              " Timestamp('2103-10-10 00:00:00'),\n",
              " Timestamp('2103-10-11 00:00:00'),\n",
              " Timestamp('2103-10-12 00:00:00'),\n",
              " Timestamp('2103-10-13 00:00:00'),\n",
              " Timestamp('2103-10-14 00:00:00'),\n",
              " Timestamp('2103-10-15 00:00:00'),\n",
              " Timestamp('2103-10-16 00:00:00'),\n",
              " Timestamp('2103-10-17 00:00:00'),\n",
              " Timestamp('2103-10-18 00:00:00'),\n",
              " Timestamp('2103-10-19 00:00:00'),\n",
              " Timestamp('2103-10-20 00:00:00'),\n",
              " Timestamp('2103-10-22 00:00:00'),\n",
              " Timestamp('2103-10-23 00:00:00'),\n",
              " Timestamp('2103-10-26 00:00:00'),\n",
              " Timestamp('2103-10-29 00:00:00'),\n",
              " Timestamp('2103-10-31 00:00:00'),\n",
              " Timestamp('2103-11-01 00:00:00'),\n",
              " Timestamp('2103-11-02 00:00:00'),\n",
              " Timestamp('2103-11-03 00:00:00'),\n",
              " Timestamp('2103-11-04 00:00:00'),\n",
              " Timestamp('2103-11-05 00:00:00'),\n",
              " Timestamp('2103-11-06 00:00:00'),\n",
              " Timestamp('2103-11-07 00:00:00'),\n",
              " Timestamp('2103-11-08 00:00:00'),\n",
              " Timestamp('2103-11-09 00:00:00'),\n",
              " Timestamp('2103-11-12 00:00:00'),\n",
              " Timestamp('2103-11-13 00:00:00'),\n",
              " Timestamp('2103-11-14 00:00:00'),\n",
              " Timestamp('2103-11-16 00:00:00'),\n",
              " Timestamp('2103-11-17 00:00:00'),\n",
              " Timestamp('2103-11-18 00:00:00'),\n",
              " Timestamp('2103-11-20 00:00:00'),\n",
              " Timestamp('2103-11-21 00:00:00'),\n",
              " Timestamp('2103-11-22 00:00:00'),\n",
              " Timestamp('2103-11-23 00:00:00'),\n",
              " Timestamp('2103-11-24 00:00:00'),\n",
              " Timestamp('2103-11-25 00:00:00'),\n",
              " Timestamp('2103-11-26 00:00:00'),\n",
              " Timestamp('2103-11-27 00:00:00'),\n",
              " Timestamp('2103-12-01 00:00:00'),\n",
              " Timestamp('2103-12-02 00:00:00'),\n",
              " Timestamp('2103-12-03 00:00:00'),\n",
              " Timestamp('2103-12-05 00:00:00'),\n",
              " Timestamp('2103-12-06 00:00:00'),\n",
              " Timestamp('2103-12-07 00:00:00'),\n",
              " Timestamp('2103-12-08 00:00:00'),\n",
              " Timestamp('2103-12-09 00:00:00'),\n",
              " Timestamp('2103-12-10 00:00:00'),\n",
              " Timestamp('2103-12-11 00:00:00'),\n",
              " Timestamp('2103-12-12 00:00:00'),\n",
              " Timestamp('2103-12-13 00:00:00'),\n",
              " Timestamp('2103-12-15 00:00:00'),\n",
              " Timestamp('2103-12-16 00:00:00'),\n",
              " Timestamp('2103-12-17 00:00:00'),\n",
              " Timestamp('2103-12-18 00:00:00'),\n",
              " Timestamp('2103-12-19 00:00:00'),\n",
              " Timestamp('2103-12-20 00:00:00'),\n",
              " Timestamp('2103-12-21 00:00:00'),\n",
              " Timestamp('2103-12-23 00:00:00'),\n",
              " Timestamp('2103-12-28 00:00:00'),\n",
              " Timestamp('2103-12-29 00:00:00'),\n",
              " Timestamp('2103-12-30 00:00:00'),\n",
              " Timestamp('2103-12-31 00:00:00'),\n",
              " Timestamp('2104-01-02 00:00:00'),\n",
              " Timestamp('2104-01-03 00:00:00'),\n",
              " Timestamp('2104-01-04 00:00:00'),\n",
              " Timestamp('2104-01-06 00:00:00'),\n",
              " Timestamp('2104-01-07 00:00:00'),\n",
              " Timestamp('2104-01-08 00:00:00'),\n",
              " Timestamp('2104-01-09 00:00:00'),\n",
              " Timestamp('2104-01-11 00:00:00'),\n",
              " Timestamp('2104-01-12 00:00:00'),\n",
              " Timestamp('2104-01-13 00:00:00'),\n",
              " Timestamp('2104-01-14 00:00:00'),\n",
              " Timestamp('2104-01-15 00:00:00'),\n",
              " ...]"
            ]
          },
          "metadata": {
            "tags": []
          },
          "execution_count": 24
        }
      ]
    },
    {
      "cell_type": "code",
      "metadata": {
        "id": "jfm8xcEBwUZj"
      },
      "source": [
        "ds = dataset_new.index.to_series()\n",
        "dataset_new['MONTH'] = ds.dt.month\n",
        "dataset_new['DAY_OF_WEEK'] = ds.dt.dayofweek\n",
        "dataset_new['DATE'] = ds.dt.day\n",
        "dataset_new['YEAR'] = ds.dt.year"
      ],
      "execution_count": null,
      "outputs": []
    },
    {
      "cell_type": "code",
      "metadata": {
        "colab": {
          "base_uri": "https://localhost:8080/",
          "height": 235
        },
        "id": "rUKguZtN3LgN",
        "outputId": "d1a22db2-21a6-4cd3-c3b7-5025375ae684"
      },
      "source": [
        "dataset_new.head()"
      ],
      "execution_count": null,
      "outputs": [
        {
          "output_type": "execute_result",
          "data": {
            "text/html": [
              "<div>\n",
              "<style scoped>\n",
              "    .dataframe tbody tr th:only-of-type {\n",
              "        vertical-align: middle;\n",
              "    }\n",
              "\n",
              "    .dataframe tbody tr th {\n",
              "        vertical-align: top;\n",
              "    }\n",
              "\n",
              "    .dataframe thead th {\n",
              "        text-align: right;\n",
              "    }\n",
              "</style>\n",
              "<table border=\"1\" class=\"dataframe\">\n",
              "  <thead>\n",
              "    <tr style=\"text-align: right;\">\n",
              "      <th></th>\n",
              "      <th>Admissions</th>\n",
              "      <th>MONTH</th>\n",
              "      <th>DAY_OF_WEEK</th>\n",
              "      <th>DATE</th>\n",
              "      <th>YEAR</th>\n",
              "    </tr>\n",
              "    <tr>\n",
              "      <th>ADMITTIME</th>\n",
              "      <th></th>\n",
              "      <th></th>\n",
              "      <th></th>\n",
              "      <th></th>\n",
              "      <th></th>\n",
              "    </tr>\n",
              "  </thead>\n",
              "  <tbody>\n",
              "    <tr>\n",
              "      <th>2100-06-07</th>\n",
              "      <td>1</td>\n",
              "      <td>6</td>\n",
              "      <td>0</td>\n",
              "      <td>7</td>\n",
              "      <td>2100</td>\n",
              "    </tr>\n",
              "    <tr>\n",
              "      <th>2100-06-09</th>\n",
              "      <td>1</td>\n",
              "      <td>6</td>\n",
              "      <td>2</td>\n",
              "      <td>9</td>\n",
              "      <td>2100</td>\n",
              "    </tr>\n",
              "    <tr>\n",
              "      <th>2100-06-14</th>\n",
              "      <td>2</td>\n",
              "      <td>6</td>\n",
              "      <td>0</td>\n",
              "      <td>14</td>\n",
              "      <td>2100</td>\n",
              "    </tr>\n",
              "    <tr>\n",
              "      <th>2100-06-22</th>\n",
              "      <td>1</td>\n",
              "      <td>6</td>\n",
              "      <td>1</td>\n",
              "      <td>22</td>\n",
              "      <td>2100</td>\n",
              "    </tr>\n",
              "    <tr>\n",
              "      <th>2100-06-24</th>\n",
              "      <td>1</td>\n",
              "      <td>6</td>\n",
              "      <td>3</td>\n",
              "      <td>24</td>\n",
              "      <td>2100</td>\n",
              "    </tr>\n",
              "  </tbody>\n",
              "</table>\n",
              "</div>"
            ],
            "text/plain": [
              "            Admissions  MONTH  DAY_OF_WEEK  DATE  YEAR\n",
              "ADMITTIME                                             \n",
              "2100-06-07           1      6            0     7  2100\n",
              "2100-06-09           1      6            2     9  2100\n",
              "2100-06-14           2      6            0    14  2100\n",
              "2100-06-22           1      6            1    22  2100\n",
              "2100-06-24           1      6            3    24  2100"
            ]
          },
          "metadata": {
            "tags": []
          },
          "execution_count": 26
        }
      ]
    },
    {
      "cell_type": "code",
      "metadata": {
        "colab": {
          "base_uri": "https://localhost:8080/",
          "height": 450
        },
        "id": "aygHq3HXoMpM",
        "outputId": "a096fffb-865a-4ce1-b923-3adf65fb10cf"
      },
      "source": [
        "df = dataset_new[['Admissions', 'DAY_OF_WEEK', 'DATE', 'MONTH', 'YEAR']]\n",
        "df"
      ],
      "execution_count": null,
      "outputs": [
        {
          "output_type": "execute_result",
          "data": {
            "text/html": [
              "<div>\n",
              "<style scoped>\n",
              "    .dataframe tbody tr th:only-of-type {\n",
              "        vertical-align: middle;\n",
              "    }\n",
              "\n",
              "    .dataframe tbody tr th {\n",
              "        vertical-align: top;\n",
              "    }\n",
              "\n",
              "    .dataframe thead th {\n",
              "        text-align: right;\n",
              "    }\n",
              "</style>\n",
              "<table border=\"1\" class=\"dataframe\">\n",
              "  <thead>\n",
              "    <tr style=\"text-align: right;\">\n",
              "      <th></th>\n",
              "      <th>Admissions</th>\n",
              "      <th>DAY_OF_WEEK</th>\n",
              "      <th>DATE</th>\n",
              "      <th>MONTH</th>\n",
              "      <th>YEAR</th>\n",
              "    </tr>\n",
              "    <tr>\n",
              "      <th>ADMITTIME</th>\n",
              "      <th></th>\n",
              "      <th></th>\n",
              "      <th></th>\n",
              "      <th></th>\n",
              "      <th></th>\n",
              "    </tr>\n",
              "  </thead>\n",
              "  <tbody>\n",
              "    <tr>\n",
              "      <th>2100-06-07</th>\n",
              "      <td>1</td>\n",
              "      <td>0</td>\n",
              "      <td>7</td>\n",
              "      <td>6</td>\n",
              "      <td>2100</td>\n",
              "    </tr>\n",
              "    <tr>\n",
              "      <th>2100-06-09</th>\n",
              "      <td>1</td>\n",
              "      <td>2</td>\n",
              "      <td>9</td>\n",
              "      <td>6</td>\n",
              "      <td>2100</td>\n",
              "    </tr>\n",
              "    <tr>\n",
              "      <th>2100-06-14</th>\n",
              "      <td>2</td>\n",
              "      <td>0</td>\n",
              "      <td>14</td>\n",
              "      <td>6</td>\n",
              "      <td>2100</td>\n",
              "    </tr>\n",
              "    <tr>\n",
              "      <th>2100-06-22</th>\n",
              "      <td>1</td>\n",
              "      <td>1</td>\n",
              "      <td>22</td>\n",
              "      <td>6</td>\n",
              "      <td>2100</td>\n",
              "    </tr>\n",
              "    <tr>\n",
              "      <th>2100-06-24</th>\n",
              "      <td>1</td>\n",
              "      <td>3</td>\n",
              "      <td>24</td>\n",
              "      <td>6</td>\n",
              "      <td>2100</td>\n",
              "    </tr>\n",
              "    <tr>\n",
              "      <th>...</th>\n",
              "      <td>...</td>\n",
              "      <td>...</td>\n",
              "      <td>...</td>\n",
              "      <td>...</td>\n",
              "      <td>...</td>\n",
              "    </tr>\n",
              "    <tr>\n",
              "      <th>2208-08-19</th>\n",
              "      <td>1</td>\n",
              "      <td>4</td>\n",
              "      <td>19</td>\n",
              "      <td>8</td>\n",
              "      <td>2208</td>\n",
              "    </tr>\n",
              "    <tr>\n",
              "      <th>2209-02-09</th>\n",
              "      <td>1</td>\n",
              "      <td>3</td>\n",
              "      <td>9</td>\n",
              "      <td>2</td>\n",
              "      <td>2209</td>\n",
              "    </tr>\n",
              "    <tr>\n",
              "      <th>2209-07-14</th>\n",
              "      <td>1</td>\n",
              "      <td>4</td>\n",
              "      <td>14</td>\n",
              "      <td>7</td>\n",
              "      <td>2209</td>\n",
              "    </tr>\n",
              "    <tr>\n",
              "      <th>2209-07-31</th>\n",
              "      <td>1</td>\n",
              "      <td>0</td>\n",
              "      <td>31</td>\n",
              "      <td>7</td>\n",
              "      <td>2209</td>\n",
              "    </tr>\n",
              "    <tr>\n",
              "      <th>2210-08-17</th>\n",
              "      <td>1</td>\n",
              "      <td>4</td>\n",
              "      <td>17</td>\n",
              "      <td>8</td>\n",
              "      <td>2210</td>\n",
              "    </tr>\n",
              "  </tbody>\n",
              "</table>\n",
              "<p>29467 rows × 5 columns</p>\n",
              "</div>"
            ],
            "text/plain": [
              "            Admissions  DAY_OF_WEEK  DATE  MONTH  YEAR\n",
              "ADMITTIME                                             \n",
              "2100-06-07           1            0     7      6  2100\n",
              "2100-06-09           1            2     9      6  2100\n",
              "2100-06-14           2            0    14      6  2100\n",
              "2100-06-22           1            1    22      6  2100\n",
              "2100-06-24           1            3    24      6  2100\n",
              "...                ...          ...   ...    ...   ...\n",
              "2208-08-19           1            4    19      8  2208\n",
              "2209-02-09           1            3     9      2  2209\n",
              "2209-07-14           1            4    14      7  2209\n",
              "2209-07-31           1            0    31      7  2209\n",
              "2210-08-17           1            4    17      8  2210\n",
              "\n",
              "[29467 rows x 5 columns]"
            ]
          },
          "metadata": {
            "tags": []
          },
          "execution_count": 27
        }
      ]
    },
    {
      "cell_type": "code",
      "metadata": {
        "colab": {
          "base_uri": "https://localhost:8080/"
        },
        "id": "8AESEE6Y0Rca",
        "outputId": "962bbd6f-c2b8-4dde-ded8-6c9ab786d3da"
      },
      "source": [
        "dataset_new['MONTH'].dtypes"
      ],
      "execution_count": null,
      "outputs": [
        {
          "output_type": "execute_result",
          "data": {
            "text/plain": [
              "dtype('int64')"
            ]
          },
          "metadata": {
            "tags": []
          },
          "execution_count": 28
        }
      ]
    },
    {
      "cell_type": "markdown",
      "metadata": {
        "id": "h0rYTyYuKTvj"
      },
      "source": [
        "# Data Exploration"
      ]
    },
    {
      "cell_type": "markdown",
      "metadata": {
        "id": "NXASqmyAaWDa"
      },
      "source": [
        "## Year"
      ]
    },
    {
      "cell_type": "code",
      "metadata": {
        "colab": {
          "base_uri": "https://localhost:8080/",
          "height": 537
        },
        "id": "n7k0AvMnaYX0",
        "outputId": "d1cf8458-fe9c-43e2-e9a2-1bc51e22cc21"
      },
      "source": [
        "year = pd.pivot_table(dataset_new, values='Admissions',\n",
        "                   columns=['YEAR'], aggfunc=np.count_nonzero)\n",
        "year = year.T\n",
        "print(year)\n",
        "plt.plot(year.index, year.Admissions, color='purple', linestyle='dashed', linewidth=2)"
      ],
      "execution_count": null,
      "outputs": [
        {
          "output_type": "stream",
          "text": [
            "      Admissions\n",
            "YEAR            \n",
            "2100         135\n",
            "2101         280\n",
            "2102         279\n",
            "2103         294\n",
            "2104         279\n",
            "...          ...\n",
            "2206          25\n",
            "2207           6\n",
            "2208           5\n",
            "2209           3\n",
            "2210           1\n",
            "\n",
            "[111 rows x 1 columns]\n"
          ],
          "name": "stdout"
        },
        {
          "output_type": "execute_result",
          "data": {
            "text/plain": [
              "[<matplotlib.lines.Line2D at 0x7f5c26b11a10>]"
            ]
          },
          "metadata": {
            "tags": []
          },
          "execution_count": 29
        },
        {
          "output_type": "display_data",
          "data": {
            "image/png": "[encoded data removed]",
            "text/plain": [
              "<Figure size 432x288 with 1 Axes>"
            ]
          },
          "metadata": {
            "tags": [],
            "needs_background": "light"
          }
        }
      ]
    },
    {
      "cell_type": "markdown",
      "metadata": {
        "id": "vygDuUlgZjgz"
      },
      "source": [
        "##Day"
      ]
    },
    {
      "cell_type": "code",
      "metadata": {
        "colab": {
          "base_uri": "https://localhost:8080/",
          "height": 392
        },
        "id": "XjZ6-W29fSnP",
        "outputId": "cbd38a2d-5e5d-4573-e0ff-05a271cc9480"
      },
      "source": [
        "fig = plt.figure(figsize=(24, 6), dpi=80)\n",
        "fig.suptitle('# Daily Admissions over the years ')\n",
        "plt.xlabel('ADMITTIME')\n",
        "plt.ylabel('Admissions')\n",
        "actual, = plt.plot(dataset_new.index, dataset_new.Admissions, 'go-', label='#admissions')\n",
        "plt.legend(handles=[actual])\n",
        "plt.show()"
      ],
      "execution_count": null,
      "outputs": [
        {
          "output_type": "display_data",
          "data": {
            "image/png": "[encoded data removed]",
            "text/plain": [
              "<Figure size 1920x480 with 1 Axes>"
            ]
          },
          "metadata": {
            "tags": [],
            "needs_background": "light"
          }
        }
      ]
    },
    {
      "cell_type": "code",
      "metadata": {
        "id": "oEtaY7xAzxNC"
      },
      "source": [
        "dataset_new['DAY_OF_WEEK'] = dataset_new['DAY_OF_WEEK'].apply(str)"
      ],
      "execution_count": null,
      "outputs": []
    },
    {
      "cell_type": "code",
      "metadata": {
        "id": "zRbEKNm2-WO4"
      },
      "source": [
        "dataset_new['DAY'] = dataset_new['DAY_OF_WEEK'].replace({'0': 'SUNDAY', '1': 'MONDAY', '2': 'TUESDAY', '3': 'WEDNESDAY', '4': 'THURSDAY', '5': 'FRIDAY', '6': 'SATURDAY'})"
      ],
      "execution_count": null,
      "outputs": []
    },
    {
      "cell_type": "code",
      "metadata": {
        "colab": {
          "base_uri": "https://localhost:8080/",
          "height": 400
        },
        "id": "DDtDchom9c6K",
        "outputId": "fceb8674-41bd-4a3b-9da9-23ae30d579cd"
      },
      "source": [
        "dataset_new[\"WEEKEND\"] = dataset_new[\"DAY\"].isin([\"SATURDAY\", \"SUNDAY\"])\n",
        "sns.catplot(x=\"DAY\", y=\"Admissions\", hue='WEEKEND',\n",
        "            kind=\"box\", dodge=False, data=dataset_new)"
      ],
      "execution_count": null,
      "outputs": [
        {
          "output_type": "execute_result",
          "data": {
            "text/plain": [
              "<seaborn.axisgrid.FacetGrid at 0x7f5c26564490>"
            ]
          },
          "metadata": {
            "tags": []
          },
          "execution_count": 33
        },
        {
          "output_type": "display_data",
          "data": {
            "image/png": "[encoded data removed]",
            "text/plain": [
              "<Figure size 421.25x360 with 1 Axes>"
            ]
          },
          "metadata": {
            "tags": [],
            "needs_background": "light"
          }
        }
      ]
    },
    {
      "cell_type": "markdown",
      "metadata": {
        "id": "ZCe9nTyuZK-M"
      },
      "source": [
        "## Checking for Kurtosis, skewness\n",
        "https://towardsdatascience.com/testing-for-normality-using-skewness-and-kurtosis-afd61be860\n"
      ]
    },
    {
      "cell_type": "code",
      "metadata": {
        "colab": {
          "base_uri": "https://localhost:8080/",
          "height": 265
        },
        "id": "gaDAQXIAXo3X",
        "outputId": "ab4a83b1-3bb8-4933-e5b2-5e55f947f719"
      },
      "source": [
        "plt.hist(dataset_new['Admissions'], bins=5)\n",
        "plt.show()"
      ],
      "execution_count": null,
      "outputs": [
        {
          "output_type": "display_data",
          "data": {
            "image/png": "[encoded data removed]",
            "text/plain": [
              "<Figure size 432x288 with 1 Axes>"
            ]
          },
          "metadata": {
            "tags": [],
            "needs_background": "light"
          }
        }
      ]
    },
    {
      "cell_type": "code",
      "metadata": {
        "colab": {
          "base_uri": "https://localhost:8080/"
        },
        "id": "CRzCdgo4ZPuc",
        "outputId": "7f5183be-9853-403a-b524-23584f7eb9c0"
      },
      "source": [
        "from statsmodels.stats.stattools import jarque_bera as jb\n",
        "from statsmodels.stats.stattools import omni_normtest as omb\n",
        "from statsmodels.compat import lzip\n",
        "\n",
        "print('Mean='+str(round(dataset_new['Admissions'].mean(), 2)))\n",
        "print('Median='+str(round(dataset_new['Admissions'].median(), 2)))\n",
        "name = ['Jarque-Bera', 'Chi^2 two-tail probability', 'Skewness', 'Kurtosis']\n",
        "test_results = jb(dataset_new['Admissions'])\n",
        "lzip(name, test_results)"
      ],
      "execution_count": null,
      "outputs": [
        {
          "output_type": "stream",
          "text": [
            "Mean=2.0\n",
            "Median=2.0\n"
          ],
          "name": "stdout"
        },
        {
          "output_type": "stream",
          "text": [
            "/usr/local/lib/python3.7/dist-packages/statsmodels/tools/_testing.py:19: FutureWarning: pandas.util.testing is deprecated. Use the functions in the public API at pandas.testing instead.\n",
            "  import pandas.util.testing as tm\n"
          ],
          "name": "stderr"
        },
        {
          "output_type": "execute_result",
          "data": {
            "text/plain": [
              "[('Jarque-Bera', 10965.562521406437),\n",
              " ('Chi^2 two-tail probability', 0.0),\n",
              " ('Skewness', 1.230761411364749),\n",
              " ('Kurtosis', 4.694706982148041)]"
            ]
          },
          "metadata": {
            "tags": []
          },
          "execution_count": 35
        }
      ]
    },
    {
      "cell_type": "code",
      "metadata": {
        "id": "zBUtnb3dcAiz"
      },
      "source": [
        "#Add a column to the Data Frame that contains log(Admissions):\n",
        "dataset_new['LOG_ADMISSION_COUNT'] = np.log(dataset_new['Admissions'])\n",
        "#All another column containing sqrt(BB_COUNT)\n",
        "dataset_new['SQRT_ADMISSION_COUNT'] = np.sqrt(dataset_new['Admissions'])"
      ],
      "execution_count": null,
      "outputs": []
    },
    {
      "cell_type": "code",
      "metadata": {
        "colab": {
          "base_uri": "https://localhost:8080/",
          "height": 235
        },
        "id": "rATzUdILdOey",
        "outputId": "ee144636-d662-42c2-aa6e-8fdab28a6561"
      },
      "source": [
        "dataset_new.head()"
      ],
      "execution_count": null,
      "outputs": [
        {
          "output_type": "execute_result",
          "data": {
            "text/html": [
              "<div>\n",
              "<style scoped>\n",
              "    .dataframe tbody tr th:only-of-type {\n",
              "        vertical-align: middle;\n",
              "    }\n",
              "\n",
              "    .dataframe tbody tr th {\n",
              "        vertical-align: top;\n",
              "    }\n",
              "\n",
              "    .dataframe thead th {\n",
              "        text-align: right;\n",
              "    }\n",
              "</style>\n",
              "<table border=\"1\" class=\"dataframe\">\n",
              "  <thead>\n",
              "    <tr style=\"text-align: right;\">\n",
              "      <th></th>\n",
              "      <th>Admissions</th>\n",
              "      <th>MONTH</th>\n",
              "      <th>DAY_OF_WEEK</th>\n",
              "      <th>DATE</th>\n",
              "      <th>YEAR</th>\n",
              "      <th>DAY</th>\n",
              "      <th>WEEKEND</th>\n",
              "      <th>LOG_ADMISSION_COUNT</th>\n",
              "      <th>SQRT_ADMISSION_COUNT</th>\n",
              "    </tr>\n",
              "    <tr>\n",
              "      <th>ADMITTIME</th>\n",
              "      <th></th>\n",
              "      <th></th>\n",
              "      <th></th>\n",
              "      <th></th>\n",
              "      <th></th>\n",
              "      <th></th>\n",
              "      <th></th>\n",
              "      <th></th>\n",
              "      <th></th>\n",
              "    </tr>\n",
              "  </thead>\n",
              "  <tbody>\n",
              "    <tr>\n",
              "      <th>2100-06-07</th>\n",
              "      <td>1</td>\n",
              "      <td>6</td>\n",
              "      <td>0</td>\n",
              "      <td>7</td>\n",
              "      <td>2100</td>\n",
              "      <td>SUNDAY</td>\n",
              "      <td>True</td>\n",
              "      <td>0.000000</td>\n",
              "      <td>1.000000</td>\n",
              "    </tr>\n",
              "    <tr>\n",
              "      <th>2100-06-09</th>\n",
              "      <td>1</td>\n",
              "      <td>6</td>\n",
              "      <td>2</td>\n",
              "      <td>9</td>\n",
              "      <td>2100</td>\n",
              "      <td>TUESDAY</td>\n",
              "      <td>False</td>\n",
              "      <td>0.000000</td>\n",
              "      <td>1.000000</td>\n",
              "    </tr>\n",
              "    <tr>\n",
              "      <th>2100-06-14</th>\n",
              "      <td>2</td>\n",
              "      <td>6</td>\n",
              "      <td>0</td>\n",
              "      <td>14</td>\n",
              "      <td>2100</td>\n",
              "      <td>SUNDAY</td>\n",
              "      <td>True</td>\n",
              "      <td>0.693147</td>\n",
              "      <td>1.414214</td>\n",
              "    </tr>\n",
              "    <tr>\n",
              "      <th>2100-06-22</th>\n",
              "      <td>1</td>\n",
              "      <td>6</td>\n",
              "      <td>1</td>\n",
              "      <td>22</td>\n",
              "      <td>2100</td>\n",
              "      <td>MONDAY</td>\n",
              "      <td>False</td>\n",
              "      <td>0.000000</td>\n",
              "      <td>1.000000</td>\n",
              "    </tr>\n",
              "    <tr>\n",
              "      <th>2100-06-24</th>\n",
              "      <td>1</td>\n",
              "      <td>6</td>\n",
              "      <td>3</td>\n",
              "      <td>24</td>\n",
              "      <td>2100</td>\n",
              "      <td>WEDNESDAY</td>\n",
              "      <td>False</td>\n",
              "      <td>0.000000</td>\n",
              "      <td>1.000000</td>\n",
              "    </tr>\n",
              "  </tbody>\n",
              "</table>\n",
              "</div>"
            ],
            "text/plain": [
              "            Admissions  MONTH  ... LOG_ADMISSION_COUNT  SQRT_ADMISSION_COUNT\n",
              "ADMITTIME                      ...                                          \n",
              "2100-06-07           1      6  ...            0.000000              1.000000\n",
              "2100-06-09           1      6  ...            0.000000              1.000000\n",
              "2100-06-14           2      6  ...            0.693147              1.414214\n",
              "2100-06-22           1      6  ...            0.000000              1.000000\n",
              "2100-06-24           1      6  ...            0.000000              1.000000\n",
              "\n",
              "[5 rows x 9 columns]"
            ]
          },
          "metadata": {
            "tags": []
          },
          "execution_count": 37
        }
      ]
    },
    {
      "cell_type": "code",
      "metadata": {
        "colab": {
          "base_uri": "https://localhost:8080/"
        },
        "id": "LSv9HJDocTkI",
        "outputId": "6a27e1c0-eab1-4d6f-a109-3ebb50e37367"
      },
      "source": [
        "name = ['Jarque-Bera', 'Chi^2 two-tail probability', 'Skewness', 'Kurtosis']\n",
        "test_results = omb(dataset_new['LOG_ADMISSION_COUNT'])\n",
        "lzip(name, test_results)\n"
      ],
      "execution_count": null,
      "outputs": [
        {
          "output_type": "execute_result",
          "data": {
            "text/plain": [
              "[('Jarque-Bera', 11837.849084067439), ('Chi^2 two-tail probability', 0.0)]"
            ]
          },
          "metadata": {
            "tags": []
          },
          "execution_count": 38
        }
      ]
    },
    {
      "cell_type": "code",
      "metadata": {
        "colab": {
          "base_uri": "https://localhost:8080/"
        },
        "id": "-j22ti_ldZTS",
        "outputId": "69f64e2e-b99b-4b7c-cf53-77938ea679fa"
      },
      "source": [
        "test_results = omb(dataset_new['SQRT_ADMISSION_COUNT'])\n",
        "lzip(name, test_results)"
      ],
      "execution_count": null,
      "outputs": [
        {
          "output_type": "execute_result",
          "data": {
            "text/plain": [
              "[('Jarque-Bera', 2005.914754932937), ('Chi^2 two-tail probability', 0.0)]"
            ]
          },
          "metadata": {
            "tags": []
          },
          "execution_count": 39
        }
      ]
    },
    {
      "cell_type": "markdown",
      "metadata": {
        "id": "GyPAqIUUZdH9"
      },
      "source": [
        "## Month"
      ]
    },
    {
      "cell_type": "code",
      "metadata": {
        "id": "lWfU3ZLy-PHR"
      },
      "source": [
        "dataset_new['MONTH'] = dataset_new['MONTH'].apply(str)"
      ],
      "execution_count": null,
      "outputs": []
    },
    {
      "cell_type": "code",
      "metadata": {
        "id": "ba-Uu3psyu3G"
      },
      "source": [
        "dataset_new['MONTH'] = dataset_new['MONTH'].replace({'1': 'Jan', '2': 'Feb', '3': 'Mar', '4': 'Apr', '5': 'May', '6': 'Jun', '7': 'July', '8': 'Aug', '9': 'Sep', '10': 'Oct', '11': 'Nov', '12': 'Dec'})"
      ],
      "execution_count": null,
      "outputs": []
    },
    {
      "cell_type": "code",
      "metadata": {
        "colab": {
          "base_uri": "https://localhost:8080/",
          "height": 235
        },
        "id": "rDwgiXM33T44",
        "outputId": "ef91dc27-2e18-469a-c232-01e914c8124d"
      },
      "source": [
        "dataset_new.head()"
      ],
      "execution_count": null,
      "outputs": [
        {
          "output_type": "execute_result",
          "data": {
            "text/html": [
              "<div>\n",
              "<style scoped>\n",
              "    .dataframe tbody tr th:only-of-type {\n",
              "        vertical-align: middle;\n",
              "    }\n",
              "\n",
              "    .dataframe tbody tr th {\n",
              "        vertical-align: top;\n",
              "    }\n",
              "\n",
              "    .dataframe thead th {\n",
              "        text-align: right;\n",
              "    }\n",
              "</style>\n",
              "<table border=\"1\" class=\"dataframe\">\n",
              "  <thead>\n",
              "    <tr style=\"text-align: right;\">\n",
              "      <th></th>\n",
              "      <th>Admissions</th>\n",
              "      <th>MONTH</th>\n",
              "      <th>DAY_OF_WEEK</th>\n",
              "      <th>DATE</th>\n",
              "      <th>YEAR</th>\n",
              "      <th>DAY</th>\n",
              "      <th>WEEKEND</th>\n",
              "      <th>LOG_ADMISSION_COUNT</th>\n",
              "      <th>SQRT_ADMISSION_COUNT</th>\n",
              "    </tr>\n",
              "    <tr>\n",
              "      <th>ADMITTIME</th>\n",
              "      <th></th>\n",
              "      <th></th>\n",
              "      <th></th>\n",
              "      <th></th>\n",
              "      <th></th>\n",
              "      <th></th>\n",
              "      <th></th>\n",
              "      <th></th>\n",
              "      <th></th>\n",
              "    </tr>\n",
              "  </thead>\n",
              "  <tbody>\n",
              "    <tr>\n",
              "      <th>2100-06-07</th>\n",
              "      <td>1</td>\n",
              "      <td>Jun</td>\n",
              "      <td>0</td>\n",
              "      <td>7</td>\n",
              "      <td>2100</td>\n",
              "      <td>SUNDAY</td>\n",
              "      <td>True</td>\n",
              "      <td>0.000000</td>\n",
              "      <td>1.000000</td>\n",
              "    </tr>\n",
              "    <tr>\n",
              "      <th>2100-06-09</th>\n",
              "      <td>1</td>\n",
              "      <td>Jun</td>\n",
              "      <td>2</td>\n",
              "      <td>9</td>\n",
              "      <td>2100</td>\n",
              "      <td>TUESDAY</td>\n",
              "      <td>False</td>\n",
              "      <td>0.000000</td>\n",
              "      <td>1.000000</td>\n",
              "    </tr>\n",
              "    <tr>\n",
              "      <th>2100-06-14</th>\n",
              "      <td>2</td>\n",
              "      <td>Jun</td>\n",
              "      <td>0</td>\n",
              "      <td>14</td>\n",
              "      <td>2100</td>\n",
              "      <td>SUNDAY</td>\n",
              "      <td>True</td>\n",
              "      <td>0.693147</td>\n",
              "      <td>1.414214</td>\n",
              "    </tr>\n",
              "    <tr>\n",
              "      <th>2100-06-22</th>\n",
              "      <td>1</td>\n",
              "      <td>Jun</td>\n",
              "      <td>1</td>\n",
              "      <td>22</td>\n",
              "      <td>2100</td>\n",
              "      <td>MONDAY</td>\n",
              "      <td>False</td>\n",
              "      <td>0.000000</td>\n",
              "      <td>1.000000</td>\n",
              "    </tr>\n",
              "    <tr>\n",
              "      <th>2100-06-24</th>\n",
              "      <td>1</td>\n",
              "      <td>Jun</td>\n",
              "      <td>3</td>\n",
              "      <td>24</td>\n",
              "      <td>2100</td>\n",
              "      <td>WEDNESDAY</td>\n",
              "      <td>False</td>\n",
              "      <td>0.000000</td>\n",
              "      <td>1.000000</td>\n",
              "    </tr>\n",
              "  </tbody>\n",
              "</table>\n",
              "</div>"
            ],
            "text/plain": [
              "            Admissions MONTH  ... LOG_ADMISSION_COUNT  SQRT_ADMISSION_COUNT\n",
              "ADMITTIME                     ...                                          \n",
              "2100-06-07           1   Jun  ...            0.000000              1.000000\n",
              "2100-06-09           1   Jun  ...            0.000000              1.000000\n",
              "2100-06-14           2   Jun  ...            0.693147              1.414214\n",
              "2100-06-22           1   Jun  ...            0.000000              1.000000\n",
              "2100-06-24           1   Jun  ...            0.000000              1.000000\n",
              "\n",
              "[5 rows x 9 columns]"
            ]
          },
          "metadata": {
            "tags": []
          },
          "execution_count": 42
        }
      ]
    },
    {
      "cell_type": "code",
      "metadata": {
        "colab": {
          "base_uri": "https://localhost:8080/",
          "height": 638
        },
        "id": "plehSYMbRbBl",
        "outputId": "54ddcf6e-a7a0-4135-bfa2-b8ce50e5bd36"
      },
      "source": [
        "month = pd.pivot_table(dataset_new, values='Admissions',\n",
        "                   columns=['MONTH'], aggfunc=np.count_nonzero)\n",
        "month = month.T\n",
        "print(month)\n",
        "sns.catplot(x=month.index, y=\"Admissions\", kind=\"bar\", data=month)"
      ],
      "execution_count": null,
      "outputs": [
        {
          "output_type": "stream",
          "text": [
            "       Admissions\n",
            "MONTH            \n",
            "Apr          2393\n",
            "Aug          2544\n",
            "Dec          2473\n",
            "Feb          2274\n",
            "Jan          2516\n",
            "July         2534\n",
            "Jun          2441\n",
            "Mar          2510\n",
            "May          2475\n",
            "Nov          2410\n",
            "Oct          2481\n",
            "Sep          2416\n"
          ],
          "name": "stdout"
        },
        {
          "output_type": "execute_result",
          "data": {
            "text/plain": [
              "<seaborn.axisgrid.FacetGrid at 0x7f5c263c4110>"
            ]
          },
          "metadata": {
            "tags": []
          },
          "execution_count": 43
        },
        {
          "output_type": "display_data",
          "data": {
            "image/png": "[encoded data removed]",
            "text/plain": [
              "<Figure size 360x360 with 1 Axes>"
            ]
          },
          "metadata": {
            "tags": [],
            "needs_background": "light"
          }
        }
      ]
    },
    {
      "cell_type": "code",
      "metadata": {
        "id": "MlZkfyDq0wsH",
        "colab": {
          "base_uri": "https://localhost:8080/",
          "height": 235
        },
        "outputId": "15bf43ff-adb0-4b4f-a7fc-41ce5f230802"
      },
      "source": [
        "dataset_new.head()"
      ],
      "execution_count": null,
      "outputs": [
        {
          "output_type": "execute_result",
          "data": {
            "text/html": [
              "<div>\n",
              "<style scoped>\n",
              "    .dataframe tbody tr th:only-of-type {\n",
              "        vertical-align: middle;\n",
              "    }\n",
              "\n",
              "    .dataframe tbody tr th {\n",
              "        vertical-align: top;\n",
              "    }\n",
              "\n",
              "    .dataframe thead th {\n",
              "        text-align: right;\n",
              "    }\n",
              "</style>\n",
              "<table border=\"1\" class=\"dataframe\">\n",
              "  <thead>\n",
              "    <tr style=\"text-align: right;\">\n",
              "      <th></th>\n",
              "      <th>Admissions</th>\n",
              "      <th>MONTH</th>\n",
              "      <th>DAY_OF_WEEK</th>\n",
              "      <th>DATE</th>\n",
              "      <th>YEAR</th>\n",
              "      <th>DAY</th>\n",
              "      <th>WEEKEND</th>\n",
              "      <th>LOG_ADMISSION_COUNT</th>\n",
              "      <th>SQRT_ADMISSION_COUNT</th>\n",
              "    </tr>\n",
              "    <tr>\n",
              "      <th>ADMITTIME</th>\n",
              "      <th></th>\n",
              "      <th></th>\n",
              "      <th></th>\n",
              "      <th></th>\n",
              "      <th></th>\n",
              "      <th></th>\n",
              "      <th></th>\n",
              "      <th></th>\n",
              "      <th></th>\n",
              "    </tr>\n",
              "  </thead>\n",
              "  <tbody>\n",
              "    <tr>\n",
              "      <th>2100-06-07</th>\n",
              "      <td>1</td>\n",
              "      <td>Jun</td>\n",
              "      <td>0</td>\n",
              "      <td>7</td>\n",
              "      <td>2100</td>\n",
              "      <td>SUNDAY</td>\n",
              "      <td>True</td>\n",
              "      <td>0.000000</td>\n",
              "      <td>1.000000</td>\n",
              "    </tr>\n",
              "    <tr>\n",
              "      <th>2100-06-09</th>\n",
              "      <td>1</td>\n",
              "      <td>Jun</td>\n",
              "      <td>2</td>\n",
              "      <td>9</td>\n",
              "      <td>2100</td>\n",
              "      <td>TUESDAY</td>\n",
              "      <td>False</td>\n",
              "      <td>0.000000</td>\n",
              "      <td>1.000000</td>\n",
              "    </tr>\n",
              "    <tr>\n",
              "      <th>2100-06-14</th>\n",
              "      <td>2</td>\n",
              "      <td>Jun</td>\n",
              "      <td>0</td>\n",
              "      <td>14</td>\n",
              "      <td>2100</td>\n",
              "      <td>SUNDAY</td>\n",
              "      <td>True</td>\n",
              "      <td>0.693147</td>\n",
              "      <td>1.414214</td>\n",
              "    </tr>\n",
              "    <tr>\n",
              "      <th>2100-06-22</th>\n",
              "      <td>1</td>\n",
              "      <td>Jun</td>\n",
              "      <td>1</td>\n",
              "      <td>22</td>\n",
              "      <td>2100</td>\n",
              "      <td>MONDAY</td>\n",
              "      <td>False</td>\n",
              "      <td>0.000000</td>\n",
              "      <td>1.000000</td>\n",
              "    </tr>\n",
              "    <tr>\n",
              "      <th>2100-06-24</th>\n",
              "      <td>1</td>\n",
              "      <td>Jun</td>\n",
              "      <td>3</td>\n",
              "      <td>24</td>\n",
              "      <td>2100</td>\n",
              "      <td>WEDNESDAY</td>\n",
              "      <td>False</td>\n",
              "      <td>0.000000</td>\n",
              "      <td>1.000000</td>\n",
              "    </tr>\n",
              "  </tbody>\n",
              "</table>\n",
              "</div>"
            ],
            "text/plain": [
              "            Admissions MONTH  ... LOG_ADMISSION_COUNT  SQRT_ADMISSION_COUNT\n",
              "ADMITTIME                     ...                                          \n",
              "2100-06-07           1   Jun  ...            0.000000              1.000000\n",
              "2100-06-09           1   Jun  ...            0.000000              1.000000\n",
              "2100-06-14           2   Jun  ...            0.693147              1.414214\n",
              "2100-06-22           1   Jun  ...            0.000000              1.000000\n",
              "2100-06-24           1   Jun  ...            0.000000              1.000000\n",
              "\n",
              "[5 rows x 9 columns]"
            ]
          },
          "metadata": {
            "tags": []
          },
          "execution_count": 44
        }
      ]
    },
    {
      "cell_type": "markdown",
      "metadata": {
        "id": "Km2rA_ze5ji-"
      },
      "source": [
        "#Modelling"
      ]
    },
    {
      "cell_type": "markdown",
      "metadata": {
        "id": "e6bbBlpc5Jy-"
      },
      "source": [
        "## Dialy Admissions Prediction"
      ]
    },
    {
      "cell_type": "code",
      "metadata": {
        "colab": {
          "base_uri": "https://localhost:8080/"
        },
        "id": "AlVpITduQqMC",
        "outputId": "653e05ac-c2b7-4d59-e875-f31d1fe3afa5"
      },
      "source": [
        "df['ADMISSION'] = dataset_new.Admissions"
      ],
      "execution_count": null,
      "outputs": [
        {
          "output_type": "stream",
          "text": [
            "/usr/local/lib/python3.7/dist-packages/ipykernel_launcher.py:1: SettingWithCopyWarning: \n",
            "A value is trying to be set on a copy of a slice from a DataFrame.\n",
            "Try using .loc[row_indexer,col_indexer] = value instead\n",
            "\n",
            "See the caveats in the documentation: https://pandas.pydata.org/pandas-docs/stable/user_guide/indexing.html#returning-a-view-versus-a-copy\n",
            "  \"\"\"Entry point for launching an IPython kernel.\n"
          ],
          "name": "stderr"
        }
      ]
    },
    {
      "cell_type": "code",
      "metadata": {
        "colab": {
          "base_uri": "https://localhost:8080/",
          "height": 235
        },
        "id": "71WktYBIi5xL",
        "outputId": "2584bf23-97cc-4a82-8743-3052166385e6"
      },
      "source": [
        "df.head(5)"
      ],
      "execution_count": null,
      "outputs": [
        {
          "output_type": "execute_result",
          "data": {
            "text/html": [
              "<div>\n",
              "<style scoped>\n",
              "    .dataframe tbody tr th:only-of-type {\n",
              "        vertical-align: middle;\n",
              "    }\n",
              "\n",
              "    .dataframe tbody tr th {\n",
              "        vertical-align: top;\n",
              "    }\n",
              "\n",
              "    .dataframe thead th {\n",
              "        text-align: right;\n",
              "    }\n",
              "</style>\n",
              "<table border=\"1\" class=\"dataframe\">\n",
              "  <thead>\n",
              "    <tr style=\"text-align: right;\">\n",
              "      <th></th>\n",
              "      <th>Admissions</th>\n",
              "      <th>DAY_OF_WEEK</th>\n",
              "      <th>DATE</th>\n",
              "      <th>MONTH</th>\n",
              "      <th>YEAR</th>\n",
              "      <th>ADMISSION</th>\n",
              "    </tr>\n",
              "    <tr>\n",
              "      <th>ADMITTIME</th>\n",
              "      <th></th>\n",
              "      <th></th>\n",
              "      <th></th>\n",
              "      <th></th>\n",
              "      <th></th>\n",
              "      <th></th>\n",
              "    </tr>\n",
              "  </thead>\n",
              "  <tbody>\n",
              "    <tr>\n",
              "      <th>2100-06-07</th>\n",
              "      <td>1</td>\n",
              "      <td>0</td>\n",
              "      <td>7</td>\n",
              "      <td>6</td>\n",
              "      <td>2100</td>\n",
              "      <td>1</td>\n",
              "    </tr>\n",
              "    <tr>\n",
              "      <th>2100-06-09</th>\n",
              "      <td>1</td>\n",
              "      <td>2</td>\n",
              "      <td>9</td>\n",
              "      <td>6</td>\n",
              "      <td>2100</td>\n",
              "      <td>1</td>\n",
              "    </tr>\n",
              "    <tr>\n",
              "      <th>2100-06-14</th>\n",
              "      <td>2</td>\n",
              "      <td>0</td>\n",
              "      <td>14</td>\n",
              "      <td>6</td>\n",
              "      <td>2100</td>\n",
              "      <td>2</td>\n",
              "    </tr>\n",
              "    <tr>\n",
              "      <th>2100-06-22</th>\n",
              "      <td>1</td>\n",
              "      <td>1</td>\n",
              "      <td>22</td>\n",
              "      <td>6</td>\n",
              "      <td>2100</td>\n",
              "      <td>1</td>\n",
              "    </tr>\n",
              "    <tr>\n",
              "      <th>2100-06-24</th>\n",
              "      <td>1</td>\n",
              "      <td>3</td>\n",
              "      <td>24</td>\n",
              "      <td>6</td>\n",
              "      <td>2100</td>\n",
              "      <td>1</td>\n",
              "    </tr>\n",
              "  </tbody>\n",
              "</table>\n",
              "</div>"
            ],
            "text/plain": [
              "            Admissions  DAY_OF_WEEK  DATE  MONTH  YEAR  ADMISSION\n",
              "ADMITTIME                                                        \n",
              "2100-06-07           1            0     7      6  2100          1\n",
              "2100-06-09           1            2     9      6  2100          1\n",
              "2100-06-14           2            0    14      6  2100          2\n",
              "2100-06-22           1            1    22      6  2100          1\n",
              "2100-06-24           1            3    24      6  2100          1"
            ]
          },
          "metadata": {
            "tags": []
          },
          "execution_count": 46
        }
      ]
    },
    {
      "cell_type": "code",
      "metadata": {
        "id": "oUhlB7yUQ4Xt",
        "colab": {
          "base_uri": "https://localhost:8080/",
          "height": 535
        },
        "outputId": "9a612a5d-c632-4a65-b943-3c5fa9e24be9"
      },
      "source": [
        "df.drop('Admissions', axis=1, inplace=True)\n",
        "df"
      ],
      "execution_count": null,
      "outputs": [
        {
          "output_type": "stream",
          "text": [
            "/usr/local/lib/python3.7/dist-packages/pandas/core/frame.py:4174: SettingWithCopyWarning: \n",
            "A value is trying to be set on a copy of a slice from a DataFrame\n",
            "\n",
            "See the caveats in the documentation: https://pandas.pydata.org/pandas-docs/stable/user_guide/indexing.html#returning-a-view-versus-a-copy\n",
            "  errors=errors,\n"
          ],
          "name": "stderr"
        },
        {
          "output_type": "execute_result",
          "data": {
            "text/html": [
              "<div>\n",
              "<style scoped>\n",
              "    .dataframe tbody tr th:only-of-type {\n",
              "        vertical-align: middle;\n",
              "    }\n",
              "\n",
              "    .dataframe tbody tr th {\n",
              "        vertical-align: top;\n",
              "    }\n",
              "\n",
              "    .dataframe thead th {\n",
              "        text-align: right;\n",
              "    }\n",
              "</style>\n",
              "<table border=\"1\" class=\"dataframe\">\n",
              "  <thead>\n",
              "    <tr style=\"text-align: right;\">\n",
              "      <th></th>\n",
              "      <th>DAY_OF_WEEK</th>\n",
              "      <th>DATE</th>\n",
              "      <th>MONTH</th>\n",
              "      <th>YEAR</th>\n",
              "      <th>ADMISSION</th>\n",
              "    </tr>\n",
              "    <tr>\n",
              "      <th>ADMITTIME</th>\n",
              "      <th></th>\n",
              "      <th></th>\n",
              "      <th></th>\n",
              "      <th></th>\n",
              "      <th></th>\n",
              "    </tr>\n",
              "  </thead>\n",
              "  <tbody>\n",
              "    <tr>\n",
              "      <th>2100-06-07</th>\n",
              "      <td>0</td>\n",
              "      <td>7</td>\n",
              "      <td>6</td>\n",
              "      <td>2100</td>\n",
              "      <td>1</td>\n",
              "    </tr>\n",
              "    <tr>\n",
              "      <th>2100-06-09</th>\n",
              "      <td>2</td>\n",
              "      <td>9</td>\n",
              "      <td>6</td>\n",
              "      <td>2100</td>\n",
              "      <td>1</td>\n",
              "    </tr>\n",
              "    <tr>\n",
              "      <th>2100-06-14</th>\n",
              "      <td>0</td>\n",
              "      <td>14</td>\n",
              "      <td>6</td>\n",
              "      <td>2100</td>\n",
              "      <td>2</td>\n",
              "    </tr>\n",
              "    <tr>\n",
              "      <th>2100-06-22</th>\n",
              "      <td>1</td>\n",
              "      <td>22</td>\n",
              "      <td>6</td>\n",
              "      <td>2100</td>\n",
              "      <td>1</td>\n",
              "    </tr>\n",
              "    <tr>\n",
              "      <th>2100-06-24</th>\n",
              "      <td>3</td>\n",
              "      <td>24</td>\n",
              "      <td>6</td>\n",
              "      <td>2100</td>\n",
              "      <td>1</td>\n",
              "    </tr>\n",
              "    <tr>\n",
              "      <th>...</th>\n",
              "      <td>...</td>\n",
              "      <td>...</td>\n",
              "      <td>...</td>\n",
              "      <td>...</td>\n",
              "      <td>...</td>\n",
              "    </tr>\n",
              "    <tr>\n",
              "      <th>2208-08-19</th>\n",
              "      <td>4</td>\n",
              "      <td>19</td>\n",
              "      <td>8</td>\n",
              "      <td>2208</td>\n",
              "      <td>1</td>\n",
              "    </tr>\n",
              "    <tr>\n",
              "      <th>2209-02-09</th>\n",
              "      <td>3</td>\n",
              "      <td>9</td>\n",
              "      <td>2</td>\n",
              "      <td>2209</td>\n",
              "      <td>1</td>\n",
              "    </tr>\n",
              "    <tr>\n",
              "      <th>2209-07-14</th>\n",
              "      <td>4</td>\n",
              "      <td>14</td>\n",
              "      <td>7</td>\n",
              "      <td>2209</td>\n",
              "      <td>1</td>\n",
              "    </tr>\n",
              "    <tr>\n",
              "      <th>2209-07-31</th>\n",
              "      <td>0</td>\n",
              "      <td>31</td>\n",
              "      <td>7</td>\n",
              "      <td>2209</td>\n",
              "      <td>1</td>\n",
              "    </tr>\n",
              "    <tr>\n",
              "      <th>2210-08-17</th>\n",
              "      <td>4</td>\n",
              "      <td>17</td>\n",
              "      <td>8</td>\n",
              "      <td>2210</td>\n",
              "      <td>1</td>\n",
              "    </tr>\n",
              "  </tbody>\n",
              "</table>\n",
              "<p>29467 rows × 5 columns</p>\n",
              "</div>"
            ],
            "text/plain": [
              "            DAY_OF_WEEK  DATE  MONTH  YEAR  ADMISSION\n",
              "ADMITTIME                                            \n",
              "2100-06-07            0     7      6  2100          1\n",
              "2100-06-09            2     9      6  2100          1\n",
              "2100-06-14            0    14      6  2100          2\n",
              "2100-06-22            1    22      6  2100          1\n",
              "2100-06-24            3    24      6  2100          1\n",
              "...                 ...   ...    ...   ...        ...\n",
              "2208-08-19            4    19      8  2208          1\n",
              "2209-02-09            3     9      2  2209          1\n",
              "2209-07-14            4    14      7  2209          1\n",
              "2209-07-31            0    31      7  2209          1\n",
              "2210-08-17            4    17      8  2210          1\n",
              "\n",
              "[29467 rows x 5 columns]"
            ]
          },
          "metadata": {
            "tags": []
          },
          "execution_count": 47
        }
      ]
    },
    {
      "cell_type": "code",
      "metadata": {
        "colab": {
          "base_uri": "https://localhost:8080/"
        },
        "id": "UOvvz5GjiVq_",
        "outputId": "0e93697b-3748-47a9-befd-1dc2fd9f8aae"
      },
      "source": [
        "mask = np.random.rand(len(df)) < 0.8\n",
        "df_train = df[mask]\n",
        "df_test = df[~mask]\n",
        "print('Training data set length='+str(len(df_train)))\n",
        "print('Testing data set length='+str(len(df_test)))"
      ],
      "execution_count": null,
      "outputs": [
        {
          "output_type": "stream",
          "text": [
            "Training data set length=23576\n",
            "Testing data set length=5891\n"
          ],
          "name": "stdout"
        }
      ]
    },
    {
      "cell_type": "code",
      "metadata": {
        "colab": {
          "base_uri": "https://localhost:8080/",
          "height": 37
        },
        "id": "ryN9zWWbhTn5",
        "outputId": "9603b76a-ca76-428b-f7f1-c76799844137"
      },
      "source": [
        "expr = 'ADMISSION ~ DAY_OF_WEEK  + DATE + MONTH + YEAR'\n",
        "expr"
      ],
      "execution_count": null,
      "outputs": [
        {
          "output_type": "execute_result",
          "data": {
            "application/vnd.google.colaboratory.intrinsic+json": {
              "type": "string"
            },
            "text/plain": [
              "'ADMISSION ~ DAY_OF_WEEK  + DATE + MONTH + YEAR'"
            ]
          },
          "metadata": {
            "tags": []
          },
          "execution_count": 49
        }
      ]
    },
    {
      "cell_type": "code",
      "metadata": {
        "id": "SlpvW_lS27L6"
      },
      "source": [
        "from patsy import dmatrices\n",
        "y_train, X_train = dmatrices(expr, df_train, return_type='dataframe')\n",
        "y_test, X_test = dmatrices(expr, df_test, return_type='dataframe')"
      ],
      "execution_count": null,
      "outputs": []
    },
    {
      "cell_type": "code",
      "metadata": {
        "id": "tyFZXb3vl_6U",
        "colab": {
          "base_uri": "https://localhost:8080/",
          "height": 235
        },
        "outputId": "0dca6c11-9a6e-40c5-a506-777ce6c20662"
      },
      "source": [
        "X_train.head(5)"
      ],
      "execution_count": null,
      "outputs": [
        {
          "output_type": "execute_result",
          "data": {
            "text/html": [
              "<div>\n",
              "<style scoped>\n",
              "    .dataframe tbody tr th:only-of-type {\n",
              "        vertical-align: middle;\n",
              "    }\n",
              "\n",
              "    .dataframe tbody tr th {\n",
              "        vertical-align: top;\n",
              "    }\n",
              "\n",
              "    .dataframe thead th {\n",
              "        text-align: right;\n",
              "    }\n",
              "</style>\n",
              "<table border=\"1\" class=\"dataframe\">\n",
              "  <thead>\n",
              "    <tr style=\"text-align: right;\">\n",
              "      <th></th>\n",
              "      <th>Intercept</th>\n",
              "      <th>DAY_OF_WEEK</th>\n",
              "      <th>DATE</th>\n",
              "      <th>MONTH</th>\n",
              "      <th>YEAR</th>\n",
              "    </tr>\n",
              "    <tr>\n",
              "      <th>ADMITTIME</th>\n",
              "      <th></th>\n",
              "      <th></th>\n",
              "      <th></th>\n",
              "      <th></th>\n",
              "      <th></th>\n",
              "    </tr>\n",
              "  </thead>\n",
              "  <tbody>\n",
              "    <tr>\n",
              "      <th>2100-06-07</th>\n",
              "      <td>1.0</td>\n",
              "      <td>0.0</td>\n",
              "      <td>7.0</td>\n",
              "      <td>6.0</td>\n",
              "      <td>2100.0</td>\n",
              "    </tr>\n",
              "    <tr>\n",
              "      <th>2100-06-09</th>\n",
              "      <td>1.0</td>\n",
              "      <td>2.0</td>\n",
              "      <td>9.0</td>\n",
              "      <td>6.0</td>\n",
              "      <td>2100.0</td>\n",
              "    </tr>\n",
              "    <tr>\n",
              "      <th>2100-06-14</th>\n",
              "      <td>1.0</td>\n",
              "      <td>0.0</td>\n",
              "      <td>14.0</td>\n",
              "      <td>6.0</td>\n",
              "      <td>2100.0</td>\n",
              "    </tr>\n",
              "    <tr>\n",
              "      <th>2100-06-22</th>\n",
              "      <td>1.0</td>\n",
              "      <td>1.0</td>\n",
              "      <td>22.0</td>\n",
              "      <td>6.0</td>\n",
              "      <td>2100.0</td>\n",
              "    </tr>\n",
              "    <tr>\n",
              "      <th>2100-06-24</th>\n",
              "      <td>1.0</td>\n",
              "      <td>3.0</td>\n",
              "      <td>24.0</td>\n",
              "      <td>6.0</td>\n",
              "      <td>2100.0</td>\n",
              "    </tr>\n",
              "  </tbody>\n",
              "</table>\n",
              "</div>"
            ],
            "text/plain": [
              "            Intercept  DAY_OF_WEEK  DATE  MONTH    YEAR\n",
              "ADMITTIME                                              \n",
              "2100-06-07        1.0          0.0   7.0    6.0  2100.0\n",
              "2100-06-09        1.0          2.0   9.0    6.0  2100.0\n",
              "2100-06-14        1.0          0.0  14.0    6.0  2100.0\n",
              "2100-06-22        1.0          1.0  22.0    6.0  2100.0\n",
              "2100-06-24        1.0          3.0  24.0    6.0  2100.0"
            ]
          },
          "metadata": {
            "tags": []
          },
          "execution_count": 51
        }
      ]
    },
    {
      "cell_type": "code",
      "metadata": {
        "id": "loDs6qfZl7FX",
        "colab": {
          "base_uri": "https://localhost:8080/",
          "height": 235
        },
        "outputId": "07482000-f5f8-46b9-cba6-a339cd8d5b63"
      },
      "source": [
        "X_test.head(5)"
      ],
      "execution_count": null,
      "outputs": [
        {
          "output_type": "execute_result",
          "data": {
            "text/html": [
              "<div>\n",
              "<style scoped>\n",
              "    .dataframe tbody tr th:only-of-type {\n",
              "        vertical-align: middle;\n",
              "    }\n",
              "\n",
              "    .dataframe tbody tr th {\n",
              "        vertical-align: top;\n",
              "    }\n",
              "\n",
              "    .dataframe thead th {\n",
              "        text-align: right;\n",
              "    }\n",
              "</style>\n",
              "<table border=\"1\" class=\"dataframe\">\n",
              "  <thead>\n",
              "    <tr style=\"text-align: right;\">\n",
              "      <th></th>\n",
              "      <th>Intercept</th>\n",
              "      <th>DAY_OF_WEEK</th>\n",
              "      <th>DATE</th>\n",
              "      <th>MONTH</th>\n",
              "      <th>YEAR</th>\n",
              "    </tr>\n",
              "    <tr>\n",
              "      <th>ADMITTIME</th>\n",
              "      <th></th>\n",
              "      <th></th>\n",
              "      <th></th>\n",
              "      <th></th>\n",
              "      <th></th>\n",
              "    </tr>\n",
              "  </thead>\n",
              "  <tbody>\n",
              "    <tr>\n",
              "      <th>2100-06-28</th>\n",
              "      <td>1.0</td>\n",
              "      <td>0.0</td>\n",
              "      <td>28.0</td>\n",
              "      <td>6.0</td>\n",
              "      <td>2100.0</td>\n",
              "    </tr>\n",
              "    <tr>\n",
              "      <th>2100-07-09</th>\n",
              "      <td>1.0</td>\n",
              "      <td>4.0</td>\n",
              "      <td>9.0</td>\n",
              "      <td>7.0</td>\n",
              "      <td>2100.0</td>\n",
              "    </tr>\n",
              "    <tr>\n",
              "      <th>2100-07-27</th>\n",
              "      <td>1.0</td>\n",
              "      <td>1.0</td>\n",
              "      <td>27.0</td>\n",
              "      <td>7.0</td>\n",
              "      <td>2100.0</td>\n",
              "    </tr>\n",
              "    <tr>\n",
              "      <th>2100-08-12</th>\n",
              "      <td>1.0</td>\n",
              "      <td>3.0</td>\n",
              "      <td>12.0</td>\n",
              "      <td>8.0</td>\n",
              "      <td>2100.0</td>\n",
              "    </tr>\n",
              "    <tr>\n",
              "      <th>2100-08-16</th>\n",
              "      <td>1.0</td>\n",
              "      <td>0.0</td>\n",
              "      <td>16.0</td>\n",
              "      <td>8.0</td>\n",
              "      <td>2100.0</td>\n",
              "    </tr>\n",
              "  </tbody>\n",
              "</table>\n",
              "</div>"
            ],
            "text/plain": [
              "            Intercept  DAY_OF_WEEK  DATE  MONTH    YEAR\n",
              "ADMITTIME                                              \n",
              "2100-06-28        1.0          0.0  28.0    6.0  2100.0\n",
              "2100-07-09        1.0          4.0   9.0    7.0  2100.0\n",
              "2100-07-27        1.0          1.0  27.0    7.0  2100.0\n",
              "2100-08-12        1.0          3.0  12.0    8.0  2100.0\n",
              "2100-08-16        1.0          0.0  16.0    8.0  2100.0"
            ]
          },
          "metadata": {
            "tags": []
          },
          "execution_count": 52
        }
      ]
    },
    {
      "cell_type": "markdown",
      "metadata": {
        "id": "FMiP6TFPifvd"
      },
      "source": [
        "OLSR MODEL"
      ]
    },
    {
      "cell_type": "code",
      "metadata": {
        "colab": {
          "base_uri": "https://localhost:8080/"
        },
        "id": "8GvynvF8idQK",
        "outputId": "5fc9b9de-335e-42d8-bb32-9f745d2c5e3a"
      },
      "source": [
        "import statsmodels.formula.api as smf\n",
        "olsr_results = smf.ols(expr, df_train).fit()\n",
        "olsr_results.params"
      ],
      "execution_count": null,
      "outputs": [
        {
          "output_type": "execute_result",
          "data": {
            "text/plain": [
              "Intercept      3.466862\n",
              "DAY_OF_WEEK   -0.078239\n",
              "DATE          -0.000240\n",
              "MONTH         -0.002219\n",
              "YEAR          -0.000569\n",
              "dtype: float64"
            ]
          },
          "metadata": {
            "tags": []
          },
          "execution_count": 53
        }
      ]
    },
    {
      "cell_type": "code",
      "metadata": {
        "colab": {
          "base_uri": "https://localhost:8080/"
        },
        "id": "Zc6ZEaR9ijNJ",
        "outputId": "67f0e017-52c9-46ac-a94d-94ccd21b911d"
      },
      "source": [
        "print(olsr_results.summary())\n"
      ],
      "execution_count": null,
      "outputs": [
        {
          "output_type": "stream",
          "text": [
            "                            OLS Regression Results                            \n",
            "==============================================================================\n",
            "Dep. Variable:              ADMISSION   R-squared:                       0.020\n",
            "Model:                            OLS   Adj. R-squared:                  0.020\n",
            "Method:                 Least Squares   F-statistic:                     118.7\n",
            "Date:                Thu, 13 May 2021   Prob (F-statistic):          2.00e-100\n",
            "Time:                        02:57:42   Log-Likelihood:                -35658.\n",
            "No. Observations:               23576   AIC:                         7.133e+04\n",
            "Df Residuals:                   23571   BIC:                         7.137e+04\n",
            "Df Model:                           4                                         \n",
            "Covariance Type:            nonrobust                                         \n",
            "===============================================================================\n",
            "                  coef    std err          t      P>|t|      [0.025      0.975]\n",
            "-------------------------------------------------------------------------------\n",
            "Intercept       3.4669      0.526      6.597      0.000       2.437       4.497\n",
            "DAY_OF_WEEK    -0.0782      0.004    -21.641      0.000      -0.085      -0.071\n",
            "DATE           -0.0002      0.001     -0.294      0.768      -0.002       0.001\n",
            "MONTH          -0.0022      0.002     -1.070      0.285      -0.006       0.002\n",
            "YEAR           -0.0006      0.000     -2.330      0.020      -0.001   -9.04e-05\n",
            "==============================================================================\n",
            "Omnibus:                     4591.317   Durbin-Watson:                   1.988\n",
            "Prob(Omnibus):                  0.000   Jarque-Bera (JB):             8606.818\n",
            "Skew:                           1.211   Prob(JB):                         0.00\n",
            "Kurtosis:                       4.701   Cond. No.                     1.58e+05\n",
            "==============================================================================\n",
            "\n",
            "Warnings:\n",
            "[1] Standard Errors assume that the covariance matrix of the errors is correctly specified.\n",
            "[2] The condition number is large, 1.58e+05. This might indicate that there are\n",
            "strong multicollinearity or other numerical problems.\n"
          ],
          "name": "stdout"
        }
      ]
    },
    {
      "cell_type": "code",
      "metadata": {
        "id": "NdExttOpkzb4"
      },
      "source": [
        "olsr_predictions = olsr_results.get_prediction(X_test)"
      ],
      "execution_count": null,
      "outputs": []
    },
    {
      "cell_type": "code",
      "metadata": {
        "colab": {
          "base_uri": "https://localhost:8080/"
        },
        "id": "3fT253c7rYFe",
        "outputId": "44cf9b97-6d0f-4656-d0a4-1604373eb10d"
      },
      "source": [
        "ypred = olsr_results.predict(X_test)\n",
        "print(ypred)"
      ],
      "execution_count": null,
      "outputs": [
        {
          "output_type": "stream",
          "text": [
            "ADMITTIME\n",
            "2100-06-28    2.252538\n",
            "2100-07-09    1.941914\n",
            "2100-07-27    2.172319\n",
            "2100-08-12    2.017215\n",
            "2100-08-16    2.250974\n",
            "                ...   \n",
            "2206-03-24    2.199870\n",
            "2206-07-27    1.720841\n",
            "2206-08-24    1.719340\n",
            "2206-11-20    1.948357\n",
            "2208-05-27    1.880620\n",
            "Length: 5891, dtype: float64\n"
          ],
          "name": "stdout"
        }
      ]
    },
    {
      "cell_type": "code",
      "metadata": {
        "id": "GB5QobfETgop",
        "colab": {
          "base_uri": "https://localhost:8080/"
        },
        "outputId": "cf9e1357-ddd2-4940-f9fd-2849bbbcd110"
      },
      "source": [
        "mse_daily_model = mean_squared_error(y_test,ypred)\n",
        "mae_daily_model = mean_absolute_error(y_test,ypred)\n",
        "\n",
        "print(\"Daily Model | MAE \", mse_daily_model)\n",
        "print(\"Daily Model | MSE \", mae_daily_model)"
      ],
      "execution_count": null,
      "outputs": [
        {
          "output_type": "stream",
          "text": [
            "Daily Model | MAE  1.1992245284927137\n",
            "Daily Model | MSE  0.8536680924809923\n"
          ],
          "name": "stdout"
        }
      ]
    },
    {
      "cell_type": "code",
      "metadata": {
        "colab": {
          "base_uri": "https://localhost:8080/",
          "height": 265
        },
        "id": "GY87HunJreZ7",
        "outputId": "7405d3e1-3c12-498b-971f-e5ed739d89f5"
      },
      "source": [
        "fig, ax = plt.subplots()\n",
        "ax.plot(X_test.index, y_test, label=\"Data\")\n",
        "#ax.plot(x1, y_true, 'b-', label=\"True\")\n",
        "ax.plot(X_test.index, ypred, label=\"OLS prediction\")\n",
        "ax.legend(loc=\"best\");"
      ],
      "execution_count": null,
      "outputs": [
        {
          "output_type": "display_data",
          "data": {
            "image/png": "[encoded data removed]",
            "text/plain": [
              "<Figure size 432x288 with 1 Axes>"
            ]
          },
          "metadata": {
            "tags": [],
            "needs_background": "light"
          }
        }
      ]
    },
    {
      "cell_type": "code",
      "metadata": {
        "id": "3mvmOCfTks99",
        "colab": {
          "base_uri": "https://localhost:8080/"
        },
        "outputId": "76e60905-939b-42bb-b791-82752812da06"
      },
      "source": [
        "predictions_summary_frame = olsr_predictions.summary_frame()\n",
        "print(predictions_summary_frame)\n",
        "print(predictions_summary_frame.columns)"
      ],
      "execution_count": null,
      "outputs": [
        {
          "output_type": "stream",
          "text": [
            "          mean   mean_se  ...  obs_ci_lower  obs_ci_upper\n",
            "0     2.252538  0.020399  ...      0.099706      4.405369\n",
            "1     1.941914  0.015890  ...     -0.210772      4.094600\n",
            "2     2.172319  0.018359  ...      0.019557      4.325080\n",
            "3     2.017215  0.014964  ...     -0.135445      4.169876\n",
            "4     2.250974  0.017989  ...      0.098224      4.403723\n",
            "...        ...       ...  ...           ...           ...\n",
            "5886  2.199870  0.020839  ...      0.047022      4.352718\n",
            "5887  1.720841  0.021053  ...     -0.432015      3.873697\n",
            "5888  1.719340  0.020340  ...     -0.433490      3.872170\n",
            "5889  1.948357  0.018225  ...     -0.204400      4.101114\n",
            "5890  1.880620  0.018800  ...     -0.272156      4.033396\n",
            "\n",
            "[5891 rows x 6 columns]\n",
            "Index(['mean', 'mean_se', 'mean_ci_lower', 'mean_ci_upper', 'obs_ci_lower',\n",
            "       'obs_ci_upper'],\n",
            "      dtype='object')\n"
          ],
          "name": "stdout"
        }
      ]
    },
    {
      "cell_type": "code",
      "metadata": {
        "colab": {
          "base_uri": "https://localhost:8080/"
        },
        "id": "lNmbkDlTqDMW",
        "outputId": "842a5ae4-f935-4e98-f1c3-dcc1d2feac69"
      },
      "source": [
        "mean_error = predictions_summary_frame['mean_se'].mean()\n",
        "mean_error"
      ],
      "execution_count": null,
      "outputs": [
        {
          "output_type": "execute_result",
          "data": {
            "text/plain": [
              "0.015710090519204207"
            ]
          },
          "metadata": {
            "tags": []
          },
          "execution_count": 60
        }
      ]
    },
    {
      "cell_type": "code",
      "metadata": {
        "colab": {
          "base_uri": "https://localhost:8080/",
          "height": 359
        },
        "id": "j4jNzHeKiurF",
        "outputId": "45faa4b6-b3e1-4bce-c48d-1f07999ac867"
      },
      "source": [
        "predicted_counts=predictions_summary_frame['mean']\n",
        "actual_counts = y_test['ADMISSION']\n",
        "\n",
        "fig = plt.figure()\n",
        "plt.figure(figsize=(24, 6), dpi=80)\n",
        "fig.suptitle('Predicted and Actual Daily Admissions ')\n",
        "predicted, = plt.plot(X_test.index[:50], predicted_counts[:50], color='purple', linestyle='dashed', linewidth=2, label = 'Predicted')\n",
        "actual, = plt.plot(X_test.index[:50], actual_counts[:50], 'go-', label='Actual counts')\n",
        "plt.legend(handles=[predicted, actual])\n",
        "\n",
        "plt.show()"
      ],
      "execution_count": null,
      "outputs": [
        {
          "output_type": "display_data",
          "data": {
            "text/plain": [
              "<Figure size 432x288 with 0 Axes>"
            ]
          },
          "metadata": {
            "tags": []
          }
        },
        {
          "output_type": "display_data",
          "data": {
            "image/png": "[encoded data removed]",
            "text/plain": [
              "<Figure size 1920x480 with 1 Axes>"
            ]
          },
          "metadata": {
            "tags": [],
            "needs_background": "light"
          }
        }
      ]
    },
    {
      "cell_type": "code",
      "metadata": {
        "colab": {
          "base_uri": "https://localhost:8080/",
          "height": 350
        },
        "id": "OhQRvjtr3Q3e",
        "outputId": "c27912d8-8189-4ec2-fd35-8057dd9181e9"
      },
      "source": [
        "sns.regplot(actual_counts, predicted_counts, marker=\"+\")"
      ],
      "execution_count": null,
      "outputs": [
        {
          "output_type": "stream",
          "text": [
            "/usr/local/lib/python3.7/dist-packages/seaborn/_decorators.py:43: FutureWarning: Pass the following variables as keyword args: x, y. From version 0.12, the only valid positional argument will be `data`, and passing other arguments without an explicit keyword will result in an error or misinterpretation.\n",
            "  FutureWarning\n"
          ],
          "name": "stderr"
        },
        {
          "output_type": "execute_result",
          "data": {
            "text/plain": [
              "<matplotlib.axes._subplots.AxesSubplot at 0x7f5c127f9c90>"
            ]
          },
          "metadata": {
            "tags": []
          },
          "execution_count": 62
        },
        {
          "output_type": "display_data",
          "data": {
            "image/png": "[encoded data removed]",
            "text/plain": [
              "<Figure size 432x288 with 1 Axes>"
            ]
          },
          "metadata": {
            "tags": [],
            "needs_background": "light"
          }
        }
      ]
    },
    {
      "cell_type": "code",
      "metadata": {
        "colab": {
          "base_uri": "https://localhost:8080/",
          "height": 265
        },
        "id": "gDFoyCehq-Ki",
        "outputId": "f2b52658-18d0-471b-9f3c-87b44ecc4ea2"
      },
      "source": [
        "plt.hist(olsr_results.resid, bins=6)\n",
        "plt.show()"
      ],
      "execution_count": null,
      "outputs": [
        {
          "output_type": "display_data",
          "data": {
            "image/png": "[encoded data removed]",
            "text/plain": [
              "<Figure size 432x288 with 1 Axes>"
            ]
          },
          "metadata": {
            "tags": [],
            "needs_background": "light"
          }
        }
      ]
    },
    {
      "cell_type": "code",
      "metadata": {
        "colab": {
          "base_uri": "https://localhost:8080/",
          "height": 279
        },
        "id": "aDyheqORrJ1w",
        "outputId": "0d6ee919-1e38-4e76-a26b-9c87780f136a"
      },
      "source": [
        "import statsmodels.api as sm\n",
        "fig = sm.qqplot(olsr_results.resid)\n",
        "plt.show()"
      ],
      "execution_count": null,
      "outputs": [
        {
          "output_type": "display_data",
          "data": {
            "image/png": "[encoded data removed]",
            "text/plain": [
              "<Figure size 432x288 with 1 Axes>"
            ]
          },
          "metadata": {
            "tags": [],
            "needs_background": "light"
          }
        }
      ]
    },
    {
      "cell_type": "code",
      "metadata": {
        "colab": {
          "base_uri": "https://localhost:8080/",
          "height": 281
        },
        "id": "nGbXliRArrUO",
        "outputId": "a399225f-c1ba-43c3-fb0f-dc0a90db63a4"
      },
      "source": [
        "from statsmodels.graphics.tsaplots import plot_acf\n",
        "plot_acf(olsr_results.resid, title='ACF of residual errors')\n",
        "plt.show()"
      ],
      "execution_count": null,
      "outputs": [
        {
          "output_type": "display_data",
          "data": {
            "image/png": "[encoded data removed]",
            "text/plain": [
              "<Figure size 432x288 with 1 Axes>"
            ]
          },
          "metadata": {
            "tags": [],
            "needs_background": "light"
          }
        }
      ]
    },
    {
      "cell_type": "markdown",
      "metadata": {
        "id": "yXtZJWP45jVX"
      },
      "source": [
        "## Monthly Admission Prediction"
      ]
    },
    {
      "cell_type": "markdown",
      "metadata": {
        "id": "UQxSQtmNSVL3"
      },
      "source": [
        "##Month Model"
      ]
    },
    {
      "cell_type": "code",
      "metadata": {
        "colab": {
          "base_uri": "https://localhost:8080/",
          "height": 552
        },
        "id": "fLySuovt5jal",
        "outputId": "db2604c3-a10c-45d2-a03e-5e1aea047bd4"
      },
      "source": [
        "df_month = dataset_new[['MONTH', 'Admissions']]\n",
        "df_month['Period'] = df_month.index.to_period('M')\n",
        "df_month"
      ],
      "execution_count": null,
      "outputs": [
        {
          "output_type": "stream",
          "text": [
            "/usr/local/lib/python3.7/dist-packages/ipykernel_launcher.py:2: SettingWithCopyWarning: \n",
            "A value is trying to be set on a copy of a slice from a DataFrame.\n",
            "Try using .loc[row_indexer,col_indexer] = value instead\n",
            "\n",
            "See the caveats in the documentation: https://pandas.pydata.org/pandas-docs/stable/user_guide/indexing.html#returning-a-view-versus-a-copy\n",
            "  \n"
          ],
          "name": "stderr"
        },
        {
          "output_type": "execute_result",
          "data": {
            "text/html": [
              "<div>\n",
              "<style scoped>\n",
              "    .dataframe tbody tr th:only-of-type {\n",
              "        vertical-align: middle;\n",
              "    }\n",
              "\n",
              "    .dataframe tbody tr th {\n",
              "        vertical-align: top;\n",
              "    }\n",
              "\n",
              "    .dataframe thead th {\n",
              "        text-align: right;\n",
              "    }\n",
              "</style>\n",
              "<table border=\"1\" class=\"dataframe\">\n",
              "  <thead>\n",
              "    <tr style=\"text-align: right;\">\n",
              "      <th></th>\n",
              "      <th>MONTH</th>\n",
              "      <th>Admissions</th>\n",
              "      <th>Period</th>\n",
              "    </tr>\n",
              "    <tr>\n",
              "      <th>ADMITTIME</th>\n",
              "      <th></th>\n",
              "      <th></th>\n",
              "      <th></th>\n",
              "    </tr>\n",
              "  </thead>\n",
              "  <tbody>\n",
              "    <tr>\n",
              "      <th>2100-06-07</th>\n",
              "      <td>Jun</td>\n",
              "      <td>1</td>\n",
              "      <td>2100-06</td>\n",
              "    </tr>\n",
              "    <tr>\n",
              "      <th>2100-06-09</th>\n",
              "      <td>Jun</td>\n",
              "      <td>1</td>\n",
              "      <td>2100-06</td>\n",
              "    </tr>\n",
              "    <tr>\n",
              "      <th>2100-06-14</th>\n",
              "      <td>Jun</td>\n",
              "      <td>2</td>\n",
              "      <td>2100-06</td>\n",
              "    </tr>\n",
              "    <tr>\n",
              "      <th>2100-06-22</th>\n",
              "      <td>Jun</td>\n",
              "      <td>1</td>\n",
              "      <td>2100-06</td>\n",
              "    </tr>\n",
              "    <tr>\n",
              "      <th>2100-06-24</th>\n",
              "      <td>Jun</td>\n",
              "      <td>1</td>\n",
              "      <td>2100-06</td>\n",
              "    </tr>\n",
              "    <tr>\n",
              "      <th>...</th>\n",
              "      <td>...</td>\n",
              "      <td>...</td>\n",
              "      <td>...</td>\n",
              "    </tr>\n",
              "    <tr>\n",
              "      <th>2208-08-19</th>\n",
              "      <td>Aug</td>\n",
              "      <td>1</td>\n",
              "      <td>2208-08</td>\n",
              "    </tr>\n",
              "    <tr>\n",
              "      <th>2209-02-09</th>\n",
              "      <td>Feb</td>\n",
              "      <td>1</td>\n",
              "      <td>2209-02</td>\n",
              "    </tr>\n",
              "    <tr>\n",
              "      <th>2209-07-14</th>\n",
              "      <td>July</td>\n",
              "      <td>1</td>\n",
              "      <td>2209-07</td>\n",
              "    </tr>\n",
              "    <tr>\n",
              "      <th>2209-07-31</th>\n",
              "      <td>July</td>\n",
              "      <td>1</td>\n",
              "      <td>2209-07</td>\n",
              "    </tr>\n",
              "    <tr>\n",
              "      <th>2210-08-17</th>\n",
              "      <td>Aug</td>\n",
              "      <td>1</td>\n",
              "      <td>2210-08</td>\n",
              "    </tr>\n",
              "  </tbody>\n",
              "</table>\n",
              "<p>29467 rows × 3 columns</p>\n",
              "</div>"
            ],
            "text/plain": [
              "           MONTH  Admissions   Period\n",
              "ADMITTIME                            \n",
              "2100-06-07   Jun           1  2100-06\n",
              "2100-06-09   Jun           1  2100-06\n",
              "2100-06-14   Jun           2  2100-06\n",
              "2100-06-22   Jun           1  2100-06\n",
              "2100-06-24   Jun           1  2100-06\n",
              "...          ...         ...      ...\n",
              "2208-08-19   Aug           1  2208-08\n",
              "2209-02-09   Feb           1  2209-02\n",
              "2209-07-14  July           1  2209-07\n",
              "2209-07-31  July           1  2209-07\n",
              "2210-08-17   Aug           1  2210-08\n",
              "\n",
              "[29467 rows x 3 columns]"
            ]
          },
          "metadata": {
            "tags": []
          },
          "execution_count": 66
        }
      ]
    },
    {
      "cell_type": "code",
      "metadata": {
        "colab": {
          "base_uri": "https://localhost:8080/",
          "height": 450
        },
        "id": "qD1WBUcJ7fVP",
        "outputId": "e6bc460f-548f-4320-81c1-ab5a00acbe5f"
      },
      "source": [
        "df_month = pd.pivot_table(df_month, values='Admissions',\n",
        "                   columns=['Period'], aggfunc=np.sum)\n",
        "df_month = df_month.T\n",
        "df_month"
      ],
      "execution_count": null,
      "outputs": [
        {
          "output_type": "execute_result",
          "data": {
            "text/html": [
              "<div>\n",
              "<style scoped>\n",
              "    .dataframe tbody tr th:only-of-type {\n",
              "        vertical-align: middle;\n",
              "    }\n",
              "\n",
              "    .dataframe tbody tr th {\n",
              "        vertical-align: top;\n",
              "    }\n",
              "\n",
              "    .dataframe thead th {\n",
              "        text-align: right;\n",
              "    }\n",
              "</style>\n",
              "<table border=\"1\" class=\"dataframe\">\n",
              "  <thead>\n",
              "    <tr style=\"text-align: right;\">\n",
              "      <th></th>\n",
              "      <th>Admissions</th>\n",
              "    </tr>\n",
              "    <tr>\n",
              "      <th>Period</th>\n",
              "      <th></th>\n",
              "    </tr>\n",
              "  </thead>\n",
              "  <tbody>\n",
              "    <tr>\n",
              "      <th>2100-06</th>\n",
              "      <td>7</td>\n",
              "    </tr>\n",
              "    <tr>\n",
              "      <th>2100-07</th>\n",
              "      <td>30</td>\n",
              "    </tr>\n",
              "    <tr>\n",
              "      <th>2100-08</th>\n",
              "      <td>43</td>\n",
              "    </tr>\n",
              "    <tr>\n",
              "      <th>2100-09</th>\n",
              "      <td>51</td>\n",
              "    </tr>\n",
              "    <tr>\n",
              "      <th>2100-10</th>\n",
              "      <td>37</td>\n",
              "    </tr>\n",
              "    <tr>\n",
              "      <th>...</th>\n",
              "      <td>...</td>\n",
              "    </tr>\n",
              "    <tr>\n",
              "      <th>2208-05</th>\n",
              "      <td>1</td>\n",
              "    </tr>\n",
              "    <tr>\n",
              "      <th>2208-08</th>\n",
              "      <td>1</td>\n",
              "    </tr>\n",
              "    <tr>\n",
              "      <th>2209-02</th>\n",
              "      <td>1</td>\n",
              "    </tr>\n",
              "    <tr>\n",
              "      <th>2209-07</th>\n",
              "      <td>2</td>\n",
              "    </tr>\n",
              "    <tr>\n",
              "      <th>2210-08</th>\n",
              "      <td>1</td>\n",
              "    </tr>\n",
              "  </tbody>\n",
              "</table>\n",
              "<p>1291 rows × 1 columns</p>\n",
              "</div>"
            ],
            "text/plain": [
              "         Admissions\n",
              "Period             \n",
              "2100-06           7\n",
              "2100-07          30\n",
              "2100-08          43\n",
              "2100-09          51\n",
              "2100-10          37\n",
              "...             ...\n",
              "2208-05           1\n",
              "2208-08           1\n",
              "2209-02           1\n",
              "2209-07           2\n",
              "2210-08           1\n",
              "\n",
              "[1291 rows x 1 columns]"
            ]
          },
          "metadata": {
            "tags": []
          },
          "execution_count": 67
        }
      ]
    },
    {
      "cell_type": "code",
      "metadata": {
        "colab": {
          "base_uri": "https://localhost:8080/",
          "height": 450
        },
        "id": "h1P1AT9FGFwQ",
        "outputId": "4bbabe74-ef4c-43b5-c44e-d0f45fd8c2c3"
      },
      "source": [
        "df_month['Month'] = df_month.index.month\n",
        "df_month"
      ],
      "execution_count": null,
      "outputs": [
        {
          "output_type": "execute_result",
          "data": {
            "text/html": [
              "<div>\n",
              "<style scoped>\n",
              "    .dataframe tbody tr th:only-of-type {\n",
              "        vertical-align: middle;\n",
              "    }\n",
              "\n",
              "    .dataframe tbody tr th {\n",
              "        vertical-align: top;\n",
              "    }\n",
              "\n",
              "    .dataframe thead th {\n",
              "        text-align: right;\n",
              "    }\n",
              "</style>\n",
              "<table border=\"1\" class=\"dataframe\">\n",
              "  <thead>\n",
              "    <tr style=\"text-align: right;\">\n",
              "      <th></th>\n",
              "      <th>Admissions</th>\n",
              "      <th>Month</th>\n",
              "    </tr>\n",
              "    <tr>\n",
              "      <th>Period</th>\n",
              "      <th></th>\n",
              "      <th></th>\n",
              "    </tr>\n",
              "  </thead>\n",
              "  <tbody>\n",
              "    <tr>\n",
              "      <th>2100-06</th>\n",
              "      <td>7</td>\n",
              "      <td>6</td>\n",
              "    </tr>\n",
              "    <tr>\n",
              "      <th>2100-07</th>\n",
              "      <td>30</td>\n",
              "      <td>7</td>\n",
              "    </tr>\n",
              "    <tr>\n",
              "      <th>2100-08</th>\n",
              "      <td>43</td>\n",
              "      <td>8</td>\n",
              "    </tr>\n",
              "    <tr>\n",
              "      <th>2100-09</th>\n",
              "      <td>51</td>\n",
              "      <td>9</td>\n",
              "    </tr>\n",
              "    <tr>\n",
              "      <th>2100-10</th>\n",
              "      <td>37</td>\n",
              "      <td>10</td>\n",
              "    </tr>\n",
              "    <tr>\n",
              "      <th>...</th>\n",
              "      <td>...</td>\n",
              "      <td>...</td>\n",
              "    </tr>\n",
              "    <tr>\n",
              "      <th>2208-05</th>\n",
              "      <td>1</td>\n",
              "      <td>5</td>\n",
              "    </tr>\n",
              "    <tr>\n",
              "      <th>2208-08</th>\n",
              "      <td>1</td>\n",
              "      <td>8</td>\n",
              "    </tr>\n",
              "    <tr>\n",
              "      <th>2209-02</th>\n",
              "      <td>1</td>\n",
              "      <td>2</td>\n",
              "    </tr>\n",
              "    <tr>\n",
              "      <th>2209-07</th>\n",
              "      <td>2</td>\n",
              "      <td>7</td>\n",
              "    </tr>\n",
              "    <tr>\n",
              "      <th>2210-08</th>\n",
              "      <td>1</td>\n",
              "      <td>8</td>\n",
              "    </tr>\n",
              "  </tbody>\n",
              "</table>\n",
              "<p>1291 rows × 2 columns</p>\n",
              "</div>"
            ],
            "text/plain": [
              "         Admissions  Month\n",
              "Period                    \n",
              "2100-06           7      6\n",
              "2100-07          30      7\n",
              "2100-08          43      8\n",
              "2100-09          51      9\n",
              "2100-10          37     10\n",
              "...             ...    ...\n",
              "2208-05           1      5\n",
              "2208-08           1      8\n",
              "2209-02           1      2\n",
              "2209-07           2      7\n",
              "2210-08           1      8\n",
              "\n",
              "[1291 rows x 2 columns]"
            ]
          },
          "metadata": {
            "tags": []
          },
          "execution_count": 68
        }
      ]
    },
    {
      "cell_type": "code",
      "metadata": {
        "colab": {
          "base_uri": "https://localhost:8080/",
          "height": 450
        },
        "id": "sK6BU48NGuob",
        "outputId": "02e5b866-d76c-45ed-dc72-82836c7758d5"
      },
      "source": [
        "df_month['Month'] = df_month['Month'].apply(str)\n",
        "df_month['Month'] = df_month['Month'].replace({'1': 'Jan', '2': 'Feb', '3': 'Mar', '4': 'Apr', '5': 'May', '6': 'Jun', '7': 'July', '8': 'Aug', '9': 'Sep', '10': 'Oct', '11': 'Nov', '12': 'Dec'})\n",
        "df_month"
      ],
      "execution_count": null,
      "outputs": [
        {
          "output_type": "execute_result",
          "data": {
            "text/html": [
              "<div>\n",
              "<style scoped>\n",
              "    .dataframe tbody tr th:only-of-type {\n",
              "        vertical-align: middle;\n",
              "    }\n",
              "\n",
              "    .dataframe tbody tr th {\n",
              "        vertical-align: top;\n",
              "    }\n",
              "\n",
              "    .dataframe thead th {\n",
              "        text-align: right;\n",
              "    }\n",
              "</style>\n",
              "<table border=\"1\" class=\"dataframe\">\n",
              "  <thead>\n",
              "    <tr style=\"text-align: right;\">\n",
              "      <th></th>\n",
              "      <th>Admissions</th>\n",
              "      <th>Month</th>\n",
              "    </tr>\n",
              "    <tr>\n",
              "      <th>Period</th>\n",
              "      <th></th>\n",
              "      <th></th>\n",
              "    </tr>\n",
              "  </thead>\n",
              "  <tbody>\n",
              "    <tr>\n",
              "      <th>2100-06</th>\n",
              "      <td>7</td>\n",
              "      <td>Jun</td>\n",
              "    </tr>\n",
              "    <tr>\n",
              "      <th>2100-07</th>\n",
              "      <td>30</td>\n",
              "      <td>July</td>\n",
              "    </tr>\n",
              "    <tr>\n",
              "      <th>2100-08</th>\n",
              "      <td>43</td>\n",
              "      <td>Aug</td>\n",
              "    </tr>\n",
              "    <tr>\n",
              "      <th>2100-09</th>\n",
              "      <td>51</td>\n",
              "      <td>Sep</td>\n",
              "    </tr>\n",
              "    <tr>\n",
              "      <th>2100-10</th>\n",
              "      <td>37</td>\n",
              "      <td>Oct</td>\n",
              "    </tr>\n",
              "    <tr>\n",
              "      <th>...</th>\n",
              "      <td>...</td>\n",
              "      <td>...</td>\n",
              "    </tr>\n",
              "    <tr>\n",
              "      <th>2208-05</th>\n",
              "      <td>1</td>\n",
              "      <td>May</td>\n",
              "    </tr>\n",
              "    <tr>\n",
              "      <th>2208-08</th>\n",
              "      <td>1</td>\n",
              "      <td>Aug</td>\n",
              "    </tr>\n",
              "    <tr>\n",
              "      <th>2209-02</th>\n",
              "      <td>1</td>\n",
              "      <td>Feb</td>\n",
              "    </tr>\n",
              "    <tr>\n",
              "      <th>2209-07</th>\n",
              "      <td>2</td>\n",
              "      <td>July</td>\n",
              "    </tr>\n",
              "    <tr>\n",
              "      <th>2210-08</th>\n",
              "      <td>1</td>\n",
              "      <td>Aug</td>\n",
              "    </tr>\n",
              "  </tbody>\n",
              "</table>\n",
              "<p>1291 rows × 2 columns</p>\n",
              "</div>"
            ],
            "text/plain": [
              "         Admissions Month\n",
              "Period                   \n",
              "2100-06           7   Jun\n",
              "2100-07          30  July\n",
              "2100-08          43   Aug\n",
              "2100-09          51   Sep\n",
              "2100-10          37   Oct\n",
              "...             ...   ...\n",
              "2208-05           1   May\n",
              "2208-08           1   Aug\n",
              "2209-02           1   Feb\n",
              "2209-07           2  July\n",
              "2210-08           1   Aug\n",
              "\n",
              "[1291 rows x 2 columns]"
            ]
          },
          "metadata": {
            "tags": []
          },
          "execution_count": 69
        }
      ]
    },
    {
      "cell_type": "code",
      "metadata": {
        "id": "jpfVQ1CrykTU"
      },
      "source": [
        "df_month.index = df_month.index.to_series().astype(str)"
      ],
      "execution_count": null,
      "outputs": []
    },
    {
      "cell_type": "code",
      "metadata": {
        "colab": {
          "base_uri": "https://localhost:8080/",
          "height": 450
        },
        "id": "WY6OTq8yH3Xp",
        "outputId": "7bac5424-16e4-43ba-88a7-2672efb1dbc9"
      },
      "source": [
        "df_month = pd.get_dummies(df_month, columns=['Month'])\n",
        "df_month"
      ],
      "execution_count": null,
      "outputs": [
        {
          "output_type": "execute_result",
          "data": {
            "text/html": [
              "<div>\n",
              "<style scoped>\n",
              "    .dataframe tbody tr th:only-of-type {\n",
              "        vertical-align: middle;\n",
              "    }\n",
              "\n",
              "    .dataframe tbody tr th {\n",
              "        vertical-align: top;\n",
              "    }\n",
              "\n",
              "    .dataframe thead th {\n",
              "        text-align: right;\n",
              "    }\n",
              "</style>\n",
              "<table border=\"1\" class=\"dataframe\">\n",
              "  <thead>\n",
              "    <tr style=\"text-align: right;\">\n",
              "      <th></th>\n",
              "      <th>Admissions</th>\n",
              "      <th>Month_Apr</th>\n",
              "      <th>Month_Aug</th>\n",
              "      <th>Month_Dec</th>\n",
              "      <th>Month_Feb</th>\n",
              "      <th>Month_Jan</th>\n",
              "      <th>Month_July</th>\n",
              "      <th>Month_Jun</th>\n",
              "      <th>Month_Mar</th>\n",
              "      <th>Month_May</th>\n",
              "      <th>Month_Nov</th>\n",
              "      <th>Month_Oct</th>\n",
              "      <th>Month_Sep</th>\n",
              "    </tr>\n",
              "    <tr>\n",
              "      <th>Period</th>\n",
              "      <th></th>\n",
              "      <th></th>\n",
              "      <th></th>\n",
              "      <th></th>\n",
              "      <th></th>\n",
              "      <th></th>\n",
              "      <th></th>\n",
              "      <th></th>\n",
              "      <th></th>\n",
              "      <th></th>\n",
              "      <th></th>\n",
              "      <th></th>\n",
              "      <th></th>\n",
              "    </tr>\n",
              "  </thead>\n",
              "  <tbody>\n",
              "    <tr>\n",
              "      <th>2100-06</th>\n",
              "      <td>7</td>\n",
              "      <td>0</td>\n",
              "      <td>0</td>\n",
              "      <td>0</td>\n",
              "      <td>0</td>\n",
              "      <td>0</td>\n",
              "      <td>0</td>\n",
              "      <td>1</td>\n",
              "      <td>0</td>\n",
              "      <td>0</td>\n",
              "      <td>0</td>\n",
              "      <td>0</td>\n",
              "      <td>0</td>\n",
              "    </tr>\n",
              "    <tr>\n",
              "      <th>2100-07</th>\n",
              "      <td>30</td>\n",
              "      <td>0</td>\n",
              "      <td>0</td>\n",
              "      <td>0</td>\n",
              "      <td>0</td>\n",
              "      <td>0</td>\n",
              "      <td>1</td>\n",
              "      <td>0</td>\n",
              "      <td>0</td>\n",
              "      <td>0</td>\n",
              "      <td>0</td>\n",
              "      <td>0</td>\n",
              "      <td>0</td>\n",
              "    </tr>\n",
              "    <tr>\n",
              "      <th>2100-08</th>\n",
              "      <td>43</td>\n",
              "      <td>0</td>\n",
              "      <td>1</td>\n",
              "      <td>0</td>\n",
              "      <td>0</td>\n",
              "      <td>0</td>\n",
              "      <td>0</td>\n",
              "      <td>0</td>\n",
              "      <td>0</td>\n",
              "      <td>0</td>\n",
              "      <td>0</td>\n",
              "      <td>0</td>\n",
              "      <td>0</td>\n",
              "    </tr>\n",
              "    <tr>\n",
              "      <th>2100-09</th>\n",
              "      <td>51</td>\n",
              "      <td>0</td>\n",
              "      <td>0</td>\n",
              "      <td>0</td>\n",
              "      <td>0</td>\n",
              "      <td>0</td>\n",
              "      <td>0</td>\n",
              "      <td>0</td>\n",
              "      <td>0</td>\n",
              "      <td>0</td>\n",
              "      <td>0</td>\n",
              "      <td>0</td>\n",
              "      <td>1</td>\n",
              "    </tr>\n",
              "    <tr>\n",
              "      <th>2100-10</th>\n",
              "      <td>37</td>\n",
              "      <td>0</td>\n",
              "      <td>0</td>\n",
              "      <td>0</td>\n",
              "      <td>0</td>\n",
              "      <td>0</td>\n",
              "      <td>0</td>\n",
              "      <td>0</td>\n",
              "      <td>0</td>\n",
              "      <td>0</td>\n",
              "      <td>0</td>\n",
              "      <td>1</td>\n",
              "      <td>0</td>\n",
              "    </tr>\n",
              "    <tr>\n",
              "      <th>...</th>\n",
              "      <td>...</td>\n",
              "      <td>...</td>\n",
              "      <td>...</td>\n",
              "      <td>...</td>\n",
              "      <td>...</td>\n",
              "      <td>...</td>\n",
              "      <td>...</td>\n",
              "      <td>...</td>\n",
              "      <td>...</td>\n",
              "      <td>...</td>\n",
              "      <td>...</td>\n",
              "      <td>...</td>\n",
              "      <td>...</td>\n",
              "    </tr>\n",
              "    <tr>\n",
              "      <th>2208-05</th>\n",
              "      <td>1</td>\n",
              "      <td>0</td>\n",
              "      <td>0</td>\n",
              "      <td>0</td>\n",
              "      <td>0</td>\n",
              "      <td>0</td>\n",
              "      <td>0</td>\n",
              "      <td>0</td>\n",
              "      <td>0</td>\n",
              "      <td>1</td>\n",
              "      <td>0</td>\n",
              "      <td>0</td>\n",
              "      <td>0</td>\n",
              "    </tr>\n",
              "    <tr>\n",
              "      <th>2208-08</th>\n",
              "      <td>1</td>\n",
              "      <td>0</td>\n",
              "      <td>1</td>\n",
              "      <td>0</td>\n",
              "      <td>0</td>\n",
              "      <td>0</td>\n",
              "      <td>0</td>\n",
              "      <td>0</td>\n",
              "      <td>0</td>\n",
              "      <td>0</td>\n",
              "      <td>0</td>\n",
              "      <td>0</td>\n",
              "      <td>0</td>\n",
              "    </tr>\n",
              "    <tr>\n",
              "      <th>2209-02</th>\n",
              "      <td>1</td>\n",
              "      <td>0</td>\n",
              "      <td>0</td>\n",
              "      <td>0</td>\n",
              "      <td>1</td>\n",
              "      <td>0</td>\n",
              "      <td>0</td>\n",
              "      <td>0</td>\n",
              "      <td>0</td>\n",
              "      <td>0</td>\n",
              "      <td>0</td>\n",
              "      <td>0</td>\n",
              "      <td>0</td>\n",
              "    </tr>\n",
              "    <tr>\n",
              "      <th>2209-07</th>\n",
              "      <td>2</td>\n",
              "      <td>0</td>\n",
              "      <td>0</td>\n",
              "      <td>0</td>\n",
              "      <td>0</td>\n",
              "      <td>0</td>\n",
              "      <td>1</td>\n",
              "      <td>0</td>\n",
              "      <td>0</td>\n",
              "      <td>0</td>\n",
              "      <td>0</td>\n",
              "      <td>0</td>\n",
              "      <td>0</td>\n",
              "    </tr>\n",
              "    <tr>\n",
              "      <th>2210-08</th>\n",
              "      <td>1</td>\n",
              "      <td>0</td>\n",
              "      <td>1</td>\n",
              "      <td>0</td>\n",
              "      <td>0</td>\n",
              "      <td>0</td>\n",
              "      <td>0</td>\n",
              "      <td>0</td>\n",
              "      <td>0</td>\n",
              "      <td>0</td>\n",
              "      <td>0</td>\n",
              "      <td>0</td>\n",
              "      <td>0</td>\n",
              "    </tr>\n",
              "  </tbody>\n",
              "</table>\n",
              "<p>1291 rows × 13 columns</p>\n",
              "</div>"
            ],
            "text/plain": [
              "         Admissions  Month_Apr  Month_Aug  ...  Month_Nov  Month_Oct  Month_Sep\n",
              "Period                                     ...                                 \n",
              "2100-06           7          0          0  ...          0          0          0\n",
              "2100-07          30          0          0  ...          0          0          0\n",
              "2100-08          43          0          1  ...          0          0          0\n",
              "2100-09          51          0          0  ...          0          0          1\n",
              "2100-10          37          0          0  ...          0          1          0\n",
              "...             ...        ...        ...  ...        ...        ...        ...\n",
              "2208-05           1          0          0  ...          0          0          0\n",
              "2208-08           1          0          1  ...          0          0          0\n",
              "2209-02           1          0          0  ...          0          0          0\n",
              "2209-07           2          0          0  ...          0          0          0\n",
              "2210-08           1          0          1  ...          0          0          0\n",
              "\n",
              "[1291 rows x 13 columns]"
            ]
          },
          "metadata": {
            "tags": []
          },
          "execution_count": 71
        }
      ]
    },
    {
      "cell_type": "code",
      "metadata": {
        "colab": {
          "base_uri": "https://localhost:8080/"
        },
        "id": "Rr62M3M4OPH6",
        "outputId": "e7bdd047-ea93-4859-9f4a-a76da3af1a2b"
      },
      "source": [
        "mask_month = np.random.rand(len(df_month)) < 0.8\n",
        "df_train_month = df_month[mask_month]\n",
        "df_test_month = df_month[~mask_month]\n",
        "print('Training data set length='+str(len(df_train_month)))\n",
        "print('Testing data set length='+str(len(df_test_month)))"
      ],
      "execution_count": null,
      "outputs": [
        {
          "output_type": "stream",
          "text": [
            "Training data set length=1046\n",
            "Testing data set length=245\n"
          ],
          "name": "stdout"
        }
      ]
    },
    {
      "cell_type": "code",
      "metadata": {
        "id": "TSN4HqyfMgUO"
      },
      "source": [
        "# df_train_month.index = df_train_month.index.to_series().astype(str)\n",
        "# df_test_month.index = df_test_month.index.to_series().astype(str)\n"
      ],
      "execution_count": null,
      "outputs": []
    },
    {
      "cell_type": "code",
      "metadata": {
        "colab": {
          "base_uri": "https://localhost:8080/"
        },
        "id": "qN4iwst7Qasl",
        "outputId": "d023d037-e200-4478-dbe0-2bf3c3ff34ca"
      },
      "source": [
        "print(df_train_month.shape)\n",
        "print(df_test_month.shape)"
      ],
      "execution_count": null,
      "outputs": [
        {
          "output_type": "stream",
          "text": [
            "(1046, 13)\n",
            "(245, 13)\n"
          ],
          "name": "stdout"
        }
      ]
    },
    {
      "cell_type": "code",
      "metadata": {
        "colab": {
          "base_uri": "https://localhost:8080/",
          "height": 54
        },
        "id": "NGfvMdwEOQEI",
        "outputId": "280089fb-884b-47db-9d2e-a54a489425c0"
      },
      "source": [
        "expr_month = 'Admissions ~ Month_Apr  + Month_Aug + Month_Dec + Month_Feb + Month_Jan + Month_July + Month_Jun + Month_Mar + Month_May + Month_Nov + Month_Oct +  Month_Sep'\n",
        "expr_month"
      ],
      "execution_count": null,
      "outputs": [
        {
          "output_type": "execute_result",
          "data": {
            "application/vnd.google.colaboratory.intrinsic+json": {
              "type": "string"
            },
            "text/plain": [
              "'Admissions ~ Month_Apr  + Month_Aug + Month_Dec + Month_Feb + Month_Jan + Month_July + Month_Jun + Month_Mar + Month_May + Month_Nov + Month_Oct +  Month_Sep'"
            ]
          },
          "metadata": {
            "tags": []
          },
          "execution_count": 75
        }
      ]
    },
    {
      "cell_type": "code",
      "metadata": {
        "id": "suJyl3QSOb5r"
      },
      "source": [
        "y_train_month, X_train_month = dmatrices(expr_month, df_train_month, return_type='dataframe')\n",
        "y_test_month, X_test_month = dmatrices(expr_month, df_test_month, return_type='dataframe')"
      ],
      "execution_count": null,
      "outputs": []
    },
    {
      "cell_type": "code",
      "metadata": {
        "colab": {
          "base_uri": "https://localhost:8080/"
        },
        "id": "jAO2Uj7ysdMS",
        "outputId": "d2decb87-1cd4-44d3-e0d3-274b1efca3e4"
      },
      "source": [
        "X_train_month.columns"
      ],
      "execution_count": null,
      "outputs": [
        {
          "output_type": "execute_result",
          "data": {
            "text/plain": [
              "Index(['Intercept', 'Month_Apr', 'Month_Aug', 'Month_Dec', 'Month_Feb',\n",
              "       'Month_Jan', 'Month_July', 'Month_Jun', 'Month_Mar', 'Month_May',\n",
              "       'Month_Nov', 'Month_Oct', 'Month_Sep'],\n",
              "      dtype='object')"
            ]
          },
          "metadata": {
            "tags": []
          },
          "execution_count": 77
        }
      ]
    },
    {
      "cell_type": "code",
      "metadata": {
        "id": "OGiNihKksmvy"
      },
      "source": [
        "X_train_month.drop('Intercept', axis=1, inplace=True)\n",
        "X_test_month.drop('Intercept', axis=1, inplace=True)"
      ],
      "execution_count": null,
      "outputs": []
    },
    {
      "cell_type": "code",
      "metadata": {
        "colab": {
          "base_uri": "https://localhost:8080/",
          "height": 388
        },
        "id": "JWLa-B2QsWO-",
        "outputId": "a95cea78-5c17-456f-a6ae-508d1408b52a"
      },
      "source": [
        "df_month.Admissions.plot(figsize=(15, 6))\n",
        "plt.show()"
      ],
      "execution_count": null,
      "outputs": [
        {
          "output_type": "display_data",
          "data": {
            "image/png": "[encoded data removed]",
            "text/plain": [
              "<Figure size 1080x432 with 1 Axes>"
            ]
          },
          "metadata": {
            "tags": [],
            "needs_background": "light"
          }
        }
      ]
    },
    {
      "cell_type": "code",
      "metadata": {
        "id": "QKBvBAnMwd7J"
      },
      "source": [
        "from statsmodels.tsa.stattools import adfuller\n",
        "def test_stationarity(ts):\n",
        "    #Determing rolling statistics\n",
        "  rolmean = pd.Series(ts).rolling(window=5).mean()\n",
        "  rolstd = pd.Series(ts).rolling(window=5).std()\n",
        "#Plot rolling statistics:\n",
        "  plt.plot(ts, color='blue',label='Original')\n",
        "  plt.plot(rolmean, color='red', label='Rolling Mean')\n",
        "  plt.plot(rolstd, color='black', label = 'Rolling Std')\n",
        "  plt.legend(loc='best')\n",
        "  plt.title('Rolling Mean & Standard Deviation')\n",
        "  plt.show()\n",
        "    #Perform Dickey-Fuller test:\n",
        "  print('Results of Dickey-Fuller Test:')\n",
        "  dftest = adfuller(ts, autolag='AIC')\n",
        "  dfoutput = pd.Series(dftest[0:4], index=['Test Statistic','p-value','#Lags Used','Number of Observations Used'])\n",
        "  for key,value in dftest[4].items():\n",
        "    dfoutput['Critical Value (%s)'%key] = value\n",
        "    print(dfoutput)"
      ],
      "execution_count": null,
      "outputs": []
    },
    {
      "cell_type": "code",
      "metadata": {
        "colab": {
          "base_uri": "https://localhost:8080/",
          "height": 655
        },
        "id": "TxzVrs7Ew42H",
        "outputId": "c749edff-67b0-4757-8428-4925574a3e6d"
      },
      "source": [
        "test_stationarity(df_month.Admissions)"
      ],
      "execution_count": null,
      "outputs": [
        {
          "output_type": "display_data",
          "data": {
            "image/png": "[encoded data removed]",
            "text/plain": [
              "<Figure size 432x288 with 1 Axes>"
            ]
          },
          "metadata": {
            "tags": [],
            "needs_background": "light"
          }
        },
        {
          "output_type": "stream",
          "text": [
            "Results of Dickey-Fuller Test:\n",
            "Test Statistic                   -0.429947\n",
            "p-value                           0.904977\n",
            "#Lags Used                       13.000000\n",
            "Number of Observations Used    1277.000000\n",
            "Critical Value (1%)              -3.435481\n",
            "dtype: float64\n",
            "Test Statistic                   -0.429947\n",
            "p-value                           0.904977\n",
            "#Lags Used                       13.000000\n",
            "Number of Observations Used    1277.000000\n",
            "Critical Value (1%)              -3.435481\n",
            "Critical Value (5%)              -2.863806\n",
            "dtype: float64\n",
            "Test Statistic                   -0.429947\n",
            "p-value                           0.904977\n",
            "#Lags Used                       13.000000\n",
            "Number of Observations Used    1277.000000\n",
            "Critical Value (1%)              -3.435481\n",
            "Critical Value (5%)              -2.863806\n",
            "Critical Value (10%)             -2.567976\n",
            "dtype: float64\n"
          ],
          "name": "stdout"
        }
      ]
    },
    {
      "cell_type": "code",
      "metadata": {
        "colab": {
          "base_uri": "https://localhost:8080/"
        },
        "id": "QQm0tlfWOrKu",
        "outputId": "894b6c5b-3a6f-4e59-a396-0bd5e265383b"
      },
      "source": [
        "olsr_month_results = smf.ols(expr_month, df_train_month).fit()\n",
        "olsr_month_results.params"
      ],
      "execution_count": null,
      "outputs": [
        {
          "output_type": "execute_result",
          "data": {
            "text/plain": [
              "Intercept     42.217966\n",
              "Month_Apr      2.633098\n",
              "Month_Aug      3.299681\n",
              "Month_Dec      3.682034\n",
              "Month_Feb     -0.265585\n",
              "Month_Jan      5.298517\n",
              "Month_July     6.372395\n",
              "Month_Jun      2.322264\n",
              "Month_Mar      4.838852\n",
              "Month_May      3.177383\n",
              "Month_Nov      2.271164\n",
              "Month_Oct      4.119383\n",
              "Month_Sep      4.468781\n",
              "dtype: float64"
            ]
          },
          "metadata": {
            "tags": []
          },
          "execution_count": 82
        }
      ]
    },
    {
      "cell_type": "code",
      "metadata": {
        "colab": {
          "base_uri": "https://localhost:8080/"
        },
        "id": "TQR1lef4Ov1u",
        "outputId": "506d12ab-d98d-4261-c0cb-bb9c7a87bdda"
      },
      "source": [
        "print(olsr_month_results.summary())"
      ],
      "execution_count": null,
      "outputs": [
        {
          "output_type": "stream",
          "text": [
            "                            OLS Regression Results                            \n",
            "==============================================================================\n",
            "Dep. Variable:             Admissions   R-squared:                       0.017\n",
            "Model:                            OLS   Adj. R-squared:                  0.006\n",
            "Method:                 Least Squares   F-statistic:                     1.598\n",
            "Date:                Thu, 13 May 2021   Prob (F-statistic):             0.0937\n",
            "Time:                        02:57:56   Log-Likelihood:                -4127.0\n",
            "No. Observations:                1046   AIC:                             8278.\n",
            "Df Residuals:                    1034   BIC:                             8337.\n",
            "Df Model:                          11                                         \n",
            "Covariance Type:            nonrobust                                         \n",
            "==============================================================================\n",
            "                 coef    std err          t      P>|t|      [0.025      0.975]\n",
            "------------------------------------------------------------------------------\n",
            "Intercept     42.2180      0.359    117.455      0.000      41.513      42.923\n",
            "Month_Apr      2.6331      1.247      2.112      0.035       0.187       5.080\n",
            "Month_Aug      3.2997      1.306      2.527      0.012       0.737       5.862\n",
            "Month_Dec      3.6820      1.272      2.895      0.004       1.186       6.178\n",
            "Month_Feb     -0.2656      1.313     -0.202      0.840      -2.842       2.311\n",
            "Month_Jan      5.2985      1.265      4.187      0.000       2.815       7.782\n",
            "Month_July     6.3724      1.320      4.826      0.000       3.782       8.963\n",
            "Month_Jun      2.3223      1.292      1.798      0.073      -0.213       4.857\n",
            "Month_Mar      4.8389      1.285      3.765      0.000       2.317       7.361\n",
            "Month_May      3.1774      1.299      2.446      0.015       0.629       5.726\n",
            "Month_Nov      2.2712      1.259      1.804      0.072      -0.200       4.742\n",
            "Month_Oct      4.1194      1.320      3.120      0.002       1.529       6.710\n",
            "Month_Sep      4.4688      1.320      3.385      0.001       1.878       7.060\n",
            "==============================================================================\n",
            "Omnibus:                      429.691   Durbin-Watson:                   0.604\n",
            "Prob(Omnibus):                  0.000   Jarque-Bera (JB):             1685.530\n",
            "Skew:                          -1.976   Prob(JB):                         0.00\n",
            "Kurtosis:                       7.802   Cond. No.                     3.16e+15\n",
            "==============================================================================\n",
            "\n",
            "Warnings:\n",
            "[1] Standard Errors assume that the covariance matrix of the errors is correctly specified.\n",
            "[2] The smallest eigenvalue is 1.14e-28. This might indicate that there are\n",
            "strong multicollinearity problems or that the design matrix is singular.\n"
          ],
          "name": "stdout"
        }
      ]
    },
    {
      "cell_type": "code",
      "metadata": {
        "id": "NUvlEx9YRQTZ",
        "colab": {
          "base_uri": "https://localhost:8080/"
        },
        "outputId": "57e38a2c-e307-4413-bc3e-a935322c9f41"
      },
      "source": [
        "olsr_month_predictions = olsr_month_results.get_prediction(X_test_month)\n",
        "olsr_month_predictions"
      ],
      "execution_count": null,
      "outputs": [
        {
          "output_type": "execute_result",
          "data": {
            "text/plain": [
              "<statsmodels.regression._prediction.PredictionResults at 0x7f5c265c1710>"
            ]
          },
          "metadata": {
            "tags": []
          },
          "execution_count": 84
        }
      ]
    },
    {
      "cell_type": "code",
      "metadata": {
        "colab": {
          "base_uri": "https://localhost:8080/"
        },
        "id": "var3Okm7gdcM",
        "outputId": "d55ca80b-23ca-4302-c3a6-67b799a1fb76"
      },
      "source": [
        "predictions_summary_frame_monthly = olsr_month_predictions.summary_frame()\n",
        "print(predictions_summary_frame_monthly)\n"
      ],
      "execution_count": null,
      "outputs": [
        {
          "output_type": "stream",
          "text": [
            "          mean   mean_se  ...  obs_ci_lower  obs_ci_upper\n",
            "0    46.686747  1.381134  ...     21.847856     71.525638\n",
            "1    41.952381  1.372888  ...     17.115250     66.789511\n",
            "2    44.851064  1.297809  ...     20.029481     69.672647\n",
            "3    46.686747  1.381134  ...     21.847856     71.525638\n",
            "4    41.952381  1.372888  ...     17.115250     66.789511\n",
            "..         ...       ...  ...           ...           ...\n",
            "240  46.686747  1.381134  ...     21.847856     71.525638\n",
            "241  44.540230  1.349010  ...     19.708138     69.372322\n",
            "242  45.900000  1.326336  ...     21.072611     70.727389\n",
            "243  47.516484  1.319028  ...     22.690594     72.342373\n",
            "244  41.952381  1.372888  ...     17.115250     66.789511\n",
            "\n",
            "[245 rows x 6 columns]\n"
          ],
          "name": "stdout"
        }
      ]
    },
    {
      "cell_type": "code",
      "metadata": {
        "id": "9qxtk-v9TwZ4",
        "colab": {
          "base_uri": "https://localhost:8080/"
        },
        "outputId": "cfd69339-8059-4bcf-f5b4-42f57f25625e"
      },
      "source": [
        "mse_month_model = mean_squared_error(y_test_month, predictions_summary_frame_monthly['mean'])\n",
        "mae_month_model = mean_absolute_error(y_test_month,predictions_summary_frame_monthly['mean'])\n",
        "\n",
        "print(\"Monthly Model | MAE \", mse_month_model)\n",
        "print(\"Monthly Model | MSE \", mae_month_model)"
      ],
      "execution_count": null,
      "outputs": [
        {
          "output_type": "stream",
          "text": [
            "Monthly Model | MAE  189.7236039508715\n",
            "Monthly Model | MSE  9.018370298856933\n"
          ],
          "name": "stdout"
        }
      ]
    },
    {
      "cell_type": "code",
      "metadata": {
        "colab": {
          "base_uri": "https://localhost:8080/"
        },
        "id": "TBfAh4PEn7uo",
        "outputId": "b8efc342-4b2e-4201-a6e3-b3e62bb8f3d2"
      },
      "source": [
        "predictions_summary_frame_monthly['mean']"
      ],
      "execution_count": null,
      "outputs": [
        {
          "output_type": "execute_result",
          "data": {
            "text/plain": [
              "0      46.686747\n",
              "1      41.952381\n",
              "2      44.851064\n",
              "3      46.686747\n",
              "4      41.952381\n",
              "         ...    \n",
              "240    46.686747\n",
              "241    44.540230\n",
              "242    45.900000\n",
              "243    47.516484\n",
              "244    41.952381\n",
              "Name: mean, Length: 245, dtype: float64"
            ]
          },
          "metadata": {
            "tags": []
          },
          "execution_count": 87
        }
      ]
    },
    {
      "cell_type": "code",
      "metadata": {
        "colab": {
          "base_uri": "https://localhost:8080/",
          "height": 450
        },
        "id": "-GInB8GSrNOY",
        "outputId": "b8f959b7-111d-4a03-bcc9-1a62e7098858"
      },
      "source": [
        "y_test_month"
      ],
      "execution_count": null,
      "outputs": [
        {
          "output_type": "execute_result",
          "data": {
            "text/html": [
              "<div>\n",
              "<style scoped>\n",
              "    .dataframe tbody tr th:only-of-type {\n",
              "        vertical-align: middle;\n",
              "    }\n",
              "\n",
              "    .dataframe tbody tr th {\n",
              "        vertical-align: top;\n",
              "    }\n",
              "\n",
              "    .dataframe thead th {\n",
              "        text-align: right;\n",
              "    }\n",
              "</style>\n",
              "<table border=\"1\" class=\"dataframe\">\n",
              "  <thead>\n",
              "    <tr style=\"text-align: right;\">\n",
              "      <th></th>\n",
              "      <th>Admissions</th>\n",
              "    </tr>\n",
              "    <tr>\n",
              "      <th>Period</th>\n",
              "      <th></th>\n",
              "    </tr>\n",
              "  </thead>\n",
              "  <tbody>\n",
              "    <tr>\n",
              "      <th>2100-09</th>\n",
              "      <td>51.0</td>\n",
              "    </tr>\n",
              "    <tr>\n",
              "      <th>2101-02</th>\n",
              "      <td>36.0</td>\n",
              "    </tr>\n",
              "    <tr>\n",
              "      <th>2102-04</th>\n",
              "      <td>42.0</td>\n",
              "    </tr>\n",
              "    <tr>\n",
              "      <th>2102-09</th>\n",
              "      <td>46.0</td>\n",
              "    </tr>\n",
              "    <tr>\n",
              "      <th>2103-02</th>\n",
              "      <td>47.0</td>\n",
              "    </tr>\n",
              "    <tr>\n",
              "      <th>...</th>\n",
              "      <td>...</td>\n",
              "    </tr>\n",
              "    <tr>\n",
              "      <th>2205-09</th>\n",
              "      <td>2.0</td>\n",
              "    </tr>\n",
              "    <tr>\n",
              "      <th>2207-06</th>\n",
              "      <td>1.0</td>\n",
              "    </tr>\n",
              "    <tr>\n",
              "      <th>2207-12</th>\n",
              "      <td>1.0</td>\n",
              "    </tr>\n",
              "    <tr>\n",
              "      <th>2208-01</th>\n",
              "      <td>1.0</td>\n",
              "    </tr>\n",
              "    <tr>\n",
              "      <th>2209-02</th>\n",
              "      <td>1.0</td>\n",
              "    </tr>\n",
              "  </tbody>\n",
              "</table>\n",
              "<p>245 rows × 1 columns</p>\n",
              "</div>"
            ],
            "text/plain": [
              "         Admissions\n",
              "Period             \n",
              "2100-09        51.0\n",
              "2101-02        36.0\n",
              "2102-04        42.0\n",
              "2102-09        46.0\n",
              "2103-02        47.0\n",
              "...             ...\n",
              "2205-09         2.0\n",
              "2207-06         1.0\n",
              "2207-12         1.0\n",
              "2208-01         1.0\n",
              "2209-02         1.0\n",
              "\n",
              "[245 rows x 1 columns]"
            ]
          },
          "metadata": {
            "tags": []
          },
          "execution_count": 88
        }
      ]
    },
    {
      "cell_type": "code",
      "metadata": {
        "id": "V014kbwORa8g"
      },
      "source": [
        "# monthly_predictions_summary_frame = olsr_month_predictions.summary_frame()\n",
        "# print(monthly_predictions_summary_frame.columns)"
      ],
      "execution_count": null,
      "outputs": []
    },
    {
      "cell_type": "code",
      "metadata": {
        "colab": {
          "base_uri": "https://localhost:8080/",
          "height": 360
        },
        "id": "fbHgDKVaRpHc",
        "outputId": "24c709b2-e0c6-4c5c-b242-7422241edb80"
      },
      "source": [
        "monthly_predicted_counts=predictions_summary_frame_monthly['mean']\n",
        "#monthly_predictions_summary_frame['obs_ci_upper']\n",
        "monthly_actual_counts = y_test_month['Admissions']\n",
        "\n",
        "fig = plt.figure()\n",
        "plt.figure(figsize=(24, 6), dpi=80)\n",
        "fig.suptitle('Predicted and Actual Monthly Admissions ')\n",
        "predicted, = plt.plot(X_test_month.index, monthly_predicted_counts, color='purple', label = 'Predicted')\n",
        "actual, = plt.plot(X_test_month.index, monthly_actual_counts, label='Actual counts')\n",
        "\n",
        "\n",
        "plt.legend(handles=[predicted, actual])\n",
        "\n",
        "plt.show()"
      ],
      "execution_count": null,
      "outputs": [
        {
          "output_type": "display_data",
          "data": {
            "text/plain": [
              "<Figure size 432x288 with 0 Axes>"
            ]
          },
          "metadata": {
            "tags": []
          }
        },
        {
          "output_type": "display_data",
          "data": {
            "image/png": "[encoded data removed]",
            "text/plain": [
              "<Figure size 1920x480 with 1 Axes>"
            ]
          },
          "metadata": {
            "tags": [],
            "needs_background": "light"
          }
        }
      ]
    },
    {
      "cell_type": "code",
      "metadata": {
        "colab": {
          "base_uri": "https://localhost:8080/",
          "height": 350
        },
        "id": "-HDN9hLXSWq_",
        "outputId": "b9dfe0db-958f-4aab-b384-9806034428b9"
      },
      "source": [
        "sns.regplot(monthly_actual_counts, monthly_predicted_counts, marker=\"+\")"
      ],
      "execution_count": null,
      "outputs": [
        {
          "output_type": "stream",
          "text": [
            "/usr/local/lib/python3.7/dist-packages/seaborn/_decorators.py:43: FutureWarning: Pass the following variables as keyword args: x, y. From version 0.12, the only valid positional argument will be `data`, and passing other arguments without an explicit keyword will result in an error or misinterpretation.\n",
            "  FutureWarning\n"
          ],
          "name": "stderr"
        },
        {
          "output_type": "execute_result",
          "data": {
            "text/plain": [
              "<matplotlib.axes._subplots.AxesSubplot at 0x7f5c0b992890>"
            ]
          },
          "metadata": {
            "tags": []
          },
          "execution_count": 91
        },
        {
          "output_type": "display_data",
          "data": {
            "image/png": "[encoded data removed]",
            "text/plain": [
              "<Figure size 432x288 with 1 Axes>"
            ]
          },
          "metadata": {
            "tags": [],
            "needs_background": "light"
          }
        }
      ]
    },
    {
      "cell_type": "code",
      "metadata": {
        "colab": {
          "base_uri": "https://localhost:8080/",
          "height": 265
        },
        "id": "2agOgzBnUjwI",
        "outputId": "7fc8ef23-035e-4bde-a6a4-14f7693c7357"
      },
      "source": [
        "plt.hist(olsr_month_results.resid, bins=20)\n",
        "plt.show()"
      ],
      "execution_count": null,
      "outputs": [
        {
          "output_type": "display_data",
          "data": {
            "image/png": "[encoded data removed]",
            "text/plain": [
              "<Figure size 432x288 with 1 Axes>"
            ]
          },
          "metadata": {
            "tags": [],
            "needs_background": "light"
          }
        }
      ]
    },
    {
      "cell_type": "code",
      "metadata": {
        "colab": {
          "base_uri": "https://localhost:8080/",
          "height": 281
        },
        "id": "3vp3UBWSU9cE",
        "outputId": "12b9f9fe-4618-4eb5-8388-e78a0c928967"
      },
      "source": [
        "plot_acf(olsr_month_results.resid, title='ACF of residual errors')\n",
        "plt.show()"
      ],
      "execution_count": null,
      "outputs": [
        {
          "output_type": "display_data",
          "data": {
            "image/png": "[encoded data removed]",
            "text/plain": [
              "<Figure size 432x288 with 1 Axes>"
            ]
          },
          "metadata": {
            "tags": [],
            "needs_background": "light"
          }
        }
      ]
    },
    {
      "cell_type": "markdown",
      "metadata": {
        "id": "uDgyA4pinw1a"
      },
      "source": [
        "## ARIMA"
      ]
    },
    {
      "cell_type": "code",
      "metadata": {
        "colab": {
          "base_uri": "https://localhost:8080/"
        },
        "id": "weJhTpz0nwSY",
        "outputId": "e2a19235-ab84-4030-9098-eb2dcc20b3c5"
      },
      "source": [
        "from statsmodels.tsa.arima_model import ARIMA\n",
        "\n",
        "# 1,1,2 ARIMA Model\n",
        "model = ARIMA(df_month.Admissions, order=(1,1,2))\n",
        "model_fit = model.fit(disp=0)\n",
        "print(model_fit.summary())"
      ],
      "execution_count": null,
      "outputs": [
        {
          "output_type": "stream",
          "text": [
            "/usr/local/lib/python3.7/dist-packages/statsmodels/tsa/base/tsa_model.py:219: ValueWarning: A date index has been provided, but it has no associated frequency information and so will be ignored when e.g. forecasting.\n",
            "  ' ignored when e.g. forecasting.', ValueWarning)\n",
            "/usr/local/lib/python3.7/dist-packages/statsmodels/tsa/base/tsa_model.py:219: ValueWarning: A date index has been provided, but it has no associated frequency information and so will be ignored when e.g. forecasting.\n",
            "  ' ignored when e.g. forecasting.', ValueWarning)\n"
          ],
          "name": "stderr"
        },
        {
          "output_type": "stream",
          "text": [
            "                             ARIMA Model Results                              \n",
            "==============================================================================\n",
            "Dep. Variable:           D.Admissions   No. Observations:                 1290\n",
            "Model:                 ARIMA(1, 1, 2)   Log Likelihood               -4441.628\n",
            "Method:                       css-mle   S.D. of innovations              7.566\n",
            "Date:                Thu, 13 May 2021   AIC                           8893.256\n",
            "Time:                        02:58:00   BIC                           8919.068\n",
            "Sample:                             1   HQIC                          8902.945\n",
            "                                                                              \n",
            "======================================================================================\n",
            "                         coef    std err          z      P>|z|      [0.025      0.975]\n",
            "--------------------------------------------------------------------------------------\n",
            "const                 -0.0258      0.039     -0.663      0.507      -0.102       0.050\n",
            "ar.L1.D.Admissions     0.6204      0.308      2.017      0.044       0.018       1.223\n",
            "ma.L1.D.Admissions    -1.4864      0.299     -4.978      0.000      -2.072      -0.901\n",
            "ma.L2.D.Admissions     0.5562      0.247      2.252      0.024       0.072       1.040\n",
            "                                    Roots                                    \n",
            "=============================================================================\n",
            "                  Real          Imaginary           Modulus         Frequency\n",
            "-----------------------------------------------------------------------------\n",
            "AR.1            1.6119           +0.0000j            1.6119            0.0000\n",
            "MA.1            1.3362           -0.1115j            1.3409           -0.0133\n",
            "MA.2            1.3362           +0.1115j            1.3409            0.0133\n",
            "-----------------------------------------------------------------------------\n"
          ],
          "name": "stdout"
        }
      ]
    },
    {
      "cell_type": "code",
      "metadata": {
        "colab": {
          "base_uri": "https://localhost:8080/",
          "height": 279
        },
        "id": "tKMx_o68tXVu",
        "outputId": "ac2b4b2f-b430-479b-83b3-2f84cfd1e395"
      },
      "source": [
        "# Actual vs Fitted\n",
        "model_fit.plot_predict(dynamic=False)\n",
        "plt.show()"
      ],
      "execution_count": null,
      "outputs": [
        {
          "output_type": "display_data",
          "data": {
            "image/png": "[encoded data removed]",
            "text/plain": [
              "<Figure size 432x288 with 1 Axes>"
            ]
          },
          "metadata": {
            "tags": [],
            "needs_background": "light"
          }
        }
      ]
    },
    {
      "cell_type": "code",
      "metadata": {
        "id": "9X2db6ECIIIK"
      },
      "source": [
        "# target = df_month['Admissions']\n",
        "# X = df_month\n",
        "# X.drop('Admissions', axis = 1, inplace= True)\n",
        "# X.head()"
      ],
      "execution_count": null,
      "outputs": []
    },
    {
      "cell_type": "code",
      "metadata": {
        "id": "AQDyeximIZPL"
      },
      "source": [
        "# X_train, X_test, y_train, y_test = train_test_split(X,target, random_state= 2, test_size = 0.2)\n",
        "# print(f\"Train shape {X_train.shape}\")\n",
        "# print(f\"Test Shape {X_test.shape_}\")"
      ],
      "execution_count": null,
      "outputs": []
    },
    {
      "cell_type": "code",
      "metadata": {
        "id": "io9ufLrb6XZG"
      },
      "source": [
        "# linear_model = LinearRegression()\n",
        "# linear_model.fit(X_train,y_train)\n",
        "# print(f\"Coefficient/ Slope for {linear_model.coef_}\")\n",
        "# print(\"Intercept\", linear_model.intercept_)\n",
        "# predicted = linear_model.predict(X_test)\n",
        "# sns.regplot(y_test,predicted)"
      ],
      "execution_count": null,
      "outputs": []
    },
    {
      "cell_type": "code",
      "metadata": {
        "id": "uN6CCVHGLK7r"
      },
      "source": [
        "# fig = plt.figure()\n",
        "# plt.figure(figsize=(24, 6), dpi=80)\n",
        "# fig.suptitle('Predicted and Actual Monthly Admissions ')\n",
        "\n",
        "# plt.plot(X_test.index[:25], predicted[:25], color='purple', linestyle='dashed', linewidth=2, label = 'Predicted')\n",
        "# plt.plot(X_test.index[:25], y_test[:25], 'go-', label='Actual counts')\n",
        "# #plt.legend(handles=[predicted, actual])"
      ],
      "execution_count": null,
      "outputs": []
    },
    {
      "cell_type": "code",
      "metadata": {
        "id": "aYkR4nQjROEj"
      },
      "source": [
        ""
      ],
      "execution_count": null,
      "outputs": []
    },
    {
      "cell_type": "code",
      "metadata": {
        "id": "FbrQul5E8H3V"
      },
      "source": [
        "# mse_linear_model = mean_squared_error(y_test,y_predicted)\n",
        "# mae_linear_model = mean_absolute_error(y_test,y_predicted)"
      ],
      "execution_count": null,
      "outputs": []
    },
    {
      "cell_type": "code",
      "metadata": {
        "id": "RFGC6uLN8JwI"
      },
      "source": [
        "# print(f\"MSE for Linear Model {mse_linear_model}\")\n",
        "# print(f\"MAE for Linear Model {mae_linear_model}\")"
      ],
      "execution_count": null,
      "outputs": []
    },
    {
      "cell_type": "code",
      "metadata": {
        "id": "ratp_6Ha9bu8"
      },
      "source": [
        "# sns.regplot(y_test,y_predicted)"
      ],
      "execution_count": null,
      "outputs": []
    }
  ]
}